{
  "nbformat": 4,
  "nbformat_minor": 0,
  "metadata": {
    "colab": {
      "provenance": [],
      "authorship_tag": "ABX9TyOTMp8SbiNznv6WZ/ZKzl9Z",
      "include_colab_link": true
    },
    "kernelspec": {
      "name": "python3",
      "display_name": "Python 3"
    },
    "language_info": {
      "name": "python"
    }
  },
  "cells": [
    {
      "cell_type": "markdown",
      "metadata": {
        "id": "view-in-github",
        "colab_type": "text"
      },
      "source": [
        "<a href=\"https://colab.research.google.com/github/ShubhamMahajan880/Impact-Training-_Python-Notes-/blob/main/13_Try%26Except.ipynb\" target=\"_parent\"><img src=\"https://colab.research.google.com/assets/colab-badge.svg\" alt=\"Open In Colab\"/></a>"
      ]
    },
    {
      "cell_type": "markdown",
      "source": [
        "# **Try and except** :-\n",
        "\n",
        " The statement which produce the exceptions and the other statements which depends on the exceptions, we have to keep inside the Try Block\n",
        "\n",
        " 1 - We have to pass corresponding exception class name as a argument to except block\n",
        "\n",
        "2 - Generally user friendly error messages will be given in the except block."
      ],
      "metadata": {
        "id": "0ZTy0oWAtABi"
      }
    },
    {
      "cell_type": "code",
      "execution_count": null,
      "metadata": {
        "id": "AqNnxe4TjPK8",
        "colab": {
          "base_uri": "https://localhost:8080/"
        },
        "outputId": "966ef19a-0d03-4030-f64a-de394039e356"
      },
      "outputs": [
        {
          "output_type": "stream",
          "name": "stdout",
          "text": [
            "begin\n",
            "56\n",
            "asd\n",
            "Input should be a int.\n",
            "end\n"
          ]
        }
      ],
      "source": [
        "print(\"begin\")\n",
        "try:\n",
        "  a = int(input())\n",
        "  b = int(input())\n",
        "  print(a/b)\n",
        "except(ValueError):\n",
        "  print(\"Input should be a int.\")\n",
        "print(\"end\")"
      ]
    },
    {
      "cell_type": "markdown",
      "source": [
        "# **Multiple except block for a single try block** :-"
      ],
      "metadata": {
        "id": "-Z8L0mottNwY"
      }
    },
    {
      "cell_type": "code",
      "source": [
        "print(\"begin\")\n",
        "try:\n",
        "  a = int(input())\n",
        "  b = int(input())\n",
        "  print(a/b)\n",
        "except(ValueError):\n",
        "  print(\"Input should be a int.\")\n",
        "except(ZeroDivisionError):\n",
        "  print(\"Second input must be a non-zero number.\")\n",
        "print(\"end\")"
      ],
      "metadata": {
        "colab": {
          "base_uri": "https://localhost:8080/"
        },
        "id": "smWMpUgptSOM",
        "outputId": "2f21c206-c5ec-45fa-a947-2468567d17a7"
      },
      "execution_count": null,
      "outputs": [
        {
          "output_type": "stream",
          "name": "stdout",
          "text": [
            "begin\n",
            "10\n",
            "0\n",
            "Second input must be a non-zero number.\n",
            "end\n"
          ]
        }
      ]
    },
    {
      "cell_type": "markdown",
      "source": [
        "# **Finally Block** :-"
      ],
      "metadata": {
        "id": "b5CYb3hatWU8"
      }
    },
    {
      "cell_type": "code",
      "source": [
        "print(\"begin\")\n",
        "try:\n",
        "  a = int(input())\n",
        "  b = int(input())\n",
        "  print(a/b)\n",
        "except(ValueError):\n",
        "  print(\"Input should be a int.\")\n",
        "except(ZeroDivisionError):\n",
        "  print(\"Second input must be a non-zero number.\")\n",
        "finally:\n",
        "  print(\"Welcome\")\n",
        "print(\"end\")"
      ],
      "metadata": {
        "colab": {
          "base_uri": "https://localhost:8080/"
        },
        "id": "g0kfq2kwtZGC",
        "outputId": "c6761cd8-a30a-4e67-8ae4-c91bc4c01fb3"
      },
      "execution_count": null,
      "outputs": [
        {
          "output_type": "stream",
          "name": "stdout",
          "text": [
            "begin\n",
            "52\n",
            "26\n",
            "2.0\n",
            "Welcome\n",
            "end\n"
          ]
        }
      ]
    },
    {
      "cell_type": "markdown",
      "source": [
        "# **Assert block** :-"
      ],
      "metadata": {
        "id": "2A-6jGHBteBs"
      }
    },
    {
      "cell_type": "code",
      "source": [
        "def even(n):\n",
        "  assert n%2 == 0, \"The number shold be even\"\n",
        "  print(n, \"is even\")\n",
        "try:\n",
        "  even(10)\n",
        "  even(5) ## --> It will give assertion error that the number should be even\n",
        "except(AssertionError):\n",
        "  print(\"The input number is not even.\")"
      ],
      "metadata": {
        "colab": {
          "base_uri": "https://localhost:8080/"
        },
        "id": "T5W_k-jHtfXj",
        "outputId": "54554a6b-3c1b-4e43-bd8f-b2c098719327"
      },
      "execution_count": null,
      "outputs": [
        {
          "output_type": "stream",
          "name": "stdout",
          "text": [
            "10 is even\n",
            "The input number is not even.\n"
          ]
        }
      ]
    },
    {
      "cell_type": "markdown",
      "source": [
        "**Qun :- Make a program which raises an error when an input number is less than 3 or greater than 15**"
      ],
      "metadata": {
        "id": "PjFtfFc3tipm"
      }
    },
    {
      "cell_type": "code",
      "source": [
        "def f(n):\n",
        "  assert n>=3 and n<=15, \"The number should be greater than 3 and less than 15\"\n",
        "  print(\"The number is:\",n)\n",
        "n = int(input(\"Enter number: \"))\n",
        "try:\n",
        "  f(n)\n",
        "except(AssertionError):\n",
        "  print(\"The number should be greater than 3 and less than 15\")"
      ],
      "metadata": {
        "id": "2CCP9qyCtlIs",
        "outputId": "96df8e26-37ed-4e33-d0d7-710dab4fd35f",
        "colab": {
          "base_uri": "https://localhost:8080/"
        }
      },
      "execution_count": null,
      "outputs": [
        {
          "output_type": "stream",
          "name": "stdout",
          "text": [
            "Enter number: 15\n",
            "The number is: 15\n"
          ]
        }
      ]
    }
  ]
}