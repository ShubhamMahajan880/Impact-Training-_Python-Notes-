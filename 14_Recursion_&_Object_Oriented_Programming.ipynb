{
  "nbformat": 4,
  "nbformat_minor": 0,
  "metadata": {
    "colab": {
      "provenance": [],
      "authorship_tag": "ABX9TyOvAJG3Uu6G6GAlkrH2QYZA",
      "include_colab_link": true
    },
    "kernelspec": {
      "name": "python3",
      "display_name": "Python 3"
    },
    "language_info": {
      "name": "python"
    }
  },
  "cells": [
    {
      "cell_type": "markdown",
      "metadata": {
        "id": "view-in-github",
        "colab_type": "text"
      },
      "source": [
        "<a href=\"https://colab.research.google.com/github/ShubhamMahajan880/Impact-Training-_Python-Notes-/blob/main/14_Recursion_%26_Object_Oriented_Programming.ipynb\" target=\"_parent\"><img src=\"https://colab.research.google.com/assets/colab-badge.svg\" alt=\"Open In Colab\"/></a>"
      ]
    },
    {
      "cell_type": "markdown",
      "source": [
        "# Recursion :-\n",
        "\n",
        "1 - Function calling itsewlf is called as Recursion\n",
        "\n",
        "2 - using recursion we can reduce number of lines in our code\n",
        "\n",
        "3 - Recursion will take more stack memory"
      ],
      "metadata": {
        "id": "l1et_pUeSKo4"
      }
    },
    {
      "cell_type": "markdown",
      "source": [
        "**Qun :- WAP to find factorial of a number using recursion**:\n"
      ],
      "metadata": {
        "id": "bK6lmHi7SRNB"
      }
    },
    {
      "cell_type": "code",
      "source": [
        "def f(n):\n",
        "  if n==0:\n",
        "    return 1\n",
        "  else :\n",
        "    d=n*f(n-1)\n",
        "  return d\n",
        "\n",
        "s=f(5)\n",
        "print(s)\n",
        "\n"
      ],
      "metadata": {
        "colab": {
          "base_uri": "https://localhost:8080/"
        },
        "id": "PcfGVBZWScTq",
        "outputId": "b511d464-72f1-4560-b2c4-c7187bcbc433"
      },
      "execution_count": null,
      "outputs": [
        {
          "output_type": "stream",
          "name": "stdout",
          "text": [
            "120\n"
          ]
        }
      ]
    },
    {
      "cell_type": "markdown",
      "source": [
        "Qun :- Find the sum of 1-5 numbes using recursion"
      ],
      "metadata": {
        "id": "_CnxJlzPTjMc"
      }
    },
    {
      "cell_type": "code",
      "execution_count": null,
      "metadata": {
        "id": "ruPHdiUfSCfl"
      },
      "outputs": [],
      "source": [
        "def f(n):\n",
        "  if n==0:\n",
        "    return 0\n",
        "  else:\n",
        "    d=n+f(n-1)\n",
        "    return d\n",
        "  s=f(5)\n",
        "  print(s)\n"
      ]
    },
    {
      "cell_type": "markdown",
      "source": [
        "# **Object Oriented Programming :-**\n",
        "1 - In Procedure Oriented OProgramming we are declaring data as a global, then readable fun ans well as unreadable fun can also access the data then we are missing the security of our data.\n",
        "\n",
        "2 - We can also use the security with the help of Object Oriented Programming\n",
        "\n",
        "3 - Object Oriented Programming principles -\n",
        "\n",
        "# 1] --> Class -\n",
        " Class is a container which contains which contains data and related operations in a single entity\n",
        "\n",
        "* Class is a collection of Data Memeber & Member Function\n",
        "\n",
        "* Class is a collection of variables & Methods\n",
        "\n",
        "* Class is a collection of Data & Related Operations\n",
        "\n",
        "* Data can be represented by variables and operation can be represented by methods\n",
        "\n",
        "* Within a class we can declare three types of variables\n",
        "\n",
        "1 - Static variables\n",
        "\n",
        "2 - Non Static variables\n",
        "\n",
        "3 - Local Variables\n",
        "\n",
        "* We can define three types of methods within a class '\n",
        "\n",
        "1 - Static Method\n",
        "\n",
        "2 - Non Statitc Method\n",
        "\n",
        "3 - Class Method\n",
        "\n",
        "\n",
        "\n",
        "\n",
        "\n",
        "# 2] --> Object :-\n",
        "Object is instance of class that is by creating an object memory will be alloted for the data members of a class\n",
        "\n",
        "* When class is created memory will be alloted for the static variables and static methods\n",
        "\n",
        "* When Object is created memory will be alloted for the Non Static Variables and Non Static Methods\n",
        "\n",
        "\n",
        "\n",
        "=> **Static Variable :-** The variables which are declared within a class but outside of all methods, those variables are called as STATIC VARIABLES\n",
        "\n",
        "* We can access the static variable within a class by using the class name & Outside of a class by using the Class Name & Object name\n",
        "\n",
        "* If the data is common to all objects, then we can declare those variables as Static variable. For Static Variables memory is alloted when the class is loaded\n",
        "\n",
        "\n",
        "**._. Bole to** agar class k under h and kisi bhi method ya function k ander nahi h to Static Variable. understand as a local variable\n",
        "\n",
        "=> **Non-Static Variable :-** The Variables which are declared within a class and within a method, those variables are called as Non-Static Variables\n",
        "\n",
        "* We can access the Non Static variables within a Class by using \"self\" keyword & outside of a class by using \"Object name\"\n",
        "\n",
        "* If the data change from Object to Object we can declare that variable as \"Non-Static Variable\"\n",
        "\n",
        "=> **Non-Static Method :-** We can access the Non-Static Method by using \"OBJECT NAME\"\n",
        "\n",
        "* For Non-Static Method, memory is alloted, when Object is created\n",
        "\n",
        "* If any method has a default argument as a self that corresponding method will be called as \" Non-Static Method\"\n",
        "\n",
        "\n",
        "**._. Bole to** agar class ke bhi ander h and method k bhi under h to Non-Static or can be understand as Global variables\n",
        "\n",
        "=> **Static Method :-**  We can access the Static Method, by using the \"CLASS NAME\" for accessing the Non Static Method no need to create any object\n",
        "\n",
        "\n",
        "\n",
        "\n",
        "3 --> Encapsulation\n",
        "\n",
        "4 --> Inheritance\n",
        "\n",
        "5 --> Polymorphism\n",
        "\n",
        "6 --> Abstract Class and Interfaces\n",
        "\n"
      ],
      "metadata": {
        "id": "QZCyAunTUcii"
      }
    },
    {
      "cell_type": "markdown",
      "source": [
        "**Qun :- Given a string S consisting of lowercase Latin Letters. Fiond the first Non Repeating character in s**\n",
        "pRINT THE non repeating character availble otherwise,\n",
        "\n",
        "print the message \"Either all characters are repeating or string is empty.\" If it not there\n",
        "\n",
        "Sample Input\n",
        "\n",
        "greef\n",
        "\n",
        "Sample Output\n",
        "\n",
        "g"
      ],
      "metadata": {
        "id": "hWTa-BljbSf_"
      }
    },
    {
      "cell_type": "code",
      "source": [
        "s=input()\n",
        "for p in s:\n",
        "  if(s.count(p)==1):\n",
        "    print(p)\n",
        "    break\n",
        "  else:\n",
        "    print(\"empty\")\n"
      ],
      "metadata": {
        "colab": {
          "base_uri": "https://localhost:8080/"
        },
        "id": "DWQG3rNFYtSs",
        "outputId": "64031ab1-6790-4a58-b359-fee53326f592"
      },
      "execution_count": null,
      "outputs": [
        {
          "output_type": "stream",
          "name": "stdout",
          "text": [
            "aaditya\n",
            "empty\n",
            "empty\n",
            "d\n"
          ]
        }
      ]
    },
    {
      "cell_type": "markdown",
      "source": [
        "How to access a static variables within a class"
      ],
      "metadata": {
        "id": "BfR1NkVclcvm"
      }
    },
    {
      "cell_type": "code",
      "source": [
        "class test:\n",
        "  a=1000\n",
        "  b=2000\n",
        "  def display(self):\n",
        "    print(test.a,test.b)\n",
        "  def update(self):\n",
        "    test.a=test.a+10\n",
        "    test.b=test.b+20\n",
        "t1=test()\n",
        "t1.display()\n",
        "t1.update()\n"
      ],
      "metadata": {
        "colab": {
          "base_uri": "https://localhost:8080/"
        },
        "id": "1rX1Ujaicqek",
        "outputId": "89e38783-70f2-4afc-da6e-e56e7c592bdf"
      },
      "execution_count": null,
      "outputs": [
        {
          "output_type": "stream",
          "name": "stdout",
          "text": [
            "1000 2000\n"
          ]
        }
      ]
    },
    {
      "cell_type": "code",
      "source": [
        "class test:\n",
        "  a=1000\n",
        "  b=2000\n",
        "  def display(self):\n",
        "    print(test.a,test.b)\n",
        "  def update(self):\n",
        "    test.a=test.a+10\n",
        "    test.b=test.b+20\n",
        "t1=test()\n",
        "t1.display()\n",
        "t1.update()\n",
        "t1.display()\n",
        "t2=test()\n",
        "t2.display()\n",
        "\n"
      ],
      "metadata": {
        "colab": {
          "base_uri": "https://localhost:8080/"
        },
        "id": "OUMPWEI_koC2",
        "outputId": "49ebdd2f-28d7-4cc4-faf1-cc1e82ba6a4d"
      },
      "execution_count": null,
      "outputs": [
        {
          "output_type": "stream",
          "name": "stdout",
          "text": [
            "1000 2000\n",
            "1010 2020\n",
            "1010 2020\n"
          ]
        }
      ]
    },
    {
      "cell_type": "code",
      "source": [
        "class test:\n",
        "  a=1000\n",
        "  b=2000\n",
        "  def display(self):\n",
        "    print(test.a,test.b)\n",
        "  def update(self):\n",
        "    test.a=test.a+10\n",
        "    test.b=test.b+20\n",
        "t1=test()\n",
        "t1.display()\n",
        "t1.update()\n",
        "t1.display()\n",
        "t2=test()\n",
        "t2.display()\n",
        "t2.update()\n",
        "t2.display()\n",
        "\n",
        "# For updating first call vo update waala function and then for displaying call that display waala function\n"
      ],
      "metadata": {
        "colab": {
          "base_uri": "https://localhost:8080/"
        },
        "id": "KrSNBGBvkxvc",
        "outputId": "3b07d5ac-d254-4946-8ca5-be71ff4c2db2"
      },
      "execution_count": null,
      "outputs": [
        {
          "output_type": "stream",
          "name": "stdout",
          "text": [
            "1000 2000\n",
            "1010 2020\n",
            "1010 2020\n",
            "1020 2040\n"
          ]
        }
      ]
    },
    {
      "cell_type": "markdown",
      "source": [
        "Acdessing outside the class"
      ],
      "metadata": {
        "id": "JFQHNzv-mK-v"
      }
    },
    {
      "cell_type": "code",
      "source": [
        "class test:\n",
        "  a=1000\n",
        "  b=2000\n",
        "  def display(self):\n",
        "    print(test.a,test.b)\n",
        "  def update(self):\n",
        "    test.a=test.a+10\n",
        "    test.b=test.b+20\n",
        "print(test.a,test.b)\n",
        "t1=test()\n",
        "print(t1.a,t1.b)\n",
        "\n",
        "\n"
      ],
      "metadata": {
        "colab": {
          "base_uri": "https://localhost:8080/"
        },
        "id": "pyeWzPLUlwrF",
        "outputId": "b3d101c4-d88b-4494-d612-20b656d92470"
      },
      "execution_count": null,
      "outputs": [
        {
          "output_type": "stream",
          "name": "stdout",
          "text": [
            "1000 2000\n",
            "1000 2000\n"
          ]
        }
      ]
    },
    {
      "cell_type": "markdown",
      "source": [
        "For Non Static variables and Non Statoc Methods Self is very very important"
      ],
      "metadata": {
        "id": "_aM7qBMkocPJ"
      }
    },
    {
      "cell_type": "code",
      "source": [
        "class test:\n",
        "  def insert(self):\n",
        "    self.a=1000\n",
        "    self.b=2000\n",
        "  def display(self):\n",
        "    print(self.a,self.b)\n",
        "  def update(self):\n",
        "    self.a=self.a+10\n",
        "    self.b=self.b+10\n",
        "t1=test()\n",
        "t1.insert()\n",
        "t1.display()"
      ],
      "metadata": {
        "colab": {
          "base_uri": "https://localhost:8080/"
        },
        "id": "9jfDrJ_dmQQg",
        "outputId": "4dfa5a4c-4707-43e6-e832-849d25103abc"
      },
      "execution_count": null,
      "outputs": [
        {
          "output_type": "stream",
          "name": "stdout",
          "text": [
            "1000 2000\n"
          ]
        }
      ]
    },
    {
      "cell_type": "code",
      "source": [
        "class test:\n",
        "  def insert(self):\n",
        "    self.a=1000\n",
        "    self.b=2000\n",
        "  def display(self):\n",
        "    print(self.a,self.b)\n",
        "  def update(self):\n",
        "    self.a=self.a+10\n",
        "    self.b=self.b+10\n",
        "t1=test()\n",
        "t1.insert()\n",
        "t1.display()\n",
        "t1.update()\n",
        "t1.display()\n",
        "t2=test()\n",
        "t2.insert()\n",
        "t2.display()\n"
      ],
      "metadata": {
        "colab": {
          "base_uri": "https://localhost:8080/"
        },
        "id": "NBORJBO4pIs_",
        "outputId": "a98b4a0c-bf54-4abd-f5f2-738ba0fce6b8"
      },
      "execution_count": null,
      "outputs": [
        {
          "output_type": "stream",
          "name": "stdout",
          "text": [
            "1000 2000\n",
            "1010 2010\n",
            "1000 2000\n"
          ]
        }
      ]
    },
    {
      "cell_type": "markdown",
      "source": [
        "Assigning Local variable value to Non Static Variable"
      ],
      "metadata": {
        "id": "zptcCVenqCi5"
      }
    },
    {
      "cell_type": "code",
      "source": [
        "class test:\n",
        "  def insert(self,a,b):\n",
        "    self.a=a\n",
        "    self.b=b\n",
        "  def display(self):\n",
        "      print(self.a,self.b)\n",
        "\n",
        "t1=test()\n",
        "t1.insert(10,20)\n",
        "t1.display()\n",
        "t2=test()\n",
        "t2.insert(30,40)\n",
        "t2.display()"
      ],
      "metadata": {
        "colab": {
          "base_uri": "https://localhost:8080/"
        },
        "id": "UVD4CMOlqJUs",
        "outputId": "cb864313-2b52-4337-857f-0e5588172560"
      },
      "execution_count": null,
      "outputs": [
        {
          "output_type": "stream",
          "name": "stdout",
          "text": [
            "10 20\n",
            "30 40\n"
          ]
        }
      ]
    },
    {
      "cell_type": "code",
      "source": [
        "class test:\n",
        "  def insert(self,a,b):\n",
        "    self.a=a\n",
        "    self.b=b\n",
        "  def display(self):\n",
        "      print(self.a,self.b)\n",
        "\n",
        "t1=test()\n",
        "t1.insert(10,20)\n",
        "print(t1.a,t1.b)"
      ],
      "metadata": {
        "colab": {
          "base_uri": "https://localhost:8080/"
        },
        "id": "6ARbC9_3rBPb",
        "outputId": "cad0e993-9525-4ad6-c661-3624a959c5cf"
      },
      "execution_count": null,
      "outputs": [
        {
          "output_type": "stream",
          "name": "stdout",
          "text": [
            "10 20\n"
          ]
        }
      ]
    },
    {
      "cell_type": "markdown",
      "source": [
        "# Constructor  :- Constructor is a special type of method\n",
        "\n",
        "* We can define a constructor in Python Programming by using _ _init__\n",
        "\n",
        "* Constructor will be involved automatically during crreation of object but method should be called externally\n",
        "\n",
        "* We have two types of Constructor 🇱\n",
        "\n",
        "1 - Default Constructor : -\n",
        "\n",
        "2 - Parameterisezs Constructor :-\n",
        "\n"
      ],
      "metadata": {
        "id": "oANV8RUOrXBr"
      }
    },
    {
      "cell_type": "code",
      "source": [
        "class test:\n",
        "  def __init__(self):\n",
        "    self.a=100\n",
        "    self.b=200\n",
        "\n",
        "  def display(self):\n",
        "      print(self.a,self.b)\n",
        "t1=test()\n",
        "t1.display()\n",
        "t2=test()\n",
        "t2.display()\n",
        "\n",
        "# It was a Default Constructor"
      ],
      "metadata": {
        "colab": {
          "base_uri": "https://localhost:8080/"
        },
        "id": "K0OGi4LlszSn",
        "outputId": "a51402d9-ea4d-4df4-9df6-76e9378d3833"
      },
      "execution_count": null,
      "outputs": [
        {
          "output_type": "stream",
          "name": "stdout",
          "text": [
            "100 200\n",
            "100 200\n"
          ]
        }
      ]
    },
    {
      "cell_type": "markdown",
      "source": [
        "**Qun:- WAp to find Area of a circle **"
      ],
      "metadata": {
        "id": "QXrhDBXstYQW"
      }
    },
    {
      "cell_type": "code",
      "source": [
        "import math\n",
        "class test:\n",
        "  def __init__(self,r):\n",
        "    self.r=r\n",
        "\n",
        "  def display(self):\n",
        "    a=math.pi*self.r*self.r\n",
        "    print(\"Area of a circle is :- \",a)\n",
        "\n",
        "t1=test(3.5)\n",
        "t1.display()\n",
        "t2=test(4.5)\n",
        "t2.display()\n",
        "# It was a parameterized constructor"
      ],
      "metadata": {
        "colab": {
          "base_uri": "https://localhost:8080/"
        },
        "id": "AVM55FUOtfRE",
        "outputId": "22cd4085-fca1-4222-bf64-08bdc5ff0453"
      },
      "execution_count": null,
      "outputs": [
        {
          "output_type": "stream",
          "name": "stdout",
          "text": [
            "Area of a circle is :-  38.48451000647496\n",
            "Area of a circle is :-  63.61725123519331\n"
          ]
        }
      ]
    },
    {
      "cell_type": "markdown",
      "source": [
        "**Qun :- WAp to find Area of a Rectangle and Display the result**"
      ],
      "metadata": {
        "id": "hIrvK0bmv2Y7"
      }
    },
    {
      "cell_type": "code",
      "source": [
        "class area:\n",
        "  def __init__(self,l,b):\n",
        "    self.l=l\n",
        "    self.b=b\n",
        "\n",
        "  def display(self):\n",
        "    a=self.l*self.b\n",
        "    print(\"So the Area of Rectangle is :- \",a)\n",
        "\n",
        "t1=area(5,10)\n",
        "t1.display()\n",
        "t2=area(20,15)\n",
        "t2.display()\n"
      ],
      "metadata": {
        "colab": {
          "base_uri": "https://localhost:8080/"
        },
        "id": "e0EZG8o4v8X0",
        "outputId": "fe21b790-4f22-47b7-e189-795256d1fe73"
      },
      "execution_count": null,
      "outputs": [
        {
          "output_type": "stream",
          "name": "stdout",
          "text": [
            "So the Area of Rectangle is :-  50\n",
            "So the Area of Rectangle is :-  300\n"
          ]
        }
      ]
    },
    {
      "cell_type": "code",
      "source": [
        "class area:\n",
        "  def __init__(self,l,b):\n",
        "    self.l=l\n",
        "    self.b=b\n",
        "\n",
        "  def display(self):\n",
        "    a=self.l*self.b\n",
        "    print(\"So the Area of Rectangle is :- \",a)\n",
        "\n",
        "\n",
        "l=int(input(\"Enter the Length :- \"))\n",
        "b=int(input(\"Enter the breadth :- \"))\n",
        "t1=area(l,b)\n",
        "t1.display()\n",
        "\n"
      ],
      "metadata": {
        "colab": {
          "base_uri": "https://localhost:8080/"
        },
        "id": "9dUT1wwxw2BG",
        "outputId": "7148ff32-9c97-4920-dd8e-8ddac39bf927"
      },
      "execution_count": null,
      "outputs": [
        {
          "output_type": "stream",
          "name": "stdout",
          "text": [
            "Enter the Length :- 5\n",
            "Enter the breadth :- 10\n",
            "So the Area of Rectangle is :-  50\n"
          ]
        }
      ]
    },
    {
      "cell_type": "markdown",
      "source": [
        "**Qun :- WAP to create a banking Application with Static, Non Static & Local variables, Constructor & Non Static Method\n",
        "\n",
        "Condition 1 - Beofore withdrwa if the balance is less than 2000, don't perfronm the transdaction\n",
        "\n",
        "condition 2 - Before Withdraw, check the balance properly(Sufficient funds available or not)\n",
        "\n",
        "**"
      ],
      "metadata": {
        "id": "zzXxTRNUw2mx"
      }
    },
    {
      "cell_type": "code",
      "source": [
        "class cust:\n",
        "  bname=\"CBI\"\n",
        "  def __init__(self,name,accno,add,bal):\n",
        "    self.name=name\n",
        "    self.accno=accno\n",
        "    self.add=add\n",
        "    self.bal=bal\n",
        "  def display(self):\n",
        "    print(cust.bname,self.name,self.accno,self.add)\n",
        "  def check_bal(self):\n",
        "    print(\"Balance: \",self.bal)\n",
        "  def deposit(self,amt):\n",
        "    self.bal=self.bal+amt\n",
        "  def withdraw(self,amt):\n",
        "    if(amt<self.bal):\n",
        "      if(self.bal-amt>=2000):\n",
        "        self.bal=self.bal-amt\n",
        "      else:\n",
        "        print(\"Maintain Minimum balance:\")\n",
        "    else:\n",
        "      print(\"Insuffiecinet Funds:\")\n",
        "c1=cust(\"Ramya\",101,\"Hyd\",45000)\n",
        "c1.display()\n",
        "c1.check_bal()\n",
        "c1.deposit(1000)\n",
        "c1.withdraw(50000)\n",
        "c1.check_bal()\n",
        "\n",
        "\n",
        "\n",
        "\n",
        "\n"
      ],
      "metadata": {
        "id": "Ete6y4cj0pJh",
        "colab": {
          "base_uri": "https://localhost:8080/"
        },
        "outputId": "9d7d7d2e-3418-4ec5-af0f-3f77d6436681"
      },
      "execution_count": null,
      "outputs": [
        {
          "output_type": "stream",
          "name": "stdout",
          "text": [
            "CBI Ramya 101 Hyd\n",
            "Balance:  45000\n",
            "Insuffiecinet Funds:\n",
            "Balance:  46000\n"
          ]
        }
      ]
    },
    {
      "cell_type": "markdown",
      "source": [
        "Qun :- WAp to develop a student class with all Constructor, Static Variable, Non Static variable,\n",
        "\n",
        "\n",
        "use Name, Roll No., Address, and 3 Subjects MarkS1,S2,S3,Check weather student is pass or fail, if passs then mention its grade."
      ],
      "metadata": {
        "id": "VCRpL2TIytt5"
      }
    },
    {
      "cell_type": "markdown",
      "source": [
        "Qun :- WAp to create a book class with book name Author Name, No of Pages, Cost & Librarty Main and create 3 books.\n",
        "Read the information in the main program and passing to class"
      ],
      "metadata": {
        "id": "RWqRwPjJpvq1"
      }
    },
    {
      "cell_type": "code",
      "source": [
        "class book:\n",
        "  lname=\"pl\"\n",
        "  def __init__(self,bname,aname,np,cost):\n",
        "    self.bname=bname\n",
        "    self.aname=aname\n",
        "    self.np=np\n",
        "    self.cost=cost\n",
        "  def display(self):\n",
        "    print(book.lname,self.bname,self.aname,self.np,self.cost)\n",
        "\n",
        "n=int(input(\"Enter no of books :- \"))\n",
        "i=1\n",
        "while(i<=n):\n",
        "  bname=input(\"Enter the Book Name :\")\n",
        "  aname=input(\"Enter Author Name : \")\n",
        "  np=int(input(\"Enter the Number of Pages :\"))\n",
        "  cost=int(input(\"Enter Cost: \"))\n",
        "  b1=book(bname,aname,np,cost)\n",
        "  b1.display()\n",
        "  i=i+1\n",
        "  print(\"*****************\")\n"
      ],
      "metadata": {
        "colab": {
          "base_uri": "https://localhost:8080/"
        },
        "id": "eBa1DQwkztHe",
        "outputId": "ed9da50d-d463-41c6-d024-4703dab272ae"
      },
      "execution_count": null,
      "outputs": [
        {
          "output_type": "stream",
          "name": "stdout",
          "text": [
            "Enter no of books :- 2\n",
            "Enter the Book Name :About TIme\n",
            "Enter Author Name : Stephen\n",
            "Enter the Number of Pages :789\n",
            "Enter Cost: 5000\n",
            "pl About TIme Stephen 789 5000\n",
            "*****************\n",
            "Enter the Book Name :Time Machine\n",
            "Enter Author Name : Guido\n",
            "Enter the Number of Pages :789\n",
            "Enter Cost: 50000\n",
            "pl Time Machine Guido 789 50000\n",
            "*****************\n"
          ]
        }
      ]
    },
    {
      "cell_type": "markdown",
      "source": [
        "**Qun :- Create Employee Classs with Basic Employee Details, Emp Name, Emp Id, Address & Salary,**"
      ],
      "metadata": {
        "id": "NGh6iIu4toV4"
      }
    },
    {
      "cell_type": "code",
      "source": [
        "class employee:\n",
        "  Companyname=\"Microsoft\"\n",
        "  def __init__(self,E_name,E_id,E_Adress,E_Salary):\n",
        "    self.E_name=E_name\n",
        "    self.E_id=E_id\n",
        "    self.E_Adress=E_Adress\n",
        "    self.E_Salary=E_Salary\n",
        "  def display(self):\n",
        "    print(employee.Companyname,self.E_name,self.E_id,self.E_Adress,self.E_Salary)\n",
        "\n",
        "n=int(input(\"Enter no of Employees :- \"))\n",
        "i=1\n",
        "while(i<=n):\n",
        "  E_name=input(\"Enter the First Employee Name :\")\n",
        "  E_id=input(\"Enter Employee Id  : \")\n",
        "  E_Adress=(input(\"Enter thEmploee Address :\"))\n",
        "  E_Salary=int(input(\"Enter Salary of an Employee: \"))\n",
        "  E1=employee(E_name,E_id,E_Adress,E_Salary)\n",
        "  E1.display()\n",
        "  i=i+1\n",
        "  print(\"*****************\")\n"
      ],
      "metadata": {
        "colab": {
          "base_uri": "https://localhost:8080/"
        },
        "id": "ZHkz05q6s4VS",
        "outputId": "4771cb4c-e418-4b04-e983-7a8380f34ed6"
      },
      "execution_count": null,
      "outputs": [
        {
          "output_type": "stream",
          "name": "stdout",
          "text": [
            "Enter no of Employees :- 2\n",
            "Enter the First Employee Name :Aaditya\n",
            "Enter Employee Id  : 566\n",
            "Enter thEmploee Address :sardar\n",
            "Enter Salary of an Employee: 999999990\n",
            "Microsoft Aaditya 566 sardar 999999990\n",
            "*****************\n",
            "Enter the First Employee Name :Aayiush\n",
            "Enter Employee Id  : 7999\n",
            "Enter thEmploee Address :Saradr A\n",
            "Enter Salary of an Employee: 5550\n",
            "Microsoft Aayiush 7999 Saradr A 5550\n",
            "*****************\n"
          ]
        }
      ]
    },
    {
      "cell_type": "markdown",
      "source": [
        "# **Static Method**  : -"
      ],
      "metadata": {
        "id": "aQcUEtwfvdoB"
      }
    },
    {
      "cell_type": "code",
      "source": [
        "class test:\n",
        "  def add(a,b):\n",
        "    return a+b\n",
        "  def sub(a,b):\n",
        "    return a-b\n",
        "\n",
        "s=test.add(10,5)\n",
        "r=test.sub(12,7)\n",
        "print(s,r)\n",
        "\n",
        "\n"
      ],
      "metadata": {
        "colab": {
          "base_uri": "https://localhost:8080/"
        },
        "id": "IBSRTHaAvdMq",
        "outputId": "3a37caec-453e-4e74-a807-054726b836c5"
      },
      "execution_count": null,
      "outputs": [
        {
          "output_type": "stream",
          "name": "stdout",
          "text": [
            "15 5\n"
          ]
        }
      ]
    },
    {
      "cell_type": "markdown",
      "source": [
        "**Qun :- Find Area of Triangle using Static Method**"
      ],
      "metadata": {
        "id": "gdfxGaeHwy9u"
      }
    },
    {
      "cell_type": "code",
      "source": [
        "class triangle:\n",
        "  def area(h,b):\n",
        "    return 0.5*b*h\n",
        "\n",
        "s=triangle.area(10,5)\n",
        "print(s)\n",
        "\n"
      ],
      "metadata": {
        "colab": {
          "base_uri": "https://localhost:8080/"
        },
        "id": "8jZGRpnRw3mo",
        "outputId": "a48a9d9d-1183-4c98-a999-4f3ad99b6405"
      },
      "execution_count": null,
      "outputs": [
        {
          "output_type": "stream",
          "name": "stdout",
          "text": [
            "25.0\n"
          ]
        }
      ]
    },
    {
      "cell_type": "markdown",
      "source": [
        "# **Note** : -\n",
        "\n",
        "We Can use the properties of One Class inside Another Class in two ways\n",
        "\n",
        "1 - Has a relationship\n",
        "\n",
        "2 - is a relationship(Inheritance)\n",
        "\n"
      ],
      "metadata": {
        "id": "ouiGAKHfxh6E"
      }
    },
    {
      "cell_type": "markdown",
      "source": [
        "1 - **Has a relationship** : -\n",
        "\n",
        "* The concept of using a property of One Class into Another Class by using the Class Name or reference variable name, is known as \"Has a Relationship\""
      ],
      "metadata": {
        "id": "8y867wZUx06t"
      }
    },
    {
      "cell_type": "code",
      "source": [
        "class x:\n",
        "  a=1000\n",
        "  def __init__(self):\n",
        "    self.b=2000\n",
        "  def m1(self):\n",
        "    print(\"in m1 : \")\n",
        "\n",
        "class y:\n",
        "  c=3000\n",
        "  def __init__(self):\n",
        "    self.d=4000\n",
        "  def m2():\n",
        "    print(\"in m2 : \")\n",
        "  def display(self):\n",
        "    print(y.c)\n",
        "    print(self.d)\n",
        "    y.m2()\n",
        "    x1=x()\n",
        "    print(x1.a)\n",
        "    print(x1.b)\n",
        "    x1.m1()\n",
        "\n",
        "y1=y()\n",
        "y1.display()\n"
      ],
      "metadata": {
        "colab": {
          "base_uri": "https://localhost:8080/"
        },
        "id": "vuTp79bY07Ns",
        "outputId": "ad1ecd46-c6df-4d0d-ec2a-4b9d8741e14c"
      },
      "execution_count": null,
      "outputs": [
        {
          "output_type": "stream",
          "name": "stdout",
          "text": [
            "3000\n",
            "4000\n",
            "in m2 : \n",
            "1000\n",
            "2000\n",
            "in m1 : \n"
          ]
        }
      ]
    },
    {
      "cell_type": "markdown",
      "source": [
        "Qun :- WAp to create 2 classes one class name is Employee and Second Class name is Test.\n",
        "\n",
        "1 - Employee Details are :- Employee NAme, Employee Id and Employee salary\n",
        "\n",
        "2 - Update the salary in test class then call display method\n",
        "\n",
        "3 - Create a  object of Employee class in the main program and pass the object any method define in the test class ? **bold text**"
      ],
      "metadata": {
        "id": "rmMbN9f43BIB"
      }
    },
    {
      "cell_type": "code",
      "source": [
        "class employee:\n",
        "  def __init__(self,name,id1,sal):\n",
        "    self.name=name\n",
        "    self.id1=id1\n",
        "    self.sal=sal\n",
        "  def display(self):\n",
        "    print(self.name,self.id1,self.sal)\n",
        "\n",
        "class test:\n",
        "  def update(e):\n",
        "    e.display()\n",
        "    e.sal=50000\n",
        "    e.display()\n",
        "\n",
        "e1=employee(\"krishna\",101,35000)\n",
        "test.update(e1)\n"
      ],
      "metadata": {
        "colab": {
          "base_uri": "https://localhost:8080/"
        },
        "id": "Z5f8WPAM4Jc3",
        "outputId": "dba9ec24-e98f-4acc-a2c5-2d66bdf0292b"
      },
      "execution_count": null,
      "outputs": [
        {
          "output_type": "stream",
          "name": "stdout",
          "text": [
            "krishna 101 35000\n",
            "krishna 101 50000\n"
          ]
        }
      ]
    },
    {
      "cell_type": "markdown",
      "source": [
        "Qun :- **WAp to create two classes one class is Student Class and second class is FindResult Class** .\n",
        "**In Student Class:-  SName,Roll no, 3 subjects marks**\n"
      ],
      "metadata": {
        "id": "CoZTRWTn7S3n"
      }
    },
    {
      "cell_type": "code",
      "source": [
        "class Student:\n",
        "  def __init__(self,Sname,rollno,s1mark,s2mark,s3mark):\n",
        "    self.Sname=Sname\n",
        "    self.rollno=rollno\n",
        "    self.s1mark=s1mark\n",
        "    self.s2mark=s2mark\n",
        "    self.s3mark=s3mark\n",
        "  def display(self):\n",
        "    print(\"\\nname of Student\",self.Sname,\"\\nRoll no of Srudent\",self.rollno,\"\\nSubject 1 amrks\",self.s1mark,\"\\nSubject 2 amrks\",self.s2mark,\"\\nSubject 3 amrks\",self.s3mark)\n",
        "\n",
        "class Findresult:\n",
        "  def update(e):\n",
        "    if(e.s1mark>=30 and e.s2mark>=30 and e.s3mark>=30 ):\n",
        "      print(\"Student is Pass\")\n",
        "    else :\n",
        "      print(\"Fail\")\n",
        "    e.display()\n",
        "\n",
        "\n",
        "\n",
        "\n",
        "b1=Student(\"Asitya\",101,35,47,89)\n",
        "Findresult.update(b1)\n"
      ],
      "metadata": {
        "colab": {
          "base_uri": "https://localhost:8080/"
        },
        "id": "0uWAx37x74GH",
        "outputId": "b4c26cd2-cdf1-40e0-a4e8-21ab0c8b817d"
      },
      "execution_count": null,
      "outputs": [
        {
          "output_type": "stream",
          "name": "stdout",
          "text": [
            "Student is Pass\n",
            "\n",
            "name of Student Asitya \n",
            "Roll no of Srudent 101 \n",
            "Subject 1 amrks 35 \n",
            "Subject 2 amrks 47 \n",
            "Subject 3 amrks 89\n"
          ]
        }
      ]
    },
    {
      "cell_type": "markdown",
      "source": [
        "# Inheritance : -\n",
        "\n",
        "The Concept of using the properties of One Classs into Another Class directly like as  a same class members, is known as \"Inheritance\" OR \"Is a Relationship\"\n",
        "\n",
        "* A classs which is extended by another class is known as \"Super Class\" or \"Base Class\"\n",
        "\n",
        "* A  class which is exending the another class is known as \"Sub-class\" OR \"Derived Class\"\n",
        "\n",
        "* We can use Super Class Properties into Sub Class directly like as same class members."
      ],
      "metadata": {
        "id": "wzlcsx_j-axk"
      }
    },
    {
      "cell_type": "markdown",
      "source": [
        "Qun :-"
      ],
      "metadata": {
        "id": "J3eAmeLJ_a1f"
      }
    },
    {
      "cell_type": "code",
      "source": [
        "import math\n",
        "class Circle :\n",
        "  def __init__(self,r):\n",
        "    self.r=r\n",
        "  def Area(self):\n",
        "    a=math.pi*self.r*self.r\n",
        "    print(a)\n",
        "\n",
        "  def Perimeter(self):\n",
        "    p=2*math.pi*self.r\n",
        "    print(b)\n",
        "\n",
        "r=int(input())\n",
        "c = Circle(r)\n",
        "c.Area(r)\n",
        "c.Perimeter(r)\n",
        "\n",
        "\n",
        "\n",
        "\n",
        "\n"
      ],
      "metadata": {
        "id": "nJvO8N5C_n8I"
      },
      "execution_count": null,
      "outputs": []
    },
    {
      "cell_type": "code",
      "source": [
        "class x:\n",
        "  a=1000\n",
        "  def __init__(self):\n",
        "    self.b=2000\n",
        "  def m1(self):\n",
        "    print(\"in m1 :\")\n",
        "\n",
        "class y(x):\n",
        "  c=3000\n",
        "  def __init__(self):\n",
        "    self.d=4000\n",
        "    super().__init__()\n",
        "  def m2(self):\n",
        "    print(\"in m2 : \")\n",
        "  def display(self):\n",
        "    print(x.a)\n",
        "    print(self.b)\n",
        "    self.m1()\n",
        "    print(y.c)\n",
        "    self.m2()\n",
        "    print(self.d)\n",
        "\n",
        "y1=y()\n",
        "y1.display()"
      ],
      "metadata": {
        "colab": {
          "base_uri": "https://localhost:8080/"
        },
        "id": "C2sCqqWHTdOd",
        "outputId": "401c3681-677e-4414-a65d-b33906f8c2bf"
      },
      "execution_count": null,
      "outputs": [
        {
          "output_type": "stream",
          "name": "stdout",
          "text": [
            "1000\n",
            "2000\n",
            "in m1 :\n",
            "3000\n",
            "in m2 : \n",
            "4000\n"
          ]
        }
      ]
    },
    {
      "cell_type": "code",
      "source": [
        "class x:\n",
        "  a=1000\n",
        "  def __init__(self):\n",
        "    self.b=2000\n",
        "  def m1(self):\n",
        "    print(\"in m1 :\")\n",
        "\n",
        "class y(x):\n",
        "  c=3000\n",
        "  def __init__(self):\n",
        "    self.d=4000\n",
        "    super().__init__()\n",
        "  def m2(self):\n",
        "    print(\"in m2 : \")\n",
        "\n",
        "\n",
        "\n",
        "\n",
        "\n",
        "\n",
        "\n",
        "\n",
        "\n",
        "\n",
        "\n",
        "y1=y()\n",
        "\n",
        "\n",
        "\n",
        "\n",
        "print(x.a)\n",
        "print(self.b)\n",
        "self.m1()\n",
        "print(y.c)\n",
        "self.m2()\n",
        "print(self.d)"
      ],
      "metadata": {
        "colab": {
          "base_uri": "https://localhost:8080/",
          "height": 262
        },
        "id": "P_F_N4aaUZNZ",
        "outputId": "4b37a9fe-46ac-4086-c9dd-29cb6b8bde03"
      },
      "execution_count": null,
      "outputs": [
        {
          "output_type": "stream",
          "name": "stdout",
          "text": [
            "1000\n"
          ]
        },
        {
          "output_type": "error",
          "ename": "NameError",
          "evalue": "name 'self' is not defined",
          "traceback": [
            "\u001b[0;31m---------------------------------------------------------------------------\u001b[0m",
            "\u001b[0;31mNameError\u001b[0m                                 Traceback (most recent call last)",
            "\u001b[0;32m<ipython-input-4-45b2d54912c6>\u001b[0m in \u001b[0;36m<cell line: 32>\u001b[0;34m()\u001b[0m\n\u001b[1;32m     30\u001b[0m \u001b[0;34m\u001b[0m\u001b[0m\n\u001b[1;32m     31\u001b[0m \u001b[0mprint\u001b[0m\u001b[0;34m(\u001b[0m\u001b[0mx\u001b[0m\u001b[0;34m.\u001b[0m\u001b[0ma\u001b[0m\u001b[0;34m)\u001b[0m\u001b[0;34m\u001b[0m\u001b[0;34m\u001b[0m\u001b[0m\n\u001b[0;32m---> 32\u001b[0;31m \u001b[0mprint\u001b[0m\u001b[0;34m(\u001b[0m\u001b[0mself\u001b[0m\u001b[0;34m.\u001b[0m\u001b[0mb\u001b[0m\u001b[0;34m)\u001b[0m\u001b[0;34m\u001b[0m\u001b[0;34m\u001b[0m\u001b[0m\n\u001b[0m\u001b[1;32m     33\u001b[0m \u001b[0mself\u001b[0m\u001b[0;34m.\u001b[0m\u001b[0mm1\u001b[0m\u001b[0;34m(\u001b[0m\u001b[0;34m)\u001b[0m\u001b[0;34m\u001b[0m\u001b[0;34m\u001b[0m\u001b[0m\n\u001b[1;32m     34\u001b[0m \u001b[0mprint\u001b[0m\u001b[0;34m(\u001b[0m\u001b[0my\u001b[0m\u001b[0;34m.\u001b[0m\u001b[0mc\u001b[0m\u001b[0;34m)\u001b[0m\u001b[0;34m\u001b[0m\u001b[0;34m\u001b[0m\u001b[0m\n",
            "\u001b[0;31mNameError\u001b[0m: name 'self' is not defined"
          ]
        }
      ]
    },
    {
      "cell_type": "markdown",
      "source": [
        "**Classification of Inherirtance** :-\n",
        "* Inheritance is classified into 6 types 🇱\n",
        "\n",
        "1 - Single Inheritance\n",
        "\n",
        "2 - Multi Level Inheritance\n",
        "\n",
        "3 - Hierarichal Inheritance\n",
        "\n",
        "4 - Multiple Inheritance\n",
        "\n",
        "5 - Cyclic Inheritance\n",
        "\n",
        "6 - Hybrid Inheritance\n",
        "\n",
        "\n",
        "\n",
        "1 - **Single Inheritance** : -  The concept of Inheriting Properties from only One Class into Another Class is known as \"Single Inheritance\"\n",
        "\n",
        "\n",
        "2 - **Multi Level Inheritance** : - Concept of inheriting properties from multiple classes into single class,with the concept of One after another is known as \"Multi Level Imnheritance\"\n",
        "\n",
        "3 - **Hierarichal Inheritance** : - The Concept of inheriting properties One Class into multiple classes seperately is known as \"hierarichal Inheritance\"\n",
        "\n",
        "\n",
        "4 - **Multiple Inheritance**  : - The concept of inheriting properties from multiple classes into single class at a time is known as \"Multiple Inheritance\"\n",
        "\n",
        "5 -  **Cyclic Inheritance**  : - The concept of inheriting properties from Sub Class to Syuper Class is known as \"Cyclic Inherritance\"\n",
        "\n",
        "* Python odesn't support cyclic inheritance\n",
        "\n",
        "6 - **Hybrid Inheritance** : - The combination of Single, Multilevel, Hierarichal and Multiple Inheritance is known as \"Hybrid Inheritance\""
      ],
      "metadata": {
        "id": "2JFbwEBoVmNU"
      }
    },
    {
      "cell_type": "code",
      "source": [
        "\n",
        "\n",
        "class x:\n",
        "  def m1(self):\n",
        "    print(\"in ml: \")\n",
        "\n",
        "x1=x()\n",
        "p=x1.__str__()\n",
        "print()\n",
        "x1.m1()\n"
      ],
      "metadata": {
        "colab": {
          "base_uri": "https://localhost:8080/"
        },
        "id": "qAVeNrjKXf3f",
        "outputId": "ae48156d-1dab-4125-afec-83a6f872b4c0"
      },
      "execution_count": null,
      "outputs": [
        {
          "output_type": "stream",
          "name": "stdout",
          "text": [
            "\n",
            "in ml: \n"
          ]
        }
      ]
    },
    {
      "cell_type": "markdown",
      "source": [
        "# **Object Class** :-\n",
        "Object Class is a predefined class which is defined in built-in models.\n",
        "\n",
        "* Object is a Super-Class for every class in  python\n",
        "\n",
        "* Object class properties, we can access in every class directly & we can also access through every class reference variable\n",
        "\n"
      ],
      "metadata": {
        "id": "s_w2fWrtYmQf"
      }
    },
    {
      "cell_type": "code",
      "source": [
        "#Single Level Inheritance\n",
        "class x:\n",
        "  def m1(self):\n",
        "    print(\"in m1 : \")\n",
        "\n",
        "class y(x):\n",
        "  def m2(self):\n",
        "    print(\"in m2 : \")\n",
        "\n",
        "print(x.__bases__) #shows that x class is object of class\n",
        "print(y.__bases__)#shows that y class is subclss of main class .x\n",
        "y1=y()\n",
        "y1.m1()\n",
        "y1.m2()\n",
        "p=y1.__hash__()# shows the address of\n",
        "print(p)\n"
      ],
      "metadata": {
        "colab": {
          "base_uri": "https://localhost:8080/"
        },
        "id": "7OZpBOr0Z1Xo",
        "outputId": "d98150bc-623a-45dd-b784-2ea55bd7755b"
      },
      "execution_count": null,
      "outputs": [
        {
          "output_type": "stream",
          "name": "stdout",
          "text": [
            "(<class 'object'>,)\n",
            "(<class '__main__.x'>,)\n",
            "in m1 : \n",
            "in m2 : \n",
            "8397185461300\n"
          ]
        }
      ]
    },
    {
      "cell_type": "markdown",
      "source": [
        " Multi Level Inheritance\n",
        "\n",
        " ![18.jpg](data:image/jpeg;base64,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)\n"
      ],
      "metadata": {
        "id": "a18Bn4TSoklF"
      }
    },
    {
      "cell_type": "code",
      "source": [
        "# Multi Level Inheritance\n",
        "class person:\n",
        "  def insert(self):\n",
        "    self.name=\"Shubham\"\n",
        "    self.add=\"Madhya\"\n",
        "\n",
        "class employee(person) :\n",
        "  def insert1(self):\n",
        "    self.id1=101\n",
        "\n",
        "class salaried_employee(employee):\n",
        "  def __init__(self):\n",
        "    self.sal=50000\n",
        "  def display(self):\n",
        "    self.insert()\n",
        "    self.insert1()\n",
        "    print(self.name,self.add,self.id1,self.sal)\n",
        "\n",
        "s1=salaried_employee()\n",
        "s1.display()\n",
        "\n"
      ],
      "metadata": {
        "colab": {
          "base_uri": "https://localhost:8080/"
        },
        "id": "5oZ0SXZaa4ym",
        "outputId": "d954e9de-0fbf-48af-8cfa-95f567c03069"
      },
      "execution_count": null,
      "outputs": [
        {
          "output_type": "stream",
          "name": "stdout",
          "text": [
            "Shubham Madhya 101 50000\n"
          ]
        }
      ]
    },
    {
      "cell_type": "markdown",
      "source": [
        "#Hierarchical Inheritance\n",
        "\n",
        "![19.jpg](data:image/jpeg;base64,/9j/4AAQSkZJRgABAQAAAQABAAD/2wCEAAYGBgYHBgcICAcKCwoLCg8ODAwODxYQERAREBYiFRkVFRkVIh4kHhweJB42KiYmKjY+NDI0PkxERExfWl98fKcBBgYGBgcGBwgIBwoLCgsKDw4MDA4PFhAREBEQFiIVGRUVGRUiHiQeHB4kHjYqJiYqNj40MjQ+TERETF9aX3x8p//CABEIA1UD5QMBIgACEQEDEQH/xAAwAAEBAAMBAQAAAAAAAAAAAAAAAQIEBQYDAQEBAQEBAAAAAAAAAAAAAAAAAQIEA//aAAwDAQACEAMQAAAC1nRdHPz3RHOnRHOdKHOdIc10hznQtc10hznRRzXSHOnSHNvRhz3QpzXShznRpzXShznRHOdEc50RznRpzXRpzXRHPnRHPdEc10oc69Ec10hzXRVzp04c29Ec50Uc50Rzb0RznRpzXSHNnSHOdEc6dIc10hzXSHNnTHNdIc10hzHTHMvSHNnTHNnThzXSHNdIc10hzXSHNdIc6dIc10hzXSHNdIc10hzXSHNdIc10hzXSHNdGnMdMZkKgpCpQAgqCgEKlAABCkKAAQqCoFgAAqCoKlCUILAsCwAKAgWCgAQAAAAJQAAAASwAAAAAAAAAAJQQqCoAAMgAAAAACkWFlgAAsACwCkAAKQAAAAAAACyiAAAABYAFQWAAABFEoEpKAAACWAApACkAAAAAlEAAAAABkAAABQRSUEollJYBSKEBZSKIAUiwAAAAAAKIBZSWUiwFIAsLKJQiiLAsAAAAAAAAAAIoiiUEoASgCAsAAACUEoSwqDJRFEoAAAAAJRKCWFAAlhQAJRFgoQBYVABQCFAABFAEoAAAAAARYFEUQAApFgWAAAAAAAAAAACURYAAAAEGYAAAAAAAAAAAAAAAABCygACWUAAAAAAAUAIyhKACURRAAAARRAVKJQAlEAWApFgAAAAAABFEoRRFgABkBZQQrldYksBSAAAAFIogoAAAAIAAAAAAAAFEsFUlUi0xZDFlCKJMoRYRRAAAAJRKAAAABKAASwAAAAFEAAAAAlgBlQFEyh570XnfRGKwAAiiLAKAAAAAAAACAAAAACiKAAFUYXhDHpb55779j4Lhucf4HW+PJ+p38vObZ15j9EwUSWAAAAAAAAAAAEoShKAEUJQikWAAAAAEUZAWUpDz3o/O+hqSiCAAqAAAKIUgAAFQAACAAAFlJQAAULYOTdH0JmABYAGh0B5vf6fn19Djq7aYrCUIAAAAAAAAAAAAgssFlAAEAAAAAADIVUpccoef9Dwe+YrCLAAsEoSgAACUAAEoSiLAIAALBYqgAWUVYc/oedNvr/P6DDPnnQczqmNUkw5B2kpfj9acDvec9IuEpICAAAAKIAAAAAACKJQAAASiUIAUgAAMqUspfn9Nc5Hf4fcJKIBFIAAAAEAAAAABUoiiACAFloAoAtmUfPg9L5L1ZYllp5n0vPwOr8M+AY9PPdIBZTzno/OejXBYkBFgAABYFlEWAAAAAAAAAAACWACykKQAGVKWUupt84+HY5nTJLAAACBAAAAAAAAAAUCLAUllABQAUWWOTuc3qmwBVHle1w12uryPTGEuKAWynm/R+b9IuMsSLBKIoiiAqUAAiiAAAAAAAAAAAAEKAADItSqXh9zzp1dzDMksAAQCUIACwAAALKIAAAlUAQoAFlAFBljkcDvcHvS5L80z5Hy+h8e3lmea7+vzV70yxSUC/M8/6Phd1cZSSWAACURRCgAhSAApFgAAAoSoAAAAAAAAZFpZkYef7vHO6uIliAAAJYAAAAAAFEAAACgJYUABQKAMpThdzidmXX5Hatmp04iwLwe7Dm9Xz/wBV7KkfL78o1u5yuouISAgAACUSgBKEsALALAAUAiiWUJRAAAAAAAyLTLHI+HJ3tY7GNglgCCFQAAAAAAAAAAJRKKBFAAFSgFBbKcn7bfnJfVY/P7JiBAqUau1RXFOlw3bM88sSEEsAAAAACUShLAAAAAAUllAAEogAAAAAMqUyxyOLt8/rx95ZSWAAIlEAAAAAAAAAAACkCgAAoKCzIa+x582tu7Z5r7d7Wlm3wvgeked6abxmY2/Ez8ts7y870/n9k6mOeKYzKEBFgAAAAAAlgAAAAAKSgABKEAAAAABlSmWOR5/ucD0BlLBLAEAAiwAAAAAAAAAABQAAFAUVSX58k+nzy6xkgsgyY0+HP66POT0sXz+PfyNPoYkvD7dOB3efzF9Jjh9UxlEBFgAAAAlCURYAAAUAAAAAAgAAAKQGVKUPOei896KIKQAAQCLAAAAAABYAAAAUAAUFFBrYckdH77QIAEoIUFQVBUsLjTLU2aea9FrcVfTY4/RMZYJRAAAAAAARQAIUAAAAACURRAFEWBRkKtlPNek8z6aJKqAABAEogAAAAALAAABQABQUULofHUHZy+glgAIAAALBUFSgFuNjLS26eZ784K+lmH0SSiAlCKIsAAAAAJQAAAFIsAAAIoAAijIVZYed9H570JARYAgAAEAAWAABYUCUSipYAUCyiviZ8b57p8OxaCACWAAAAAAFSgARUpdbYp5j0Xy4a+mx+f1SSiAAASiFIAAAAAABQhSAAEKgsoAIMxVlHnvQ+e9CQCWAAAIBAAWWABQAACikAKCkymgfbjXsGG3QQAJYFEAAAAAABSFgUkWwZauzTzHo/hxl9HMomKwLAACKIBYLLAAAUiiUIsAAAJQSgCKMhVB570PnvQiWAEACACFlgUSglAAKsoURRFEqkrnF597Q+lglgAAikAAAAAAAAAAEVKLKXj9enJ6/nt9ehMsUSiLAACKIolQAAWUAAAAgAAAAAMhVB570PnvQggBLAAAACAAAACiqMPnw17328/8AJfTTzeydtq/VPlxtnoH1+lxEsAACAAAAAAAAAAAAIFALYHmvTc5d+8rrpjKJKIogAAEoAiiKAAAJQSiAALAADIVbKec9F530UJZSUQAAAAAAAAoKMc+Wc/s6PZKgmrt04mHep5bb7nGl7MssSiLABLAAAAAAAAAAAAsFlgCgpkeX9Nx99dmZ4pJYJRFEUQAAAAACUAAAASykAWAGVloU836Pz3oiEAIAAAAAAABQtlPnwNjaN36IVKAAU5x0pz8zcMjBYRRJQlEWCwAAFgAAAWAFAEFBRbMjW43pPNL6TCfRPnM8SSiLACLAAAAAAAABKAABCywAypVMTgeh836QkogJQiwAAAAAFFC6+zxjX7+h0BLBrbWsfT7eY9EfVRfN9/gGxl18jzH37+pLNzgK70pJKIABKJQlCLAAACgAFJVJViZT4G1hxOcve4fzyX6bOPdPhueZ7abMyiSWACWABYAAAFgKRRAAEFlhUoQZUq4Z4nn/AEXn/QxjLKAAhSLAAAABQVTHz3U1jrZWEUMsaa3D9NzTo5+Y7xzdjm+hMpBUF5vSp5n0Pw4a+nxw+iSWAAAEAAAsoAABSizUNvm8/bjUvc+y8vofUmTGGVxHw43ofNL6XBUxlCABAAAUEABZQAgAAJRAAZ2Wr8ft8Djd/i9tcViQAAAAEWCygAFyxyOD1uN6BREssKC54U1PNey8rL0evpblkIAVKZaW3kea9J57uLmEQAAEolCFEUAWBQtnzNLn4eiPhtEAJQASl5XVxOf0fM+oXCUmKwAAASwUIolCUACCywAAAAystX4/b5HI7nC7y4LESwAAAASgAAUZY04XVw5q96ZYolAFsp8uJs5nTlhAAAWynF6PO6JsSwiwAAAASwoABQUvI6/Cl3ej8PtZBCqS2EAWDLGnnu/ofBevMsUkogAAACCwKAAACAAAAAystZa/30jn97j9cksEsAAAAAAAALYL5v0nxMdry3oT7MoQCWHmPS6u6CAACwWzI893OF35bLLEogAAAAJQAFBS+b9J5yX0bLGyUGjvQ819PR5y+b1/W+XPSLEllHmPUcNe3NLdTFYQAAAAAAAAhQSwAAAAZWWstDe0zW6vI65JYJYAAAAAAAALKW40+HA9P8z4bvmOsb8zGFsIokyhFgKSgykPO+j816RUsRLAAACWUlAABZSoMvOej89L6PH4bNmNUltMcsfhH189s/NfQY6mqnUaO+NTb1TR6/H7K4SxIAAAAAAAAABKIsAAAMxV1drWNDscbsklgAIAAAAAAAAVBlcROH3qeY+3odddTa1dQ7efnvmennmPoeicbNOq1vsfQyJp7XnTY7WvsEAgAAAAAAAAVKZfH65Hl/S6/Cl9L570X2s8vfTJfN7PdwPH9XX9KcT79PE1/vSPh9/kcrtcPuLhMsUEAAAAAAAAABAUiiAKMktXX2NE0+3xuwsliAIpFgAWAAAAAAFSiwVBbjSsQ+P2Grhu04Xz9DV81fSDzXS6cSxBKIAAAAAAAABQUMtTap5f0GfnZfVON17M+P2PLR1+lkMJ9IfNjkX5ffmmj3OT1lxliJYAAAAAAAAAJQABAAZWWrzelzh0ed0BLACLAAAAAAAAABYFgqCoKgqCoLYKgsACAAAAAAAAAWUAWC2DKBzeZ6eS+e1+3qLNbDA2mH3NHra/yOxwcu6y+1hJYEAAAAAAAAAAhUoAlgBlSrob+kfHp8vqElgABFhYAAAAAAAAAAAAAhQAAAAAAAAAAAAAALBQAVBlcRncB9L8xPl9h8p9oTPFCAgRYAAAAAAAAAAJRAAAZistLc1TU63H65JRAEoIFEAAAAAAIVKCFSgEoIFQUhUFAAAAAAAAAAUAIAAFAsFSiwVBUFiRYACAAAAAAAAAAABFEKQGYq6+zrnO7PF7RjKIBKIAAACwAAAAJYLAWUASgCLCgAAAAAAAAAAAWUASwsACxQlAAAAgAACAAAAAAAlAAABFABADMVl8Pv8AE5Xb4fcXGUkAgAAFgAWAAAAACUSgAlAEsoAlAAAAAFgAAAACksolEoShFgAsFSgAAQikqAFgAAAAAAAAAAAJQQZisvl9Pmcfu8HvGMohCyiKEUASgwh9CCwAEoSghUFQVKEoQVBSGUAlLMaVBTEyQW4ahvTT2ysRkmJ9GMM5jTJ88jJ86ZMYfSTEzYUyfPIyYDNjifRjDNhTK/PKKxGTHE+jEZfO6Bv56e6QAAAAAAAAAhUGYq/P6YHE73A9AuMsQACUBAsFlNPW6fzM2dMMfqPm+g+dzHyyyGDMY4/QYzMYXIfPLIfO5jGZ0xx+gwZjC5DC5DBmMZmMZkMdfaGtsWEUJQAURRFEAAAAAAKRRFkAAAXDPAZY5AAAAAAAAAAEBmlq4Z4nB9B570KyUkABLKEoIUEmUM7oaR3HI6Zmy0TccHfN4CUFpjcvkZvn9jBRFEtyNb7ee75kypgyGLKmDPAOb0zBYRRAAALKACFlEAAAAAAsFlEWQAAAlxLlhkALAKRYAAAAAAQGYq45Q8/6HzXpVxCAAAJRFhQMchwujodtdPjer4Z1vNdrnnWcntJkyhKGOh8fmdPmdHVOd3+L3l1d/wAt6tOfucDtnx0NLuLwfUeV9VGvy9bt2Y7vlvUHH+Gr6RdW8X1R4nu831EslXMBFgAKSgAAAlEAAAAAAsFSwSkAAlgywyALFCUigCAAAASwAzFVKea9J570CliAAAEFAAxyhxe1xtlevxNnkp2OjqaBtcLs8hfTFQo+PD6eqfXb4ffOZ3fIeiXget8xlDueW9NXn/XeWsZ9zynqDynUfFft2uF3LnzvqvL+lXy/qvN+gPLeq89TuwSILAAAWUAEKACAAAAAqCoACyAAEoxyxzIABYKACLAAlJUKgAypSynD6ejtrtyxAIsKBLCywqUY5Ynw0O1TkdL6wy0d0cre+4xnP5533Bq9vV++wnz+2I18/rB8fuPl9UL8vqMcpTLCjH6YjHODHIGGQhCwAAAALLCywAAAAAAAWUiiKIAIFJMoYZ45kABUFAAlgAAgWABlYq2U5Wx8PsboIBLCpRLCoFlLjjpHSSgGOL4G2gqCoCUIKgqCoKgqCoKQqCoAEAAAABYAALAAAAAAAAqAAABYi6+xgc3q6W4AAChABYABKSwWABlYq2U5uUHQBAQAFgChKYafQwM8+dzj0Uz0j7a2v9zcAgEFQAAAALBUFQVBUFAgCFAIUAAAAAAAAhZRLKAAAAAABFgY5fP6AAAAAAACUQAAGQq2U5+H11zrSwhAAAACguOUOfxu0W7PD7CaO5pbpuTKEgCFQLKCFSghQAAACFSgAAhYCykoEoAAAABAFgAKAAAAAAAY5fP6AQAAAAABLAAABkKtlNfkdzz6+jxyiSAAAlhUosowzhpy/I2eD6zzi/bd0ttN+IRYIAAAAAAACwWKJYWUCAFBCkAoAAAAACFgACgEUAEoAAABhnhmBAACWFAAIWAAABkKWUnmvT+bX0mNJIAACUAAMcoVaZYhhp72ib+NgIAAAAAAAAACiWFgFgspAFAAAAAAABBYACwWUAAACFAAB8/pjkBAABKAAJRAAAAZQq2C+f8AQchel9dDfSAgAEoJQBhn8z6WCoLhkCCoABSAAAAAAAAsBYLAFCCvl9CoBQQqCoKgsuJQEoQVIZWQyY0rGlYUyYwzYwzYUyYU+X35XRPoIEKlAAAEAAAADKFWwXW2cTi9zzfpFgSAAASwUGnt8038vj9SkKlJZRAssLLAohTGqSZCTISZDHIMbkMGYmOYxmYwuQwZ05G/9cjGfQYzIY20+eWQwuQxmYmOQijG5QxtpjM4RlCWjG0Y2iTIRRFEUa33yAQAAgWBSFgAAAAZSyqCg816bzXo1ssSAASiLAAAAAAAAAAACKAAAAAFgsAABYKQqUgAKlABCwAAAAAKlAABBtauzm/Dc1N3OtL7zGz6/DZ04+jKVbfnH3+Oxrr9dba+Rlq7ulZlsau0fPPH6xrbWpuLrZ/aRpD0wBRSwXLGnC62j9V6EsSAQAAAAAEAUJQAAAgFEsAAKAAAAAAACwAAAFgAWAAAAAABQJSKIUlgWIyktWRFuIyYjKQZ4BYCwVBUEygAAooC0NTRF7WIkBAAAAAShAAKAAACAAoIAAAFAAAAAAAAAAoQAAAAAAAAFgWAAAAAAABQQQoQAAAAAH//xAAC/9oADAMBAAIAAwAAACH5J6bIIjAKJKYrbob455po44KYLJxSx56pIJ4c4IPYLJKNJ677brJLb746qIIKrIY4YqJ44IYoIJYYIIY4677o44oo7557YI6YIJ54JIKIIIoLb7jTzjTyDTggQwzzz5r7777rZb76767r77r7oJ77776p7677574577oLOIqIoMJb7jzjxywgxjz333zz7776JqJKq7rJ6rL7rb757777L6qrbr7ZKPLba8IIIYJbwgHLqBABADwxyACNBQzLKIIIYIJKJYIJYIJLaL7Y74IYIYLIqIo4444LbLIr7jTTw6yhSwwAAIBDTwygwx4574oY44pII4IIo44ZIIKoIIJa5b4I/a45rI4oIKL4hABDzbjTygpAQADCDDQwD67pp7r644brJgRSxQooIIIII77parb7La5KfL4IIJOMJAIAgACzzz3zBy4gABX0JpaaIIbLZzzyxwjyzyoIY4Z7LIY7a4PoZdJrt/4qIIIYCIAQCCCADBBrfzAygDAa4aTi44DzhTDjzzyTzwqpb6qI5qYqc4Ib5a5eOK44YI777wIAgAxSgABzzSwwgABzjGDTzRBAAACAABBDS4b7awTyjK/7ocN74vvoL7947L76oA1yziAQQBCBznzz2AgRVAhjwAAQEEUUEEhDDz76hTBQIIYZdoKKo+Krb6755Lb77rziD7zz7hT6jjzySyiXSwwD23333320n2gDTigTgTh48rYaIZ4bPrZKLL4oILL77zx3zzzzywISAw3jBGhzzEGH313331H00EgAQByhyCgoYIKY+aabpa4JLLoIYb7rb7z2KSzzwEQwjzjjARX0EFXnF3333H30EABQBTBASQqSpL85reqoq4oIpLJpb57bzgDCghzwwXigDihlwR2U33U320V3X3nGADABQjxRz5Yp5qrsLa5b64IIIpJb77777qwABDwCzyzCCivRQwlH00FHXnn32kEAyATySgiDQbq9IaY57Krb6oJIIJb77LLziAACC5rzzzySjlRSEEHUEEF1X330XkAAByBiChABwj9Mq4t5pqqZoIIpJLb774IAkAIATzz3jyCBOhywEHWlG1mH221kUAQDhyTyhSAhTATyoptJI5q474456rIIYJRShQxjDzHTAAjvjzgEFn0n3331332wzzhgAATCATzjCQwjwppLZoqLLZ76raaIczzrSwADAADARSWzT300H23X33UF2BTwwzjwyQBTyCBzRwgDIIqN5qo4pLr7457/AP8AouPOJDEADFHHbFPPLQffVfcQTTOLGCKGGCIFMCADHAFPBHBph6+vtriuvrluvus49vrAIEJMnHFVCPPTRVcYUUUKFPKIPFMFIAGPKNLLIELPPPiuu5jkt/isspvvqwgggvFvNPPVNFRKLPLKAQwRSfYUAECDJFIADPPPHLLABOPOPskhnk2msvjjkgssgggok/3NLMFLK1OPDPMJCLjOGrtiIAetGECFPPLPPPKDPJPNKhwgk8nussuiwkjjmhgggCfpPKOARKPPPPBHjHJDOhDHPIDYLOEENLPPNPPONPABtlmujlmhitjjz/jrlrkhgRFfIAHULINPPPPvOINJFNFTBfUpNGCCEIINOPPABGILulWZCknglv8Ab77/AG6z/uMUIM0YzUoA40+88+g04Qygdh8IQwMcccAA888oAEcYMf8Ao1hqkmnovvngvvkgnry0fPQIOMLBAAANKgHIELFEIIoJPGCHKHAAEIOGBJJHWeokgm40ithiglosoogjlqrDALJKIBiBPvEAkMDDDGgBoUPMFMBdNAABIFABOEEifpougphy0uoggz3gxggvvmGAOCJVFMvnPGCFHLGafCPvZAABCMtEKAMAIINOOCwIOc36q774rggwwwgwhgrvrKAfGvVFPHHPAACNKGFQUIAENmJLBFFPAAKIHPeBL+KLMpky/wCK74oIIMIIMIJLb7w5T7VYAT76yAARzxwRnzAyyHYqDnhzAAAABRjxxEdE4ZvZL4vYb94MMIIJIMbrL7JjYRIBjTzTww4z74iJ6hz43ixUDASwAABzzzzDCF+XsY7bdL5b76oZoIIKJIIL76giRIDT7zziKgDBSSwQwwwyABADzyAwiAnTygCACQKyXGA9rY74KILaofIoYoNb6CAhwADRzzzzSwwwAAAJAQLDTzjzxyghTzzzSwHByUSAhW/orb/oJ79qoKIJL/7JR4VoAgTDzTzzzAYgQgCJ4wQwATzTgCBDzzAB31wC1mAABZ6p6574b5KIIIILro5TKHIBD7Tx5zzwQixygJALYABQCDTAzjCTSgBRzxggDD37PoL775LJoaJbKJoIY5ZJDjhzzzb7TzzywpiABACgBACw7zRzyhzzihCCDXywhDANqb5r76b756oMIIJI5QgFAxDJgBA4SiAhiQpyjAAiRJBjDTixyjwBQAnlHjXXX3ibI4q5L8/7a/MIIIY5JxjyACATTiAjLJK4B4yyz5hTagDABiCRxgwBEDwExwjzjDb476Z7776774oIIL57LRCICgoRTaElrG5ZKYoqShXjjjQnTCw3ygAVDzzxz3yxDb4bb6b6/vb8YYIIP4JJjwAABDRRhQzQnrRlFgUWDsFVFgrijTzmEEEBD333Hz20orrb8b5orIL4oIJb4JyTygAAwJb5THmTRDUFCuyc7L0SikAxzDygEQADzzSBUwzzbZ+pr764ILboqY76CBDwDQBRR7KmRZAWhrBYCTDiwzzBjxyAzDxRTzz30xD2jHDzrqLv744IJaoJ5/8AumNqCUIUO+SuK6MCgoIAIAGM00sMwcQA88s88c4gIQg08M88cuSG++6O/fiKue+EkVoA8+a6Km5+u6auO6y8wsMMMMQcMAEAAAc88gAFRoAU400dyaS2++62yGS+uyAE5Ik6CCSSCN+NyKGOqGIEAAwgE4wAEcogIEAwAA8084AAAAAMoo2y26y6qu++yCQo6euCWOq+/mXGye+e++62+uYUQG8A48gAAAYAFc94AwAIAABgoCiCWCDGe+/OSw0weiCSCCqKOWeu+++yGCGuW6Uc2q+wAAEIAAAMc8sQQAUEAkMwqCCKCCS6+aCeE8mKCCSKCSCOKuu66uCCCCCy+csc4MMM4FOMIVwww0gYAscN5xdCGKCCCevOiCcE80qqCCWiey2a2emWya6Si6O2yo48AAwMowARNM0pUkghxQgQQZCCCeeGe+iCOUW2oCuCS2yuayCSyGyCCyCSCS2sQ00sEI88IAEc84w08ABREviNj2HlY2uD6HCCwssgOqe++CCCe6KCCCO6WyyCCSwwww0c880s4s+cJsc9hJw59/pvfvff/wD724wwg4PAAovvvggovvogggnvonvvvogngo3/AP3z+H/73wDwF31x333zyDzwD6L794MIL//EAAL/2gAMAwEAAgADAAAAEKgnkojiMDkhspvgtgnhqnntgtr6+dcdx9y437n/APatMPOKMd8lnV0GlkU0FmUlkGbYZJK75bJLLKabr6Z467LYL4vs99tPuO++NNePu+uMOudtX28sccuNd8fuM/8A/wD8plvinrtlvvrqiuvrmvptojlnqyz18z0yxzz056/oy8cdAXTSzwx60580/wC444s97ob6JqJKqJoZ6rL7rJ46ILr7L+usf+8dObucdK9+/E20PernWtsNMP8Afnff4XHD6y+eeKOmSmeWaWGOe2i+2OuCOObv/XP3z7zDP3Tj/NLT3rxXfrTjPLdLzHHTXjPCSOOOayymu6ySGGWyuyKCqme+OS7rnOnjHfrznLHztL7HbvVLPbHFv7/PPjTHrPPqKOW6uSyy6jkYoQA22ySuy+6C6n77PPTf/C/r/TDWudPNTPLzvPfOfjzRnvPSyiaSf2OKi2g88448McAWKyy62yyCSqC15phMn+2LXf7zhfZvTzjnrDzTZEzP7DPzaKOEU+iA8s4w4AsckMI2SiGimC2iT+zzvXHNuurTjLN1BpLx33/PXvDDfvLT3zx8csIW0MgMYE8EsMMYQkSGWm8wEsKSDf6qTTmEDr7CrzzbxV/yjTz/AO63357+j4zIJCqaIGPPGOMTeefVdmMFPvpLEBOtFjo/7302L397213295YTQz3wUwxR/wD2vt8Hhg3gxBAA110kUU13WFADTihhjxjZUZ7ko+sMwe9/vOcvMNPG18urNf8AvbDd3fzyQ446kglNh91ZBJVRJxpIEEUkoswgIKz35ujbZr/D/Sy6eXH/ACYbf3oZ+74/m89z8CFQLYfYVRTYQdfcfQaQAFGKNOFLGlL1xzb5Jf8AP/LqpY5JLcPW9sPOst+PP4dc/jiETS002knEFGnE0kVGATBShIQzRVo99t+YeNc89K4IppJ5sPvX3msN9Oc9e9M+Sh8jDCVGHn20kWUnHWkAyTiyCTgTWx2HNvwWP9aoJIo5bpZ8+02/vOeufGVPMP8Aww1AIJVh1xx9hpVNB5Fgw0gk0EkU4c8WkCn+SyOO2m++2eazf/PBH2rBvHHXO7/0s28YARthVVZlfXt5t984GY4U8uE8Yk1ZRbv+R+W2e+6yyjH7XFBLvfrz37fy3z0ij4ckJ1xllVjHPfvNcwMIMwgA0Qkwk0pd5Bvfd2DHjznrDHLbx4jP5v7z3zLDzYs94sdFxJJbDb33/wAbHHELEIgCLEMHlICNSdU201D63850+yw953sPYe7x3z73zyMHPHPOES//AMc+MfP4hwgzzRAwhSDSzCCyFUV0dv6AfcdPfU8cecMvKLW1v/8Afb9k04Ew8t7vfzj3POeqMcIsk8gYgYMcMYQcB9R1zTD/AEg28t9985//AO4OMEEukMMM7xxXBCzBZKcH/vftM4XRhojBjA7ywDBhBzj1EWvvdNilvfutMNMPPd8se1iy8Ns/gBYRSzLo4pYAJLzQzYF2aRyaBTxRgQwxDEVlFW9pcvgd9PfN/a+/OPPn2kOp1cMhyUQr4pYLqBaJbrRJqL5EgBzj5CQ7zzQwwwU1UfPc+FucvMMf/LIPtOtf3mIdLPSzFr6qZ4IIBL4ZOeZLL4UHsSQwURiCDSzzyFmUlu/rBJi+e9f7du9aMuAAE9cs/wAiz+2C6msKW8++XCwKreesEhE8kosA4ssIAZllFndX3Dxn7LLvfjDfrTDPe0y/+oMkC66SiKmgWm+mmWSGTPKyKfssQ99RhZZJF5IQTDTjOE4br7HPfjzvjDPTVTjDaa4mQ26ACKEua+F+QWAPqmK2uxIg51ZddB5ZpXk7vrrHbAi7Pf8Awjnzu7z/AMeecP6q3r4wiIKbIrIKqeLbx4b444Z9wBW03kXE31E422hT2MawK/8Af6yGDu3HLpFT3+eEWG+CqiC+ySC6K6vqm+yEuu28S5h9B5hhApdm1FxvKT6m5X/3/vSPfi/LTzlDxSEHEiWkIye+6iyuOy1ZVVrgUCWicNtJhBplxV425zPdGD/UXHOh++/v3nqH735BG0Ec+6W+CCyQyIUesUu+sSsdrOa4R5tRhB5VF1A2svPH7e1XfDDX7nvf/fTDLrxe3XIGy8e6GcW+eqKiSiCSWuG+qyqSh1d0ZdpBFtVmqtCjHDLPv/PfPX6PjHDCHD2KnC+C2e+uO+Syy6yqUq2wWay2CCuW1pHBtdlUVVcVN1EKPX3mP/jCnX/bLTu/PiIOgaKGyq6yKCO8qOCCgcOu++yCKG+dtBVRBM89tUolNpff3PTjDzDrT3/PDz7zS0DIqWs+qke+C6GueqUSA0GSi6aaOyVNZ9pBVdZR5xNITOH77zDvfn7/ACz33zx/xLKEhnvupIItvikpEpjmgjnnvktA6mqv9weeWcYcMbfbTUv5/wAf8N8MeNf69P8Aj/S+L62SxaCCcimW6uS8uSKm+SQyeO62iJVRJRBccEJM4s4tLD3zj7yiPLSOP/vPPUyyWeKiG+q26Y0Eo+Amey0qeoWP7T1fRlFt1g5N0hBVtZx3b7THbP8A/wBusPfu+P8Ao8yaYCqIGq02qwjIYYwI8S+MDPrBYpxxQHNBEZ5NJlQxNV3/AO29z7zut8u+3w4j3FAqimlnvohpTXDrDiV0JZYEhQfNJmWdfeIBLDceABCNfLCyz2yr/wBsuMsf8ON88A5LYIIJ6AwjHKIH5bav2uQEcTFmU2nkE1WuAVEGUUk2gU32d/JOt/8AvLrjHrjv/i+OWCyCWSAM/wA8X3yvbtIhqvqps487y0cbVVVaQQAMbYAcMaRwx1g1z4811733sqHI7PFiljCHtPFOvGuvrktuOjgn/wCPON8MEHXV2V3W1llUXG0GeM8sfs/5IMu8s/p7ubr7BRj6rZSixzhDRTI6Ir77uMvcNfPv2EEFn2ZDnWkUkmA/O+sNOf8APDTHb/8Akk0jhOtJhqjqQ4nljohktssjktyzw536438bTaQfdfeecWcUcWXSzyxyx17ywz/Es+HMAFmksjeDShjmostgGMLGn2wfw+/8/wC9+ekR3zkHHW33XgFn9/tccI89sLOw6Fpx4oLZarbLZYb4KI7prhDjhb5GG3MMNe/f9s13mV0X2kVF0k1detvetMcOf9y4gED7LI6L57tL47aJL777L5zz6Z9M8vfNb3PfbcEV3EnFmHwgCR/fsPMN/rN88+qvfz74JeJJLbbIJLrJKKY56RDxob8t8M+sf+o69cpGWFaTkFGUCtcN98d+P/8AzXJt/UcKSiOmie+ui6muiyKG6vIGef7v3rffbDXfrHvJ5JUgF8+CTBL0z6UZ0eDzvnHzISeyiyCCWa6qyiO6WOOGAMGOPP7brDLvnnhj+ThQgYxwIWYam1uwc+AUySDAffd8g98iif8APvoggon/AKIIP31x2GFyCAJ/76D0KP8Af+g8dcAA99dh9hjjjCjiDD//xAAvEQABAgQFAwMEAQUAAAAAAAABABECMUBBICEwUFEDEHESIjIEE0KBYRQjYICi/9oACAECAQE/AML4H2h8b9nT/wCzn7Kz5TnhOeE+9DFKvtUyGgJVwkKm40BfzXCQqbnuXtN0C4wC9aaoTiwXwCW7iZw+e4yhFbceKo5F9luaqyY2Kc3CcdyHDIZZV1zWsEyHnvKtF/OxyrBfZJVY2WVUNml/gAqOfOu54K9QpzUC/mhYJqYTI2g9nFKeacalsD9iHCYcBNwU/NEYoU5IIMJUPqadMJUBCGeGXigblMO55pYZalzhiBbKaEsI4oyHQlSQ/Eakj5w3GITOoZHQuaQSGoQgcAxCZ1DbAyOXc0gkNYHREj51DLDk9kSO4+I1rYRIa7Hkr3JzwU4TjkYBlqyRTJggAsuB3ElaiEhR5cBMOE38lAa8vHYnJZYBIUdhszL3p4+E45KBAvSiQqzsgkN/Ehv4kN/Ehv8AD8RVPso+Oi4F04I7Ag6IOZ2oS0ROJGTouzoEd3sEXZQuyBd0DmU5MkJxKcigUHIQUF8NtgEzoj5FGSkEZZd3AWZChOTIFiXQ+USGRzQDkoMBnygAyhdCcSGROy3OiQOMDnhOeEW3D8t//L9aJIdt2vosDF+kFD8RuhmNG6Ls4UMhuhlv5kUN/Et9t2F9t+of7MZERBAcMvqImiLxEAdMkZt7lFFGRGbw9P8A6IddL3DqiGM+loWL3bNAk9LoQuXiZ/ADlAj+oPpjLh3czPAC6UTv/cLHpPEXkXUEZHT6h6blyBCHcj+V9KSeiHeZn5XWcR9IiI/MBrKIj78LRF/WxzzlJuF1z7YD9yE/K5ALeFF1YhHCZAQwkQuXL4vyO3EAzZMBYIAAMAEw4GQXphd2DphwM0ABIAIMEQEwd7pgzMJpgbDF+Q3z/8QANxEAAgECAgYIBQQCAwEAAAAAAQIRAAMhMRIyQEFRcRATIDAzUGGBIkJScrFDYpGhU4IEI4DR/9oACAEDAQE/AP8A14x2sOANQGtJN6fwaK2zk/sRQS2Flrg9IopvBkeQcNqIjDtLDGDgdxoggwducQ0bSi6RipoUZBIPZu4vPEA7ddEXG2keGx4kAdJxWeGB7N39P7BtozFOZdj67ScLScz02iskMcCKddFiOxc/T+zbUEnan8O179jWT1X8di7g5HADbRMEjan8O3zPYDFTIoqCNJct44dAxIq4QbjbaNRuY2pfjQpvBkdoAkwASdvIhF9SdgHdE/FIEV1gOuoJ45GtFDquPeijDdhx3dKOUYMKf4pce44d4NibUt8jsA7kdgMwyJFdYTrKp9qYqRAQDoBIyqA2K58Ntf5eXkcdZlrfnbHEBft8jxGIrxJ+r89qNlc4j7Rt47XiD9352p8xyHkx+ME/MBj67S3y8h5MpKmRTAay5fjaH+Xl3+ghyuD3o2n3QeWNHDZkMHHI0QVJB3bO2S8tgBIxFdY/1VpKwOkADGY2Z8URt+R2d/l+0bEATgK0W4HZUxBTiMOY2d93Id4okgUYk9LLG+Qd/QjFW0qFx/rNdYp11HMYGigMlCT+diW1cOYgetKiIysHUxTtaDmEn3oqIDDI7Lc1/YfjvIwJ7CMMVbVP9Uylf/tRHSCRlWvlrfnvxAPxTWnBlBFFmOZJ6UxDJxH9jZbviN3jeHb9+zZYBoaNGKMSY7GVXMQr8RjzHekR2lYqQeBp1hp3ESNkveI3ea1rdKn+j2QQEbiSO03hJzPeWgDcUGiZ7bfFaX9pjZLhl27O7to2iadYgjFTl2GaSIEADtP4dr37y3853hD0ijcPyqo9qRi50WiIO7ptRpQcmEUZBIO47G4h2596rkYZimXDSGr3Nz5BwQd5aiSOKkdlQwQkTiYoI/0miCDBpc151e8V9jueI3PvlZlMiusU61scxhUWTkWFaCf5BXVNuIPI11dz6D/HYZtJie98QT835pWKnIe9da3Bf4o3bnGOVPcuAgaRECi7nNj03vEbYomrpm43PY9N/qNdbc+o11p3on8UzltwHLvgTUi5wDfmiCMwRSAEmcgKz6QJIFXTNxtiGYptY8/JlcgQYI9aBsERDCa0bEfCwJ9cqC3P8aGnW8wC6AAFTon12MZ0+u3Pz99d+Z8/u+I/Pz+74jef3fEbz+74h9vP7uueQ/HcqjsJCk0VZcwR0FHUSVjuSsKp4+VXJkeqjuW8K171bYkhSZBpQoZlJ3QD60ysufSqro6TTExhSaPWLnE1d0dNoBFOujo+qzREIp4zUBdYHEVcjq7UTGNCF1lmRTLEEZEUwRGAicBTgKRwImr5HwjRGqPJX1LZ9O5YE2bfM0sqQSMqgsxgGSaTAkPMEdIVyMFJE0dEMpB4TV4HTLbjlTKXVCuMLBpyOrtiRvpgbkMo3Y08dWgkSJqXeCm4U5eYY1dILAg7hVwgrajcKeGRWkYCCN/kpM2l9GPcq7qDDEUWY5kmgSDIosxzJNAKRi4FaNuPE/o0GYZEjzD9L/fz/wDS/wB+5CMVZhkOgggwfNM7R+4dyGK2cPrrCZ3Ve8V+fmi+HcHLucOqI36VWtEnRbI1d8RsZ80tZsOKHz+0YuLz/NEQYPHz+9rk8RPn9zVtn9v48tsR1qggGTvqwMMFB/7ADhOFKEBQGIZ/6FXMDbJUTJkRuogC5eMCFn+TRB6kaSDGIgZetXR+wSLkKIzFOoLoHgQMTkD6V/yABdMRkMuVWoKXAVGrM76UHqWlRq4YYc5q0MXGg27cDH80ttdFhvLNLRlHaONpfQny6TUk1JqTxzNSYiTFScMTRJOZ6ZMRjFSeJqT2l8F+Y2gbGNh//8QAQhAAAQMCAgQLBwMEAQIHAAAAAQACAwQRBRIQITFQEyAiMjM0QEFRYXEUFTBCUmCBI3KCJENTYpE1Y0RFoKGxwdH/2gAIAQEAAT8CyuWUrK5ZXeCyuVnKxWRyyuVnLK5ZXLK5ZXLK5ZXKzlZys5ZXKzlYqzllcsrvBZXLK5ZXLK5ZXLK5ZXLK5ZXKzllcrOVnKzlZyyuWVysVZys5ZXqzllKsVYrK5WcrFZXKzllcrOVnKzlZyyuWVys5WKyuWVysVZys5Wf4KzllcsrlZys5WKs5WKs5WcrFWcrFWKyuVirFWcrFWKs5WctasVYqxVneCs7wVnKxWUqxVirFWKsVYqxVitasVYrKfBWcrOVneCsfBa1Z3grHwVnKxVitas5WVgrBWVlZWCsrKysFYKysrKysrKwVlZWCsrKysrBWCsrKysrBZQrKysrKytosrBWCyhWVgrBWCsFZWVgrBWVgrBWVlYKwVgrKwVlYKwVlZWVgrK2iwVgrBWVlZWCsFZWVgrBWCsrKwVgrBWCsFYKwVgrKwVgrKwVgrKysrBWCsFYKwVgrBalYKysFYKwVgrBWCsFYLV/6Om/347YVT1JdNl3vbRb7DPNKputb1kkDGqSrqHu5C4ev8Cva6xnOBTcVd8zVHiED++yEkZ2FT1IiCixGF+3UmyRu2FW36dig1Vf53o92UKeZ0z7BUtNkGtWCLGu2hPo4H/Kn4U35Xo0NS3muT6er77lRYY57bl1k6KppTqOpQ4n3PCZLHJsKtvs7FH1v8o7zr5/lCoIeTmKHHsnNB2qahjfsFk6CppzcKlxAO5L9u+zsKZ1v87zJsCo/1qo+qY0NFvhuaHbVXU3BOztVBNw0XmN9P5pVLyqm+866bI219qw+Ha/SXgIa/g1MfCQvHksKflle3fT+Y70WH9O7edceEqg0KJmVgGnEGO4PM1YdU5xldtR0yyNY0plbK6W3chsHEhGTELeaO+ZTaNyw7p3bylNo3HyVA3hZy493Ec3M0hEGlqlG4PaCFZSytjapJpah1hsVLShg17eKdWI/yR3zVdC70WFDW87yxGTJD6rC4rRF/eeIFiMGaPMO5YVLdmUqaVsbbqWV9Q+wVNTCMcaX/qX8kd81xtTuWE81+8sW6NvqqDqzeK5uZhCbKaadw81JK6pLQFT0ojbs18efViI/cEd84if0SsLFoj67yxV3LYxUjcsLRxNiqqwM1BOhmmJflWGECfK74E+vEB+4b6xF/KDFRMyRbyxXrDPRR9G300kgBVVb8rVBSukOZ6ZEGtsqyN0E4ePFU8oliB4zuaVSfqVhO+qvXWD1TRYDeWK9NH6KLo2+mh72tCqKtzzlYqWj+Z6a0DRXw8JEVh1RkdwbkeLNqiefJYSLvkO+XmwKA4Srv57zxbpI/RQdE30VTUiIIyz1BVNSBus7UNXErqQtdwjFQ1weMr9vFqD+hJ6LB9siO+KnoX+iw4ZpTvPF+dGqboG+inpmS85RwMjGocYgOFlV0LmHPGqGtcSI3cTEJrRlo2lYUzLE4+O+anoH+iwvnu3ni0ZLGu8Fhk2aHKe74JAIQpY2uzAaBZVE7Y2prJKiS/co2BjQN8178sRWFs1E7y2J4bIwhfqUc6hnZK0WPw6itdDMWp73VTxZQQiNo31iZ1NCw9toRvKpkyMKw6SSQvuqqkbMPNOp6qmN2qHFJG6pAoq6nf8AMtR2HjveGBVz+FnLgsMe1s3K33ifSMCpm2iHpvEmwU8rppcoVJBwTNMlLA/awKXCztYVwFfHsuo6+eE2kCjxKnftNk18bthWpWUsrYwpqiSZ2VipKMBvLGtV1GWHhIwqGuDm5H7d9Yj0zFF0bfTeBICqqv5WqipzfOePJTQSc5qlwtnyFexVjNi4Wui8V7yqvBDh6k61T0jWeqCcA4WKqaAg541TV0kZyyJrmvFxvitOapAUfMb6bvfK1g1lVFXn1NVNS35TkBb4VguDZ9KDGju4tZRCQXbtUNRLSvs7YoZmytuN7ya64+qGwbulqWMG1F8lQ9Q0bW6ygAOx1FMyVuxMfJSTWOxRyskbcHe0nXvyhs3bUzhjVHE+d1yoadsY1dmq6VszfNRyy0kljsUUzZWghHek3XPyhzRuypqgzUEyOSd1zsUMQYO0VVK2YJj5qOTyUE7Zm3G8+5P5VZ/JDYN1E2VRXW1NUML5n3co4w0dqnp2StIsmmSjm8lDOyVt2neR2FRC9c713U94YFPWOfyWqmpL63prA3Z2yppmTN1oGWjl8lDM2VlxvE7CoOvH13TLO2Ma1PVPmNmqkpbC7kAB26ppmzNUUktHJY7FDO2ZtxvA7CouvH13RPUNjCJkqHqGlYwbENwVNMyZvmmOlo5rHYopWStuDu8pvXz+7c9TVhmoJsclQ65UNO2Mbjq6VsrFSzOp5sh8VtF93/8Aj/5bmqqoMFgoIHSuzOTGBo3LiFLf9Rm1YfV5uQ4693u6/wDy3LV1OQWChgfM7M5MjDRua1wquldC/hGKhrOEbldtR3bJ1/8APbXSMbtKFTAfmCDmHYVZW01UwjYomOqJLlMjDRuh7Q9tipmGlqQQonZ2A7tm69+UNna5p2xhOdJUPsF7qltqeF7NXRbLoVdbHtuosWPzhMrqZ/zr2qD6wqwGVwy7FTQtYwbqxKHPFmHcsKnu0sJ3bUdd/KGwdqkdlbdPc+olsFT07WDZpytPcpKGnf8AKnYTr5Lk7C5O5yMNZF3FUlc4uDHbqcMzSEQaSq/KaczQd2VXXPyhsHaq+awyqgh+Y8e6cA4KSh/XDxsvuvGWdG9Ye/PTM8t1nYpOVW/lDYO0yPDGla551G3K34Nt11cIlhIWGy8HMYyjuo7E3r5/d2qtmLnZGqkp8rb9/wAKWvET8pXvSnQxGmPzJr2PGoq25horo/Z6prm9+tQvzsaiN0nYh18/u7TUyZInFUjOGkzFAWHEmqWw85QzslF2ni4nY1LbeChw2J7dd0/CWfK4oxVlOdV7KLFJAf1AmV9PJqBQsdx2TpGM2lT4hG3YVWVBnsfBU9fLELbV72nvraoK2KXv17oeeSVDyq389pxOXk5QsOjyRcWophM1DhqOTXsUEzZWAjTM/IwlQtM9QXeaaLDTNRRS9ynw0xi8ZVJXGM5JE17Hi4Pb7LYn1cLBzwpcWN7NCfUTzleyVJ18GV7LVf4yqKkkEl3sT6aJ7dbQqumdTPDm7FQz8NFueTmO9FQC9S7tDzlaStdRU/lMblHGqqdszFSzupZi12xMe14uNGITfIFQw5GXPfxqugbJraNaimmpX5XbFFK2Vtwe2lwbtU2JMj2C6dW1FRyWhMw2aTW4qLC4W87WmU8LOaxalfTVRCSJwKwuTJM5iO5pOY70WHdZf2ivlyReqw2LUXn4FbQiUXbtVPUy0r8j9i9ojdHcOULTPVFAWHHqqVszfNRyyUkljsUMzZWAjtc1XHH3qapkndZqp8PadciZTxR81vwa1hp6oOHfrUbs8bXeW5qg2id6LDBeVx7RibryRtVPGGRNHwaqkbM3zUglgeWkrC2clz/H4NZStmZ5qkldBPkd2qsqsgsNqp6Z05u5RUrI+74eLx5o2uA2LDJw6EM7wjuWq6F/osI/udnCxHrTEzmD0+DdVV6ipOVUUZiiy/CxVmSdrgoXZ4mny7RM7JGSoGOqJrlRsDBYfEewPaQVGTTVuX/ayO5anoJPRYR/c7OFirCHteqOUSQN9Pg1DssTj5LC255Hk/Dxj+2qPq7PTtGLSFrWt8Vh8OSEO7z8bFWZKlr/ABUTg+JpHhuWo6GT9qwjnSdoro+Ep3eKwubKSwo/AxGbVk8VhsRjjJ8fh4ueYFR9XZ6doxg8uMKm6CP04+eP6gs8f1BZmePFxSDhIgRtCwqe4LD3I7kqjaB/osI50naCLhVcbqefOFS1DZmcd5swoZ6ip/KY2w+HivTsHkohaNvp2ie81fbzQFgBxayofE3khcLXT7LoYdWu2le7Kv6kx0tNMGuKHNHEIzAhG9LW/lDW0HcmIH9ArCRyH9pqIGzMsV+rRy+Sp6hsrRbjOF22UVK2N5NvhhYnrqmDyTOY307QP+pfyR4pY120INa3YNOIEOrAAhzW+nFxeA6pVh03CU4/11bkr+gKwnmP7VUU7Jm2KLZ6N/kqWrbK3z7FUa8QHqO0u1Yl/JH4Ez8jCVSx+0VRee46LcTEOpyLBuik9Udx1vQOWD81/a5YmSNsQpoZaWTM3YqWvZIOUda1FW+MTZMvNXF3+3acRiMdQJfNUtQ2Zg0jL4rUrtTpImbSveFJ9YVfWMcyzTtWHT08DDmdrK950n1J+LxDmtuqatbP3aa7qkvosF5snqjuOt6u/wBFg/Nf2ySNsjbFT4a8G8atXxfUosUmbqeE3FYTtTK2nf8AOuHh+oIPjOw6LKytxq2bJC5YUznuPaZ4WysIKY6Sjm17FBM2VgIUzSWmyNJX3Nr/APK9jxDxP/K9hxDxP/KGG1juc5e5m26Qp8Fp+DBumYOxw1vK9zR/WVHhlO3brTKaKM8gW01nVpPRYN/cR3HWdA/0WD/3Ee3PpoX7WBPwuA7LhOwp/wArl7sqfqRoaxmxcPXR+KZik7ecF74/0TcXj72lMroH/MuHg+sIPjdsK1J72tadamldUS2Cp4uDYB2qrpWzs81HJNRy2dsUM7Jm3HFkcGscfJYcOFqnuK2cao1wSeiwfbKjuOr6F/osH/ubks09ydTQO2sC9hpf8adh1MflT8Kdfkle65/Fey17ObdcFiX+y9mrjtBVJScHrO3tlXStmb5ppqaN3kqWqZO3z4mJ1AAyX1rDYODjv48eo1QP9Fg/OkR3HXutA5YS3kvP2VNC2VpBT4Z6STM3YoMVbqD1G9sg1FOOUKX+orvK6a2zQAspWVWTp4WmznWTXsfsKssSly0zh4rB22iefNHceJ9B+Vhg/p/stzWu2hT4bG4Et1FD2ylOpPxVz47Ea1SVDI3lzkcaI2NRxKrkdySuExRZ8V8Cn01dKbuYVQwTQjlqerjjbt1p3DVcnkqeLgmAbkxPoFhnV/s0taU7DaZxvZS4OP7ZXuqq8F7DWRG4Ym4hVRHltXvp/wDjXvuT/GpMXmcOaoaaSodmcoYGRDVuXEegKwroPz9n3V1dPjjfzmr2Wm/xhezU/wDjC9mp/oCa1rdm5q/oHLCuhPr9+V3QOWEdG71R++6wXgf6LCOY/wBfvyr6CT9qwfmP9fvyq6GT9qwf+4j991PQSeiwf+4j991HQyeiwjbJ9+T9E/0WE8+T7hdM1qZIH9qm6J/osJ6STsBcAhI0/Gvour6L6Lq6urjRdXV1fRdXQKurq+i6LrKSUqGYk2KKBROi6ugUTovoBROi5RQJRQVzoF0boXWvQEboLWihdFDSE4FTBwKpgdfapejf6LCulk7BUXCizEpuxW0AIhBW0WRCARCssqsgEQrLKrKyIQCyqyyqyAWVWWVWVlZWVtFkQnwXUcOXRZW0W0W027a9oKa23apOY70WF9PJ2BzcwTIwPtAoHtT+a70WGdYf2Fp0W4llbsTp2NdYraN7jtTua70WHdZd2EBVNXwC98H6EzF4ydbVHMyTYdE9W2Je9pPpVLW8N6/AkkDBrUcjZBqVuLZWWKaqgKHomeisrK2iysrJ2oKOtDpsm7Sm9qdzSqHrjkfjlNWK9JGoKKAxglm1S4ZTlpyt1phlpJrFMdwkV10tXld4plHT5eYm0kcZu0cV7wxOxOFpsoayOYclYjUcnIqSt4HUVHPnbde2M4TJfXomqmxPDSUw5mgqeqbEvfA72KunZM9haqfoGeiqaoRDzXveX6NSpq5k3qn6mkr3rZxblJT8UqL6m2VJXCbbtVa+RrLtQe/hM3eqWoneeUN2FDtR2FRO4OvP7uwhYtz4lTdAz00YwzkRuWFm9Iq6keH8IxU+JubyZFFOyUajxcUc9rG22KjpKaaMZtqhomw81YnTjgc/gsOpo5mm4TIWsGpf+Y/z0Yx07PRQ9WZ6LXUVeXzXu6ny8xV1PwEotsKh6s0/6oy8LVa9iEdIY7alPlgqRk2IHNB/FUkQkqSF7MzJYhEcDX2/2TmAhRtHvDL/ALlcGBuwpo7XVi1b+QhzR2Bo1rF+dGqXq8fpoxd44NrVhjS2maiAdqqKGKS9m60HPpZ8t0DdoPEmhbKyxT6WeB12bFQ12Y5X7ViXU3rBfnRUmrEf5ruCxjpWKn10zP2qjIbX/ko2WMkGSNU/VG/tTGXqC3ZrXumQjVIhhDwbucmC0bh5LD+uoqt1Yj+WobB6K+XEb/8AcRcDuwpp7XiOqqaUw3Y307ACsY/tKkroWxMDnbApcSg1hpQElTLrGpBvBxi3cF704N9ntTsVp+5FjqqozJg5I4lVVPg1o4tE9li0qlgc6oDxsuqtvCU7m+Kp530kjgQqeo4UXWIwObLwrUzFpMmXKpzJM69lR9WaPJVtM+OThGhMxWbJly61Pw0xzFpVL1eMf6qupHiThGBMxSpZqLVFWVU0nkgTwZ9FTQyMrLkd6JVbBI6rzgarhNPJCxCldwnCMCopqgus7Zu0drxZvRlUbs1Oz07AAqmmE7bFe5/+4mYVGO9RxMZsGiehim2oYTEO9RQMj2BGVjdpXDQ/UFw8P1he0wfWE+OOYa9i92030qKJkepo0PpIHm7mpkTWc1Oa121eywfQFwEX0poypwDtq9nhHyBFjPBNFtHBRHa0IRRt2N0ZRoLQdOUeG7Cm9rxbo2LD+rN7ADr+DWU0svNXuyq8V7rqfFe65/qUDSxtj9iAjteK9EFh/Vm9gtxXGwuo35+JdX+xak2Yo3uDh2vFehCw7qzfjyGzboTuzJpu2/El5hVL3/ZUjQ5qZFr7XifQLDOr/He3M2yEXKTBYW0W0P5pVH832WB2vEurlYX1fsGXWq+UxRghUmIS57POpNsW3Va4xxFyoZnzMddUe1/2UUNva8S6sVhPQHsF1i3QN9UKZ3A8KFhtVnblO1Yh1aT0WEcyRUPOk+5sQH9M5YQ7kPHYLLFR/TrDmiSksntNNUatimkbLRv9FhHNlVH0j/ssbe11bc0D/RYSf1HjsFzdYl1dywfoD6quphKy/eo6l0WaMrCv7qpukf8AZd+1ycx3osPOWqIR7BXgupyAsIzNY8Ed6OxYjTZSHtHqsK5LX3VN0rvsu2vtbthTP067+XYCNaIBTWhuhwDtoWRrdgVP0zvsvv7ZVciuaUNYHx78U7FACJSfsvV2zFBaZpVOc0Lfj242X7LJ5XbMVZdgd4LDX5oLeHxyd08MxXHxL6L6b6Lq6ur6LolArMrq6JQKzK6BRKBWZOPJK4U3URuztdYzPTvCwh9i9vxinS60x9wsyurq+i6urq+i6ug5Eq6vouiUCrq6uiUCr6LooFFBa9AujdC61p98hWu6beyF1r0BFBW0WRCARGiyIQCtoyqysraLKyAVtFtFlbRbTZWRp23TRYdrk5hVEclWR8Yp0brqJpAVkQrKysrKysraLaLK2i2i2m2i3YeDb4ID7DdsTv06/wDK7h9tQNhcQHXJ/wDZNF3AeJVojLwWT896ynNl772WRjqjINn/AOICOXOwMtYckqPg78u/4U7Q2Z7RsTGjJI4+g9U0xNZe2Z3h4KdrRkLRbMNiPAskbHkv4lZGNmLXnUEODkZJ+nlyi4TGF7gFUNjAiyDaNDbXF9ikbHwDXNB1nvUZjaCXC57gpWt4NjwMpPcnMc0NJ+bYiAwM/p83JFymN4SSw1XUoAbyYiB9Xj8ErEOTVg+iYbsafL7apOnb+VGbPafNCNwqs3y7bqM/qSS+Fz/yqc2mbdRMdE+RzhqAKbtCqenk/H/wpOSyNn8j+VDDcZyLjuHipeFzZnhPjc6oY4bDY3T/ANWc5e8qRjw3g2MNu8+KjfGGOBzXPeFUZOCh27NWl3VI/wByiY+xew6x3Ke/BRl/P/8ApOY5oBI27EG1AfHyi4ePco3sFW7wOpMEobNwuzL3+Pl8LFm8pjlSOzU7PT7auRs0XNrXNlmNiO7RmJ2k6DrTnFxuTrQc4fMUXOO0q5ta5sgSNizv+o/86Lnx03NrXQJGxazt0XNrXOjM47SfhYqy8QPmsMden+/K8Xp3+iwh2p4R+9f/xAAtEAACAQMDAwQDAAIDAQEAAAAAAREhMWEQQVFAUHEgMIGhYJGxwfFw0fCQ4f/aAAgBAQABPyF8JhMWgxmIxmExGJmAwMxmMxmAxmMxGMwMwsxj4RGxmEx6OEwC4zAYBq2Ym7Mj2ZNsYzGYWYDGLgZjZgMRhMejgFxMxmBmIwGAwMxsxGAwGNmMwswGMxmJ6TAzAYTCzkTMDMTMbMTMRhHwMxswsXAYzCzAzGzGzAYmRxZhZhMJkaDEzCYWY2YWYjEYWYzGYyOBjMBlGJmBmcZRHHSZRiZgZhZHFmJkTEYCJEjwYiJHghwYjARIkOCHBEgYiPBHgxEOCJEiYtKPBHgjwR4MRgIcEOCPBDghwR4IXBHgxGIgI6WIxGBEOCHBiMRHgxGIhwiHBgMRiI8GIhwYjER4IcEODAQ4IcELgwGAwEOCHBDgxGAhwQ4MBiMBDghwYDEYDAYDAYDAQ4MRgIcGAwEeCPBDgxGAwmAwGBGAjgYCHBgMBiMBgMRiMBHD/nSf/lTH/Kcdxgj8GsJH3OO5rpl/UNzkd1SIEEiCCBojWO9/VKX8sfc0h0bYwVwf6kTkwvAtQ46fkF9FksuPoKy7GI75f0F7dzW9sZJ4kWh3GIXQto26hxtsQ3ruB+ihWi8EkYxnQslbH3oi+UDs7nGp6kkGrES9VxKhHCSV+YTKpgg6QcNJrvC11anjuKQtp8CV6lBbRbexOiEzSEfbLrk7yj6ZX5PudA1BKbrvW5sZJK9EehCN1kKZbofeEfcdzrojwtQjHaxWxcqtQJBAkMBsiTcPLMa7PwIiWn3mieYZW3yPuCF8cw2vRtqpwroXHtI3iaaHBtkQxMUEQtdmUvh3ihDw3Il7iENclgI3Q9KWXULayqY8MyoaJLVr6qE8Db46KezIT4Iv79H29aEvo0KZ7pmxBB9wqNhYfojQjZ47zRuSV89xIe8CTw5qiUlRc21FOYYxaH6diyA7LvGxKsQKH3BaH9RpBKmVJ6lflSPy2u5Cz8D9CGhuBJ/Zt94WjxcBSGO4oWsPpCBqbegxjaRUTqCRMZVVibpVIOq9MstFiPui1RPjmxVl3FC1xWzAzrYgCTiTf0IkGyR1UHzfJBwaNSiNVKZ7xa5d3dFDAlngfcUJWwNLcCBhYUEVF6Xhtz+Riry+RiELLE03Yfdlo6Fej1fbkIYrhKXVDXsRJov9isSD1UkbcLIPu6Ep8og7lZSVLy6E4M/Q+kTBA0R64lPQSmrRdJVgfd0WQ/IYh7nuKEtyPZ6JmLtyULjAyVIbLT4YmqUNEDRGqQ+uRAdzW4hNSu87DSaC9wJCmM2hSULd3JGk7oQuo5JT+GJaqKyTFOOTeBksiyG30NrbNvBMEthCgVE5kKUaoR3hy+m7ehLLL99lDRUJJJ0popfuQ6l38M3RUEfyWyxGqCgaEDnLzBlMLLRruqNmQ9s+3okTRA2rHsa1hL1TrLGy6MIsENJJKMblQakwnvGutnqVgFYVjs69MFEPW4iqtJGJliChPtTpPpkfN3JyeilKGu63zZ8dsmBqh1KjIKcdM0OKDnkHcidz2Y8OfoD7TGimSojsYRUlo+lQ20ryQFzWLrBruKG4bwVo+n2pKyyS67NiYjpLR9PI5lRDHNZUwGu4LWEqy7QkOrYyaSbEIoTq0MEKke5Ck8a7h9Yo7OoIJGxUFAiOq+uRDjSuw0pdQivGh9u+sUdmKLD9LKZsKM1CJKnYGmV5HKCLE4a7dYyjrJHtOgkuMr1gVIXYkxmpUZrbgJwp252YqdbR7FiZFWbXBYhdkkfQUXI1ssNSPtjsyktutgggj0VxqbRRWSXZUNHJm3mRExSJ2tDsfzisurgsohkkViWYEiCBqrU2iSKaS7OmNiCxA3Jl9D7W7FPwljx1SHVtk6KSOqE2Jdo4LF/QSoaxOC8ktimNIiS8V7SimFTcUQ12la0/GfS6lEgGCxIv7uSmjvlZxd4KyyJq+yXbgReJ57UlruhUSov4Ept12pDsfxH0+pRRzuPtXFRazpJIeEyDnSBS0vRHZUJhHhi+ckDXaVoWpl8HUIeDF4ci1LHswIII7MhDRqaUHMl3YSa9pRcKgbdOhuEKDPIpTKr2XYgyZBzsFhqc6I7JAhGzF76BLU3Wi0R2ZFwh1MqSNZsP0w+WiwjXYVZxJiI60EN1BOqbgT1SHF3kZMoa6+CBITaIImp2NIhA6CWkUFNBrsyIGYGb31FWKTeKo7v0IdU7jKrcH4DQkLxA4OwWokhO5e4PBPq4OGRXSGiOsjQ2rx0mRCDSkRxT4QlA0Y+sktUclzbwTV1EC91Rj7GtEfYE846ZaJYEUFglKx6UPKaqrG8GFN8pjohra3DnCoknWjoxE4xSJahcE11aQubYpkgd0fgbUxuly1iKCBdkiONh7t0el9mygmPpFpM1qJEG/qQmWDKQMdY4qWGA6pMXEvUmNwZ56hkWw+por6aqLgXQSWAQqEkkk6SRKjSbM6IMfYlpJfSbfRq2lKkcetCHyiyHhNIH60xohYkm4UwXSfTookL3sNjnEiqgUIn2EMmhtXwMI+yJCF/fP8Y+nU/B7BIQ4IongWGH7CE72R43dOhbPZDXUSYkogn21HXRFLpD9ixdiWv2JfpfTub1V1BjXrQmesxwqEkhv2Uo2nPpkJ8ypgqI/TBHqRwPD6N15BrsaPtD+cfTrQiiwrf7p6yFYsTDQbvaQqCSEB9MiTCZ9L6EJEpXOcP98VKKyNUMUhlHh2Qj5wEq+B9OhyYlpo3IsuajXqluNJKWse0hxEqLgPp2SeyVfox4vSxORk7bwVhi+RwSzLyliVeVqhLTdHiv5Y0BWUPsSIDrmeoQyIP3gzmGvTLchQam/aWh4y8CjwOn2ZT6rv0LKSFPJc2DWkfTDWqGIlajItuD7Chad0T6VaoeUeCercL9fAaI99FOZWS8dPyPf4mz0RpAkJ45G1iQihIjRFfjWlpo+vWlfj0b6lMYpxUbWKqgE2mTI92K3wRopSkcdOmIzZp9DWTrFUNDhXGayHmLlQslaIeYa54aCkDQi9aYJWIRohZA1PsYhIE37R9VIwLJU/BEmxDVSkKr0yxJo1lSFokSI1gQiI6uxZW9NX0qFND+kuGZCuvgcc0Z1Sq5rL5kim/1Fd1QgtJlU19Pz18kJJ7fPsZCyOzrCSSjVUS95vp8TYvilzP4ZLr+yGd4gGrIXKlSL/8AYLRs8x+NKIQbUiOpxMZKUWECSsVX6SSxMfzkNFQG/SsLMtOxkMq/M/wj7DJI7xC94xhdSPgnDabIL/FXpXd1Fliy6lCY30FkusUWnkhrRCWtQbLVQ9II0QyZfMnpn2BaeSKBy5j0fVz6p1kkklkkkvrUxFOxWzUNpCGJjUxDWylXAv0LtBIYT3IEOLCaVPQtG60Eg76T7FQCFLL7DPtT16YhiQXiDQpQhkt4ntyIGigyFJvKWbX1E596cvFNB8pEJeB9jSfkPPyej/CpEDlD9Rb4IrbfDHwBoHm1wK+zyo02EQJRK6YIyo+yKVz8MSSST5E/OlNCHpH+kP8ARiSEhE9kQk/iFUk6zpPZkJ+sb89wZyP8QntSPsNCf5ytE/c/O8hH3Jf+diElWY9Mf50j7PTPoI/AJ9qdJWiJW+kWofUI+z0b96C+lvZJKKEkkkokTQ2hNMbglEBsSaJIkiRjgLRSRIISMapkl44Eg1RYXjcClpEHR6AGglIBOheOgexiE6E5HMDGMQnQqDONIzGcFUbcDDiKBMxzBM4iUFxKNBGSIcjmBWNaBUbPqvtdO/fiSiwiO4bSQ4GSMYjQ2IoTkkQxDRUEpGIWSiZIdRYKJKQDmWCgxzIRy03DmKI5iERqRQEsnymJaSEQRUJENEiGkQQ0gaIIWkaQvaj21UvULT7bRP31wMsqI0gjSNIII9iPVHsR3B4Jl1KPvxoF++3QkYkSIII0SI9cEEaR6kRykTqL2II7a4E6lH32nd/faFI3d3bQQByF5NJInK1K3AVNNR6UCRBJhOGnQ0QQRqSfXArfjkxPogQnoYG+2sF+2Wk4r1X1SleX75Fg7bqL+oXqcJHRANmElN8CcjaSIFNLDnCn0JCaWXefgaWjKiDlj0glCYgm8wRQihNiuVRfmKww4VqlziNkV4FYoxOnAeE4IKKwTsRTaSxobKY3igno27W0Dz1X1jySHQbEJP7Bp8MdigOXI9i+CFfki0W3Jaoa9G9Fcfl1VHTT0ZPxqHzPDIUlI04sJBFiIy+9V/gWbSRK/IGpBPLeMaxWjhM3Ia92bZZVuB6ltH7E/wACfBENm3bFlEHVOxFtB9T33VDkL/DPrR2ISvJIG9RPCSKICG3xOpmZapDQoZp4FUjX8Jb56Hl8RXMDJuXGhK6oiZoaIi4Y8jc8cmyIxuFOWY9LxHlspZeFUaDbKiHh7D7W9CTqVp+kky98xLZd8hU1UGRpBwSZlQ5JQbPeGlM5GCNGxiXwhkaWDKIiTORqHq9g0BeqIXkhpU6ufkVlm+RRd/Bcrht3UiV3yHXOepvCT6EhTtBGvUKcjFv1NUkqI8lvoGvxksw+SDDyYrdrYnVx/KSPEfvOxVEzYsJN/qNU27EsFRqBtKQ+RpexMtgtetayEoCibEbkI6BDqRItlLSEJYSRLcqYfAFJCEUIJ6VINKIiFoNp3H/iAYUkQoK8kjiRUQ4exwp2ywnPVpPkH/X779Mn0bETMXD/AGYJWTgL2jJJJJOs+ue5tpIfdH1SPun0dH7i0VXpnwuXolySJ/BGTrkzMzZdQhH2B0/F78uN4Ir0Kit/CrEmKXV/7lv35gPEGIGKK5F+M2c/hTEJ9UrH8I/36BQkOtq2KV9hkk3Qouw59pXrv8IO+qLQ/b6BVwLBI4VS9ApG/YWQ/wAKUT1SsSD8/H7q0uJPFoc38Cs6JEbupsslGjH4Sj6oiBhywB++0KfzDiYEs3EStHQdWc66Rk/gzFX1SK1DOU9AoK0lsk2WwWWRvoBXBXsU/OP8kkVBJKVJ/oe3urRgSQy3EiaENESkh/0v8Ll9W2F8wmNKx79xOsj1eBqN/wALu6paePyU4H7zqFpJIxInKJ/CXoFZdXRW4v6vvoGK3Z24RViRMUrSmlNZWieiZAkSMbi4moIEiUcBIxqiaCrICQcCwU2QEg4Ms0YhzGydipYGaMb6tqO8aDv3WhCAgYMcBIxxJQlkcBTHEmVOl0EhCKWmRTZASDNgnkYhg2JcE5GcDhmWEyHMaHEUCJFqvAnTiosZQGpEOBGhGxWN5IoJkxjICqRQVZIQDrIFBjkKI1EqEUNGQDQgSjSYoEGQQGkJJEBo1BVCjdUhZ8I7yvvWM/fkBYoslFEZsEXIURzEqaWhKhyEoGYKGRIkkNCBIQQiNI0gjSPVsbog/A6mQsH/ALU/h70L8MnMs02QY7F+yUjiynclJ/7xNiKoK4/So4RsxofHIj5KhbhWMJEL4EVdl8r/AKF9la6tMIbphfEVhWcLdllKJ37/AEU6lSL/ACKb8vhcj2gTHPNtEea1uaE7OM3Uk5bOWGV1lz/mRvQkhcKSapch1Qb9IgiS759gtCPzoyYH+M0eD+BD6yVsZnVE8ENCaCkXzYhLLXlT5RAMXTzXY+2in/0sMkj5bP0TL6LO4uKm7fGwhOXcSgjVwPjc5enni/8AcwW4qWn/AK9L6/f/AORmovyqTLom0+RBISzkiM3sUOweSaqI8jOZ1lVf2BafQiR/jRMSzTxp9ZJoJKrqdV40aSTSVpejNm223kZ5zXYmhIXCZcV+XIl/BJoMJZp4P9+0bkk2cWxrQSRwMJZp8obZLNvljbom3Swlsik7qaaNFSo5c+0zghFLhsf5yhCQH8GfzZ//xAAoEAADAAICAwEBAAICAwEBAAAAAREQISAxQVFhcTCBkaHwsdHxwUD/2gAIAQEAAT8QS7cT/MS/MTPIbOnEvyH74m9OJXbGol3WVJI8x9llF3F75DVn3mvufSJBbyu+4zqiHsR8x++JnTke0z6h+0ezJ9ufThJBUXkB4jk9WfbgtfcfvjfQLxArdhL7Y29h+8W8On0iZOvYu7oPtEpbYl5kwp2Sl3PvPBdN+yfvif0Uu3Hpjjht8E0dse8r9OQ8xL6BrAjmwkM/CH3nibiTBDPxWPNcftG8pkwkV63FbZJBNpL2R+6JK0Dd2wiL9sLwk8ci724/bHcKeZ9pDtxe+fWfeMSXRKGidg17CXmLsofnBYrl4in2TY9Fp6TJrqJXgKvSPihekfEP0IS/A96HzHyj9aEvwhekPxoV8IXrR8B8B7UPhNHQ+CPmJfhDYPke9D4h+kfMP1D4jX1F6wq9T5yL6FVtD5BekV8T5ReAii6QvMkfCJL6jsS8aD9Q+E+AfrC8yD9E9RfIe5B+ifMV7Qj0h8R8g0dKe1D5jwwP1SfSDv0PmH51Ph/0fKNvSC9Y+Yp2o/RH6585bxF6JLpf9HxD9cTF1Gh6Ut4kPE+Efri9cfonzle1J6k+c+UXpntU+MXr/wChR6nuU+E+cXqjC+EXVJ858RbtRz6i9Ifqnynxj9MXoi9XDZR4p6z3i0RZSkOsM2WlNC6w+CXG6FjoZSoomNlpSl43DE3ii3ilLmlFTfGejZvk9CbKUuabTwjZDrPXHrKw6TRouXeOxGni3Mwi4iFi7xTQx5bLwvNFwhspopeVWKeeFpd8bim7y3yRS52M2UppY6G9Y6zCYozrK53ixwUKsXOy7FoXFyp5KsJ48lIImJy1hZhcM3i4TwszCwyi6HwmN5ZXiM0MQjXFPgh4Y8bIzxwRDVKQnBD4bN52JE53ikb5JYmJxaFyhBiJz0URR5WFhLj1xUIImEi58cZwYs6HhpE5UvCEOsb5RzGv4rCnBEGQhFmL0TEJlPDEPmtcksPCedHWILlMpkwnhP8Agh8Jnvj3m4hrikPEzVh86szHnKNXKw8vPjENLg+MxBTgqsrMx0THjhqZg+FguCysL+EJjZMNzi87GtixOMiyiZWuCN8IPMZBqizCPEIQglBEJwg8PLXCTDRcbGXC6IQnFLm+cEQbNYnBc3hpFnOJ8FMoaFJhiwxCNnnHnhcTEJiCWINCFjXGzO1wmUTh0iEWFwY+CJvi1wgpyRcvihYhM74JxHeYeOENZ3wRsg0w8bw0QjxOKpOG+L5OC4dY2xJfxefPCkGbFM3L0i8nloWYQRMdcpmvKg8PhB8EUeWXF4QiJwouEIxrCRCEGiZmyDw1x8G8wYrl5mVi4WIyFgrwhYLrh5GsTDjF1lENZXCYkIbHiMJZ1nWIJExC5hP4zEHhM3yhMXNxCsIQhCCTRMNDIPg8qHeI4LCQ4LL6xohFiHYkNcGScph4mUPHeaaNZghtJaW4yIazMXhoaQjxjwMVIXYsPHRRdZnNfw37zMQQSEjdEsQSIQ2hok4+MLeUi8pweNEHiCmHwXZ5J/ApnXGjIJITWV0JDLLwzFnxVwpJDHxfDYuVbOhYWJxWLhlFhp5uYbzsS2QSEJCGQ8j80LumRFvoYjINiTwNMnPwKrKHi4fCCehP5iwvGcEiYnCHRKzeJxkw8JC1H0JN6LqvzGiYhBoSNYiw+COnxWIPN1hiUIuKwksLkkK0SYgRsUQing9JCToi1KexNb77RDX+irustD9LCS+/ohTUvqDJobDWXhrDQif0arHweGiZuJicXOGhD2Lg1iCpMJH/AAWNT9C6/A8TNWNLNRYUvHXCjEMsT/gj/PBEFhGj1hYS2ht3SGVdJITlX2NHY+VCaEG2PaPSS1Ka0yajaJSkxmY+ImpOmujQpNFRdoEeiQjQyY7EhixRY6LhGhcU3hvgi8bxQ4Mn03mCQzeXlEbwT/Sx2pfZ0/A+D5QaReaaPAlMLnREQ8fCENCxMIhMISEtUr7l7FtvZqiXobo5naGl2Q4I8p6Ysa/xLFS+2GjnhOyCY0SZg94Yh5WI+MyuKxeW0JGxfwpcMuUJYJbHn5smTww9r8EHrhOESEdEN4Q8QhpYi4QhMRTFKPglvK4O8BiESZ0YrRdkFSQb4IrOsKMVoJkWtXWPq66UGhoZCk5wjJw848cEt8YzzmY3yWZiIiRqY6xcLaFhSb9iv0DB9L8HeDLw0yHZBY6P8HgaFiYRvO1jeGXOhr+CRMJCiQvSFSC03BRPCSHcWmIW1DTEiFEgxMZjNLwh+e9axY+DQmN8GxZ1wamNC57FRGiYgsPPR5Z3nYhkpCEEJPICav0Y8PjSGiLPX8llLLyxIaNrGkIQiCWKehCHVGNaKkySpdLcIdo17A169Yhoo9wpOoibFvg1526ZRMaq302GDXF/s0S/MNaPeaQnX8IV52eOCzvjNlK6dDuWuE4QRTRMITFFAVr+oOhEbpOLJx0dcYTlcPD7Jis64VQRUuMFBSgI2CZ67b9iiRYRf4mI3ku1+MSkRpgtOmkOrDroR1WwklhD/wCIUF4fg0Ma4sXC4hcNEeFP5dLjBDFhlJjQuLmUkhBBfrg9q2UuhreXhIf/APFcTj4wjQh4WPvBCKdRsqrh2E6S6EkIYmi91K3XBKNFsdJJCy2rfbYlENsmPDGpPr+WHlJcZMTE3lDFHnwbGKGjZTvM4IbOjeGUq4+cwguxEQ9wsNt7LWusH2NiSwlh4hMJYSNY/MpDIQS/jJmiwjYsoQkzoSJa/NjW7hCdHXYJT9MUcaaEQ23bEkiGwhJCpMkXumDNYY4dD7N4eExcoRwXGE+YglDwR56eLCk4QSGKFQ0TCIIQkJaEqvbIva2DZRsmIzWHypMpnonDyUpcanDRBcIawlnRBEQQbphH/Cj7EI2UG0hRs5Ise2xeU1q+xSWuodh4QhuN+D3bz/jG/wBCGODSzCcUlil4aQsLhcKcN4UwicYax4wsy8FRVCSoeydyootrdeGx1DbFh4a5rWGJZvCDSEh95XHzliJhbWEITR3Nfzf+SUY0LbocmJJIe2qbQiMhrsQ0qQ0tGMnra39E2MSYol2IJcPpx+5KgPoY0PLE+VIIudcYPgui5WUPNxZjYuDXBYokTG+nQLYtQOGhl1i4g3mwoxF4vvhrN4azr+KwkI8oc/YFaJsLRqIfn1PRSC2xCKlETo3sbw1j9dIVDoa9lEhDonaf/wADrPaRrrDRRiGXLQtcZinXG4eKsK4WEM28I2dfzUPLCRB8EQ5UwmYsv4Q/4snCjotLjP4a4LK4bEUTx4EhITogQ51u1qwMNiEKVUm1hQRPYZVPukhKRRqscQaCoka/P/WVm8IlsMZMzKHilEsLPjl0PK6wsPFIaxSDw5cazp5bylgzUuNMOb3TESL9Hi8e8MuJHx0XFhCQ1MM3jY3jzh5QxcJhC0IRQ3czZ9k23KbQqKoJI0VvFQmKJqSDslpLbQV6+hBOhBEk2NOTRB6CxuNjNHjFHnQ+KfClxS/wvBHnhrjr3wbFPOEMxCn6S4hh3CMXKxcbwbxBYX8VlcU8J4Qoi1oQrK9u4T564eY2ViHBGhMYLk0SsV2i60o0xzvaaHe0lSaUQwx9D7NiGseSjwtcF0esPQ+azRE5TMNovKY0IQsLG3JGju2MbN0exF4tYWJhZ0LXCL+G+X5hXZBsQ3hdCEhsH0GZiNkaRN+T0wyqZKqP16GplEHMLELg9HbxKCJG66JXNjNBqjHwf8Jnwb4snCYXOYfBo649Z0fcLgyElW0ox9YfCYa47958G83inicWUeExG8oRDwJCEO/pLR4l1FKpLoDA/CrFHt9NCVIcXnB00xrkJEwMCigiGqJOfCIShSjSzjQ1RjGfHhuHfNPKKU84mVimi9GzfBZrG3cbeKzZeMGhO4QhpuBr0ZP0kHl02mJ5m8MWHwpXyYt5pcrhCYVZMpISwljfx9IsepIhH2BjXoaEjU8FGKQfphkXiUsXFfsuxNTHagT+O9iW0glFy1EP6m3c0MpwZ2imkIH6Sp3nTQy+xjuGhkyqWcrxfKbEiYQ1oXSwtfwaEeRvjBCEWmSjm3h/M2TLG83DE9YXDeaTLVIsaysURVwSF0ISE9jywZuXVULNtPaIRDDxJ3yVtMeNrb9jta/Cbo9TVIn08/VRF32nsOulUM/aNshUlEK4NMWpVbIJNZpsWxaa8DxqDRFiI60PRBEFw8EGI8lmOs6xMeCC5I1xS/hdZJwF7NNMlKXhB4et8bhMZc3Os9GxCzON4MWfB4EJMgkMHZIKW/t9oWqNvaTFeIrKNiYnhRP6aGqJYhobu/8AShzVBNLo2EKhpoRUVsjNrmxWNjkO7w+NwrmrF9kzDfvDz1jxiBXgsRmiJjPAhsS4+Moj9Dbj/Cw+qI94VDIPjo8HUyyYXLyUXBiUwhYmILggkhCocNiraaaRvzIcGC0kg8KylzaWFELhSstEyHpiVa66jZZDTdfgp8jRO6INcG2QmJnfHsaRvCGuGhLC4XDIMmIKkEbmGISFoQ/P4aN+T/ghl1h48Y6EQYrh58cUvI5/HxizDIQSIJCRBIjEzRlof+12xHX6s0pBsdExwWKaeGIuhGxOFwmJiexVdLTRP78yYoK6iLGqQcHwRYhdd4rwsPPZDyP+cmHlQeGLhDQt+cI/8BR3xJ/w8GVmy64LlEbFh56ymPF0N5dN8JmdEEIkm2Ptzm2kGlshvpLBDZ+YnBMuEzrGhPMExh5RK0GZdNvTQvu3Noahog7hYj5oeKKH+cvi1wQyF4bHmixSkFsQR8Idrr0K2eo0RDQsTix4eHl4R3lYYiExrEx0ISpBIQ+smhbsmqUlp71sTPSSLNIbCGKrCY8MWGjWVi48CYmK9CaTZaflGv5uvtCmpptERqCGPhHwnBLHj+EFn/B4xMI3xmZmYVb4dfsdmiPSGM/eMys0WesI6wjQxY/zwiOmISIJGhYWjJRDNDT1SO7W+mL6i1hsbZBa4XFEaRr+NxRMeCP01povdvb00KkuraJk2OCQ+MJ6EsNYVPOH8FeC5rMJM06LiUhMLgnne3J/4whos4U6xrMJoWKVCxZlYmNZh2TKQhoqx2VvoQUUc0KSD3HQIeh4oxlz1w/yUveFi5uE9CbbxUhhTtGqdFWuFUXVtEGJh4R5yh5Y8LgsVYVwh/x3hbees7whNA032Pxm5W8J6PHBuFwho6ILEN4agqK5SykxYjEEklY4k3whaSN2O1LlbIpCvFN8Ib4uiIdYRRZo4sMonrYmJixTpobv1svDQpkkHEGhEw+Ez0uC1xjFiYnB3hDxh8aLQoJ/oHX2DWvwmNIjHwWu+D98Ws9EXCYRYQ8SEEhIhaxqfX0TatiQ3miifF64Tg8XgsaGxYQybEITxOHpVTH4ajIVvlVGiLjMTDPJMrF4p8Nng0ecNCGeMTgxiEehv9Alr2V1fgzY9cN5Zc+cTYtFfFYQsMTEwuhISNI2x8XZWs3d2L5CSRYPjvDWN8JhPLfO43lPCfgWhVqk/wA9VCtSXK8idkJCQXHa4ouFicYL+CH44Rc0KFO/ArH4PDwxLi+EuNcphEEJP1k6YJQgok2xTtyJqbdFFkkMZrD4LmhmsQmGKrO83FysMLG01DcNbHPAhJLUdA1znFcPBvC4zQ1i8FwT4KCN4d5roX/DxUNYudHnCWsOELlvC4JLCQthTSF1s/omWy9M2ex8huINSE3QzLbUwnJIbKNorgnh8VwkPBDeG8XCwmXDZdYiysfgwSsaaH4NSPxiErTixCExN8GaxBDwpwmdYvLtky8XWdYSYvZ2lNZNTPQhlHi6LOEzpiRMI1jYhCQkIO3BydTBlLIsKz6b0bxj9DBP/qECba2mkNlMv9JGkmkVIw9Ddw2vQ7h52J8Fw1xme8ohYQom8ViL0IfobspIvT9IcsNEITGx8EhrZNZQ0IkGTFxUkafCbFjQksQmaFs1HS2M/wDhB4nBveesVYacFoXFYgsFunEkPCb1mlOuwoRRc1e9o79fdoQtpuqis1A49j+0aDWcQri+ofDQ3lkWKK8FiCxC43libeVcJYaEQX6Jm9RMQ2ltTb9mOaTS2mNNYmfOIKjWKPDRMNaFxhCYWHhix1yRRKD+J/8ACjnF6NCWJjp5i4wWEhITVY/vxVribaNBFZWVRNidPsSpsWTajp6iMG/DwkQYmyDG4eMTPZOHjFWEuLNcoTCwkLv/ACLrd1kiE7TJMaGh3M4uHjhDeJlc+5/FCJgrr8FbbsRCop+Eyy8LjvhRXGxYTNiQkIx9aUQ1Lba2LGtJBsoiCHhMbtysXyMUKjITEwjeOkK8EXEOhYaN5eNi4IhCYIUVE7/Y/UlBfSGIGhoaxCGuLT4bNnZ/nhOS4LMK8LCLREvgiq8CafgzQ/4dYmE2XfCCEhBT2ef3Atc0JtkigxYVYlGhoSFadpCePSthWTRhM8SpobDdDJh3LhDbGt5WbrGs3CENChOHYhCEhBjZG/IhhrTM+qNpG9pDUOB4YlmcPIsIbFcTK4MghEEsUusQWENfwJMD6X4MQxi7NGjRR58ZT4QSEJCHkOaE71AtSXop0I2CjJ8ND3IyCW6Zv3ep90YMrCySDE9m6eyKRejiF1n4SCi1NPoYh9jQ1ylJlYSIPCysohNCQkJGwsCKwQVSEy02JDfOoGv5tFcvexqlRejKKraGibGNnfHZMXE5Ik5PPjEwphYM9ex+qY+l+FPBEPKJwk4aKkecLCIpmzq2GJ9+NGs4ba6YxJp9/TRZHrY9MbUUQlAimpglElpDLTaRNCRtXs0GB3C9VJomxbQRrgHwnO8lrvjDWEhWUJq6Q4lfBT6Io3z3oUxHXzDzagvoPRKR+g04GxpvTE0KtfqK0xjI8eeF0VzKOs3EpOG8JjN4XBiCNGKjPsyjUHll+42bxRDFlERMTBIcREkKIza/6JCjroN0WEMadc2xWlPDvgT5QqFsxq222hC0EYYr9iY0tpqYmYUqM1sTYdRMaGh6xIdM7yy50JF4zEYlohNDGhDBJDJ+tRjLtvBVtqbdxL0ma8pCaEkj0IcoeBVZ4kS1tP2hE3V6EHrZsg+O8o0x5q4v+DxvCUEIafsGQobwjHmCxHlCKJHaNYSpBBaRKKdCR3aPVl0jzlwrQhqMZJC1wEOjztLWxXu3Yuq0lBtlK6JsTGDqkRaYqpHKkbbRiTEOtZh1wnNTFwkxCTG6ttCRp0/SE5SuXPbwhQrftIZolR4HgTFAkc3lGsRMFK+nMEHh4o9iIx4RohMaHl585Q8zFyST7HpvDj/TsadGozxlCZrIIZClYs9C2ISh/wBQU340fSx0xioniya2MiSrQWcTxdNCfdhDFGhCqKJvA0VpFWEZ9ugc8A0mMby+LEeM+MpCIJCEFQ2XsFqyE7/eQaQzTaKUpcMzVtJvQvh1Q0Yx0mWTLQzwITPeLhZWJxl4IW8PApJFu/2ITGPLw+KGJJEyrhRCcOmhNIorqPQawxMomaDMoN+EK2p4r8O32bGGNCKKFE2h69s0izb/AFG8rSeH2XmlxXQllDXQodx8sqV3qsXRRIeDXwg0yEIQQmV4JiLDJ2L6CRndVoxjWN3iuswSwsScrDrCwqPgghG3/T0Ov9Y8HR9FnCCxrksbNwSHgky09HUQv0IY8dmkaFjcbuWKNKtqaVZuuCwixEX+CRweYbwhrDYssQu8K4yPU6TGUMYeZtFPGE+4TEOPULS3+S8bTWBodNHn+NKv4b4dFw4bpdFEI7E/9HoaI+YGdodITmxExMo0LQmoJFSaW/tOgSpNdQaGsQoxCdik28O4Gw3oaKuKE8N7bHfKmo6PEXBi6xcM0LDSuFhCSfovySLRbW0T7HrgWlWSEvyPrK9f6Q3onXxjoh0OMyOrHb9hKLseWkNPDPGGhExMagmhYvCcaxkeFRDKC/vJ2rqBh4Zedx54KZQim2pND3SksUFXEaN+kNDWElMM9OzGjdaX+qQr6kDZTzi5Twro6zqWdMnMawuM2PQsTCwkbjfo2rQr9BChRIQyCQkOhAqyyfjFsQ75vYWIYNRF34Zb1VjIIzrSgM8truJb8kS0xBpD/os3DmVrnc34KiVDJxKh2w+i8IbzJjouJlYmEeRi45zTGldu/wDBoR1s2hq6Q1lCnXSCiioHElx0sroQRKi9zRf+2I0GtrI+ExsuauCG5hLCFP8AGQ46z8xMQfpo/RGIPSHL6eiXzWi90iS1C2YQwi1QWuF5Agxxf2uFMqZVOs3KFggrf7jivp0x+G8vj2NFE8o1lsKjoQhsrfRoe7/waFa4nYuNqNGkXWGJEJiCIQSOjQtdqA0kfgbY6Qg+GzoWJcIZvCZcIXX4FpeiBW03ag0RiQmpBMOHJ8rO9wblF6Q2dDYjPgVWrr/ylNPouTHg1B9GsNY1MbWXRcESZZCD0Xg8kL+UNf3HmsdZZG0ahWuDfPYhlEy4kskaF9cKTQh91xiQTU6J+4MwkZENaJj9yhbEij9I2IxzD/BFq/AxlbxdD/cXM3iDFwWExNkLdm6d7+Mr7ynwN5HtBY21O9iayrs7JPaoh64F+ESVHfBM6yeFgvK3baeLHJ/BH5puxjGeCC1yWLh5rK+U2QWdYWCPdsor0V28MWJxueh5YusdYfjFE/oiqS00ND78jri/Skeh37Lzb+jrZ+6E7X/MOo+/0slGh7VGqw7tCf0R0gmE1TqgoGtP65Y1MqeMsWKUduFmCeUIYSRbmhuBP/shUdto7Zjz9F4TN1An/wDui8H+0QCr647/AKVwqlVKr+4qmkKKe3sMTTTrgn0OJV+htfyLsa6G3l6xEQ85nFf0gxIQtLB36g+j6jsxqDxMPE4vGxF4bFMWCom6UhBp5IYtR59kUYwtnqj01DXQt65N0bXn+ggJU/IKO2HEIlrXg3IMqtu/QR/6Jn0p39RKMXbNZVubftjeijYsti6eFJmaFlEz1hMWJRpZViVzsXhoUbehtrpFkn2NfY5/phuZibolRT0fQrxBJqD0HbB/8xD7GMZvPWJjQycEIuPHGDw8IuhU7YKrv7Hcebh74og8wnFiKilgmbNibfbL9L9NPI77dLln6je/4gTznnv7YXfrukzdPDzSECo9f7D5VmnWKZ7aGoDGicHhcdZWNZkEKjQUkMrrWmbevu9NCWMIPKloSdF10SLDrTfSxo/GEmHXqg2fjQ+8G7l8tc0iCy/wS5IuSZa3Am7w2PD46ND4PG+DF2MR0WYJ3CdOhtiFZRNcK9i9xa8jZ+Ry7KWlKXn64eC8enlNZTQxCerrDhQTpnnZesIaqlE2Uj3/AKQJE0Ehp6hPwGpdrR+yEcFxMfoaJNkbEglO3qIow8MjJxRpcfOdouK8w7mUOE0ISQ7R9USk7ZPoaHw6XDs2jsQkXFUL1hNFXK4UKXC0uLhMomUorE9FPHFvZcrkiEFnyIUKITJobVkftFZTtDc13XqojjaG0NwHemflXbEt8aJJFYiXwcX3z+nEUH3ZLtIW7g6UZKV/PSQspKB+hm8PN85p0LDFneZeF5aNiYt7P8Co/wDAm9FQYjWVm8KPY7wnK4psuFlMTKJ5uGJkWUXOuFz2MXFPgqXFE4IqxbvdQ87sV1BhJvwFOnj/AJFT3Eo9rRoCnpBt6CDxlNHddE5VDobGQYsJDE2U/DZODQkXgrh4WOsqYWuxPRT90M3+oYxwcxs0RcFhkxBZuJcIgnxrwuHgTy4J4TFTfBsS4offCChoYsVZpXhMsEFv2KV2IUQsakv6hJ/9Zri/0jzq34EJNHSQ0G9jaG/pRiwrxa4O56GJlE8Xh5JiiFh+PQ1V6YaIMnBc/GW3hkOuMhvxwuPHZeExc65IaERHkuLhY7FiCzN4QyleKJlExYE2XCiFGxtoY1y8fwRRYQsNb1icOhEpCQRBY+kwMdVZR5mssmVmfxYtZWKJvguN4UTxRt4p3hY1wWExEPONrmnBNHRcJjex9lE7hspcVFxvCbEuCb5J8H/DpjEJQQ5OyOynxwPDSIIvDwbLjrNN8N4TLwWNzlRDY3ViLGzo1hsT0ThcImOxiwiMn3lrKax0Vi2LClXsv0T+ly1jWYUiE5imyThtYSeXzZMWEFvFTWUPITeHnZHiVml3wawsKcYJHgmWa5vFOxQWFrKGJ8UQhOKymb4a/r4y8Uox8aMRVhtM2hYYzfNiOsbw8kWt/wBUNpPqNBjHi8NMmLjRUXZ7FvD43ZcIeJwXBazSsXK6PGFhMu+DKxNzCX8GLCfJRDfCky+W8LC4JY6y+Ce+SgsO4t/7+hmfZjJ7IOYZMSZQ8SYpri0I7JMNCI8SF3hcGUfFxEFMLCJmHgeFhYsxRvCExk4dYTE1wWUV4Q2Ph+YQ1xX8Fmjw+sJCosNUf/Mh+Q82xlw+W+CN4RONqJjdGOkFScoeOEJnWEuKcROGqdGphU7NkaEmTEEiFw8VFFi4uKPDYpM3HR3jbOiiKPDmHh8nzom8Gn/b0NEnmMh1icEOm+Cwgy4dN43yTy0TOliCqJhYmXyjhGReyEHlNiLocG2I1jxjeNshMWCdwrxSicw3s8CaJRT6DYw1dhjGqVPL1kxvKH0XExeNeEsIQvIw99n/AOY3+hCjGlh53jrNKkQ8WaTaNGk0ORQlGilIZIWCSR0hUaKb5RC7GHoap7Ykao0uDSU6ZiApoanGxqlRNY+4dAyIJlErgUEB5IQ6EriEieNESj0yw237G7IY8Y9x7CdSOVLAdQPdsjIyWh9HintqNRQpDbdFWdpg7tdlux0gftGF+sa9i6DzhpTTQTaj/Qku46NAi2mxBoWKnBU8TWi4ZP4zMhvPWOhCEIn/ANXRcqPtkWXi5hNFePQl2aY0QXcpCTYKwR2FGhNGXporQSaYzVjnWoNQcrHNQZsG9GTA7Y2ge1wIoKaiuBtCXBS1IkEioUmKtqQUZJ1CQnY7FCFMJlG7G5RiYqGnZEkXdhF0bBDXgSJD9BBKukJYkSPgMSLpDSm0Q6IiIhEJIaRCIiYkGk/BGJHZCEEjyL9onFyfCcJjwL7iC4MImbK0hejVjed5YsLMeGRFH3QKUoSiwRMaEwdDEKQgkQgwkQiIawhCCQ1BoS1hMJEY1MXZSjHBMefBCoQs0aynwQ6JzFwjo7zMdCYm3h6aHbBN488IseVli6KazMzCYkItCtzBSbO7Hh8Ni+iJwhBmUkNFfobpjcWwh54NvWZWQSILBRBhImIhqLSFIT9JsUjzHpEhNkIREIWDQ0PPkf8ABMhrhcwYiI6NZfDrDN4YohYVuxE0TNzMI3ii74sWuCYmM6dT/tB4PYMbg8vO+VUMWyJNb0jSkFerENoY5MVJsqsO3IRtEHZMJYVQr8Ds6JEl0G/ZDChWL5LXgv1pS0PJutsb/UNHgZ8DdeCzQeaFeik/SNoGT7fBxExrEY0ecTCRBRYnFnjizrKO+Cw+F4q7nZtBUa3iCwv4Tj1lIQhN/txtV2HYb/p1hVQYUJ+tsQwCw4FLUYl3Tr+NCrVt6HT+bfwfYKYTKKNJDuRtaPTKLjGsWJuB2vuK6WlKLTotEN1aR4+CE1kpRK30LocqUdg6oCJvKF15NwQdtirY97HgEqG3oTJG+dfKFjl6mSHi8Ci3bu9d0TH1FtD2hopoanJY6xCHnL0xDeHyeUVCIsRjQkIbwhKxdQSGawhbzMaxuG1h8rlCtqDkGpT/AGG7HnrgsoawhDUFtCf8IqA2YTDSaUdmLWG91O2Dod0C84qwNELo2hTWnQ5d+x8jBLcJtb62Uf5jxOnQi08Jh6/lC2F5Pi2KOra1F6DWrqREMRCEvWav/SEMV1f6LSku/Ra2jTiZ+3j/ANDkWoE53R2a2ak0TF6Khmn1YtuoqCQoxJNYSHh9jzJlcLiaJwuFlYQ8zDE0XKwkImOXkseM9Co3jxwhM7FBUSsK1yuNmv1H3h5vDRFlUVtSHWsWRC9ba2WtjLKvYhH6pCYCDG9xSLMyVj4z5QsafojEeSwxNCyqhC00Jf8Ajj62ZrFPBDS2oH67TobadG+dBvGjz0RR1Tv/AORialHa6EflQpqtORfVyMdKNH7imm6oHZoTSiQwmHh41hXNLi4uL/CFKphaNYpMTMwi0gwyqXFyv4WlgxPFLiUjwzNwX61iFe00Y0M1MXisIQmNFSAErfhYmVofxFcuoKn0D0OaKCg2pSfaFnboVN0rfxDg+BCQSCTEEOlrSH51oWtFFA20pf4NiFAMUpyiI8yGnhBCaUkmhKpfXpR2kTiB5pps8ENnWogky1CamKhB/ebqbQo60k2inpF6FI7yYgOf80IFXgee/wABC0kiporWPcCM9XSQdN7hRrlsV4eRcaIXF/1prCkFTWxa6zrQxYWEXDHh9EETjfohHgvX7UdhwxiHlrihC2CVjgo+z0zts/wIN9kWVoe4EP5MWrWEctRKOEqPsaEm/wDcf/QHoOr62OpE72fyiSigdJBnd/kWpVPSJHp6Y/q2e3BlJK6FVUXhDQg0xUWeyRTv9BLdF0IPIcNtN91Cx/LQ9AeqSTFCSERkqmaiTPMojGh+I0h4Zc+RCLirMxS4ostYYuPWLhKrikMu4NS4bFwWNCiNYY+C3yQkIW1OnLovRaZMMgkLFLhoQvBqmxugnqi/S/RQJ0rQ36Z5CFVJ32NWh/8ArCWzrY26tKDdZEEGKwT+iY6ZSibKJiY2KVly3oY3h485gzZMJYXR2P8AhcbOsIazOFykQg6NjskUaiFsmVwqHCcEPjDdExCUT/CddUpvBcXWJrCY5lprYnZHSx4EK9QLPkc8CLBA+x+ioudFKUTEVZpSoooi40aG6V4bnJY6KMuGU6WHhirzeTFzrEhYgmN24N9twTO/dC8Ih4hBHQ/4a4tE2JXejAX1gx9jeGLFNlEeSDfVC+7yj/dIaZsjFf4R7+4jsrXFMb2VlPBSlLiiY/DE2V4rEyj/AEekbyxcEPoR2LFEPL5UQ7yWVc+SHRBMWMtZfpiUSWHwXG8NlLnyiIXeV0LWfpDY9Dw0ThRvCgpcfZjQNeRV5aQr3RiG50OuTTVDVekdMjx4KoWIVYmilLwoiwuKXDeKUuGxvi2J4tQtZpea4aQmO/wguKEKC6EUaHlpjfFPF/kxDIJpEgmIhjf9ght8bDX8YKGhHaeIPjJxLGTtq6oLvdKRFHaQz/QxjKLhMTKaLhDGMTeLm7xTRRFG8s9YQ8JjPAi8PBVwvBrPZBESNYpeSym6VGd11hneN5bNoTeE89cFDTGQohGiE/2Ie/FxqIY9D4VFZRtZ6PoyfCmvF2pFtm4c6+lGi/CDP9TKXY3SsZXwbFh4qLwuEXLFhYeJxWN4X8ZmmuSuXh5omU95Y3UVPFNcd4mENcN5YiUQsT/cSTFNx7WJjz4xrOtcCIid07l7eEhpxOBe7d3GxcdvMCS/GPYyyCHh4R64PCeVBVlxcVjFh5WPJrih48fyWNCWNZXNLCy1UxI0R1/GlLhkFRiGiwomLGVquyp9Q4ajLh5g8rCp0jQtVJbzdfoJ4m9BvBkWa9GHiPjG4h0jQ6YaFlMpc9Z7EsXDxvO8XQsJZRcLCQ6dFuVrNJjrhv8AgjWbhiYzRCtTUFwSxRMYlxZvCWPGExY8BV7Jj0IyGzTHiZcEzYxYomODatex5dpaEvoqhDjpofrmlA8Wqw7RfoMNDRM6y8rDJTeK1iPFyuDEzwUuLhcGzfCYc43gsTG8psh0y4maPYkVLMLwfwnBEYhFwh5QtY7iSdqMR+w3/Q/8Q+HWNDGIUy2Mo0ybaUJgr1T4zJqnQKl4UwQ7j9fCzktcE+C64eC8FmYTwkQmfQ8VCOsLDJzVzrhM9cIdIaynxv8AC8ZBG8bQmWi8DlJiPAGWv8qNcPAuCmaJkhUsJwQf/nCDNIxtspKPWGJcNcHx0JYp2jvK6HFi474dG8aLlCN4mVyuFsWEVE5ISdJEaIf7SY3hCeFcVi0hu4XWO8UeGxMuExh7g32YWh9ShrGzxhPDxt4UyWaE8FBDqeWhMqgzs6HpCx5PI9Maw3im4Up4F2TYxDp5FhiOsRm6bGXEzeTG8UosUWLBfo+DFia3hl8GyjRNmrvVGrljeNcVl8HRZuIOCx0hy6oISjYyQfYxuFo8M6zSiHpUelGyM2NM0MrLDby3noWIxlZMxlIIbEibHmlRVR4RUIo3pC9vKI0xMvsaQmw2rsb1o+w3BLbQ2l5KGzsfkMIJQMaMm4xpKNuIV3Fg0hOwtwJCEKEhpsaxk5OOhBtuNbjG7JCV0gkGLzUGHvsd35oa3wrFy8cbmFWN+jrCWiLlWv8AGyq+dmreGhrMJxRRfpH+DZUC6QnszoGIaGqjcC0E6IR3EsAt4ToRqIMlGqcG8o2A0RjE4UxqRBUPdiz0JlC0iQ0M9ir0U9yBtoPQmgpsOMR/xBaZth6N6FRqbwbS+2JtCCaY7aYncF4KFBybGNGjwjVSZOiErQtYIpjKUadOkxOUQwR0G3SZBF1HaIR0G9fIlWhJbg12JCvaGd1pjLqvItS6Qzxifw1lY1CCeblYQftz34kaqT+DQx8LhsbxTZXwXeJtMPAbyjEJSrIUiU6KQUFFKgm0S1BwKKUiEN0WsEtENEOkGiJCijR9iUbiURBKiENBJJDQiEjQhiSbJjc9FELEhHkaEdGsLorLh3LEbH1i4p3hKYo+eyiy3lMsHsuILhcbHhclhCL2iIlaqBS3tBmuMOs3L9Qkl0WsbPGGytvCw0bw1m4exDxBQYqUSwjvh28UqwuLxRPDXHXDpYTwm8U0KJEzocwsLeR30oqsjbiN1zY+qlEtVS1WjYDtSP8Ax9gkP21rt7mf1tQZb5hXcX+Q8NmUZuz3W/BVHVo3Kr8iiDSVPz5V9TY9Z9Ip/wCA6J7jfbevfuiWpWNp9anpCY63r22nhaefIjZhR9/h0x3fYkdsIadsKkhu4VV1oVz4L1nU6uobmvHgjF2lqT7Yq6Qh6aXgmJNoydcU7/2OOORF36a0mKWb1tLaVti55WU/Cu9JmuKLhEPaJD8+MGdDg3w1nRRsbw2J8PBvN/ghFzRDfDpFw2I6ZN5RMbw5jR4xdFzvLaRTrNE+KKdiKXLJl/8ARhs8anpJ7Nwee7lldnqBl+9pxpYMxvbEh3ZANq2jX+UPI/7MSb0weq1/4A/qDvs7hTm/iLWj0elOiE4+K9FNJ3txa6ix/jVFhyjUG/8A0oT1tngvhXnydNvzTc/7S7EVX/rSubrQk5SVJkc2OHE2z2kbH5tT6H4/RrPJ6G17t+CPRvQK43/tobp2NlOthrH7iiwxU0T/AGhKl9Ihog+G8XFKXCYs1oTw3wQh4vGlKU8YYseDxxeEUThR5qz4mNZpeC4oWOkLGsdYWVJEdNoxMb1f0bf8CVVJqS2+lfZDqiAY0vxMTffkbTHbat/7NM4aEulOkJa86ZSEC1/VIG9UNarJr7QkIry0Z7sYrULEbbSekaIO4YrqtxP8EBVdMjQ9urtlf+2NpySRG6l+FcRRZNe6iCgQ9ExF+UTealMIWF0Kiuobc2pgxnRcLD/ijR6zeExJwWGhImdDxMXGzopTZS9CRcsmUTMF/TZcXiqhYSz0bxcaWPPPrL4LWKV4QhZKJ4odf6UhI3h4mHrLUx45XC6Os3LF0MXRNzhbhiXBOiLs64PjRF3hvWPGEeTwLCyss84g20xFnDxl48ZWX0PpHXFIR7z4w+KF28PH/9k=)"
      ],
      "metadata": {
        "id": "WgB0oVuXMHup"
      }
    },
    {
      "cell_type": "code",
      "source": [
        "# Hierarchical Inheritance\n",
        "\n",
        "class student:\n",
        "  def insert(self):\n",
        "    self.name=input(\"Enter Name :- \")\n",
        "    self.id1=int(input(\"Enter Id :- \"))\n",
        "    self.add=input(\"Enter Address : - \")\n",
        "\n",
        "class DS(student):\n",
        "  def __init__(self):\n",
        "    self.s1=int(input(\"Enter Subject 1 :- \"))\n",
        "    self.s2=int(input(\"Enter Subject 2 : -\"))\n",
        "  def display(self):\n",
        "    self.insert()\n",
        "    print(self.name,self.id1,self.add,self.s1,self.s2)\n",
        "\n",
        "class ML(student):\n",
        "  def __init__(self):\n",
        "    self.s3=int(input(\"Enter Subject 3 :- \"))\n",
        "    self.s4=int(input(\"Enter Subject 4 :- \"))\n",
        "  def display(self):\n",
        "    self.insert()\n",
        "    print(self.name,self.id1,self.add,self.s3,self.s4)\n",
        "\n",
        "d1=DS()\n",
        "d1.display()\n",
        "m1=ML()\n",
        "m1.display()\n",
        "\n",
        "\n"
      ],
      "metadata": {
        "colab": {
          "base_uri": "https://localhost:8080/"
        },
        "id": "FPzv-1N9dJQg",
        "outputId": "06f6f23e-e401-4534-f125-ddcf5ebf6d80"
      },
      "execution_count": null,
      "outputs": [
        {
          "output_type": "stream",
          "name": "stdout",
          "text": [
            "Enter Subject 1 :- 78\n",
            "Enter Subject 2 : -95\n",
            "Enter Name :- Shubham\n",
            "Enter Id :- 088\n",
            "Enter Address : - Shyamml\n",
            "Shubham 88 Shyamml 78 95\n",
            "Enter Subject 3 :- 89\n",
            "Enter Subject 4 :- 78\n",
            "Enter Name :- vbansh\n",
            "Enter Id :- 115\n",
            "Enter Address : - wagjdoai\n",
            "vbansh 115 wagjdoai 89 78\n"
          ]
        }
      ]
    },
    {
      "cell_type": "markdown",
      "source": [
        "#Multiple Inheritance\n"
      ],
      "metadata": {
        "id": "4mjLJxPxkd-I"
      }
    },
    {
      "cell_type": "markdown",
      "source": [
        "Multiple Inheritance :-\n",
        "![Screenshot 2024-01-10 142112.png](data:image/png;base64,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)"
      ],
      "metadata": {
        "id": "CaJWXVHnpeXd"
      }
    },
    {
      "cell_type": "code",
      "source": [
        "# Multiple Inheritance\n",
        "class x:\n",
        "  def m1(self ):\n",
        "    print(\"in m1 of x : \")\n",
        "\n",
        "class y:\n",
        "  def m1(self):\n",
        "    print(\"in m1 of y : \")\n",
        "\n",
        "class z(x,y):\n",
        "  def m2(self):\n",
        "    print(\"in m2 of z:\")\n",
        "\n",
        "z1=z()\n",
        "z1.m1()"
      ],
      "metadata": {
        "colab": {
          "base_uri": "https://localhost:8080/"
        },
        "id": "JhvtW41_lCW7",
        "outputId": "790f9599-5908-41b3-fea1-d1ea495e2834"
      },
      "execution_count": null,
      "outputs": [
        {
          "output_type": "stream",
          "name": "stdout",
          "text": [
            "in m1 of x : \n"
          ]
        }
      ]
    },
    {
      "cell_type": "code",
      "source": [
        "class parent:\n",
        "  def add(self,a,b):\n",
        "    print(a+b)\n",
        "\n",
        "class child(parent):\n",
        "  def sub(self,a,b)\n",
        "  print(a-b)\n",
        "\n",
        "c1=child()\n",
        "a=int(input())\n",
        "b=int(input())\n",
        "c1.add(a,b)\n",
        "c1.sub(10,5)\n"
      ],
      "metadata": {
        "id": "G6d5fy0Kw86s"
      },
      "execution_count": null,
      "outputs": []
    },
    {
      "cell_type": "markdown",
      "source": [
        "# **Polymorphism** :-\n",
        "Defining one thing in number of forms is caaled as polymorphism\n",
        "\n",
        "* Polymorphoism is divided into 2 types :-\n",
        "\n",
        "1 - Method Overloading : -\n",
        "\n",
        "2 - Method Overriding : -\n",
        "\n",
        "\n",
        "\n",
        "**1 - Method Overlading -** The concept of defining multiple methods with same name,with same number of parameter are different number of parameters within a class is known as \"Method Overloading\"\n",
        "\n",
        "* Method Overloading is partially supported by python\n",
        "\n",
        "\n"
      ],
      "metadata": {
        "id": "mDARvmDDzLNA"
      }
    },
    {
      "cell_type": "code",
      "source": [
        "class x:\n",
        "  def m1(self):\n",
        "    print(\"in m1 with no Parameter : \")\n",
        "  def m1(self,a):\n",
        "    print(\"in m1 with one Parameter : \")\n",
        "  def m1(self,a,b):\n",
        "    print(\"in m1 with 2 Parameter : \")\n",
        "\n",
        "x1=x()\n",
        "x1.m1(15,20)"
      ],
      "metadata": {
        "colab": {
          "base_uri": "https://localhost:8080/"
        },
        "id": "9U3GV_jr0ilP",
        "outputId": "9467958d-2ac1-494e-a122-5278b332ca9d"
      },
      "execution_count": null,
      "outputs": [
        {
          "output_type": "stream",
          "name": "stdout",
          "text": [
            "in m1 with 2 Parameter : \n"
          ]
        }
      ]
    },
    {
      "cell_type": "markdown",
      "source": [
        "# **Arbitary Parameter** :-\n",
        "If any variable is precedent by star then the correspinding parameter is called as \"Arbitary Parameter\"\n",
        "\n",
        "* Python supports two types of Arbitary Parametres : -\n",
        "\n",
        "1 - Single Star Arbitary Parameters\n",
        "\n",
        "2 - Multistart Arbitary Parameter : -\n",
        "\n",
        "* Single Start Arbitaryu parameter is considered as tuple\n",
        "\n",
        "* Multistart Arbitary parameter Type is considerd as Dictionary"
      ],
      "metadata": {
        "id": "LP3LZIpA1s25"
      }
    },
    {
      "cell_type": "code",
      "source": [
        "def d(*a):\n",
        "  print(a)\n",
        "  print(type(a))\n",
        "  print(sum(a))\n",
        "\n",
        "d(10,20,30)\n",
        "d(1,2,3,4,5)"
      ],
      "metadata": {
        "colab": {
          "base_uri": "https://localhost:8080/"
        },
        "id": "owydtUVV3DdM",
        "outputId": "e7d97016-cc31-46dd-92fb-361858e08986"
      },
      "execution_count": null,
      "outputs": [
        {
          "output_type": "stream",
          "name": "stdout",
          "text": [
            "(10, 20, 30)\n",
            "<class 'tuple'>\n",
            "60\n",
            "(1, 2, 3, 4, 5)\n",
            "<class 'tuple'>\n",
            "15\n"
          ]
        }
      ]
    },
    {
      "cell_type": "code",
      "source": [
        "def d(b,*a):\n",
        "  print(type(a))\n",
        "  print(type(b))\n",
        "  print(a)\n",
        "  print(b)\n",
        "  print(sum(a)+b)\n",
        "d(10,20,30)\n",
        "\n"
      ],
      "metadata": {
        "colab": {
          "base_uri": "https://localhost:8080/"
        },
        "id": "_WtX09uO3Qif",
        "outputId": "22dbc244-5437-4339-9d53-026e21e39c47"
      },
      "execution_count": null,
      "outputs": [
        {
          "output_type": "stream",
          "name": "stdout",
          "text": [
            "<class 'tuple'>\n",
            "<class 'int'>\n",
            "(20, 30)\n",
            "10\n",
            "60\n"
          ]
        }
      ]
    },
    {
      "cell_type": "code",
      "source": [
        "class test :\n",
        "  def op(self,d,*a):\n",
        "    if(d=='int'):\n",
        "      s1=0\n",
        "    else :\n",
        "      s1=''\n",
        "    for p in a:\n",
        "      s1=s1+p\n",
        "    print(s1)\n",
        "\n",
        "\n",
        "t1=test()\n",
        "t1.op(\"int\",10,20,30)\n",
        "t1.op(\"str\",\"Shubham \",\"Vansh \",\"Pankaj \")"
      ],
      "metadata": {
        "colab": {
          "base_uri": "https://localhost:8080/"
        },
        "id": "k1iXdwkW4lfd",
        "outputId": "1c10c44f-42da-4fa4-ac24-804dee637ca5"
      },
      "execution_count": null,
      "outputs": [
        {
          "output_type": "stream",
          "name": "stdout",
          "text": [
            "60\n",
            "Shubham Vansh Pankaj \n"
          ]
        }
      ]
    },
    {
      "cell_type": "markdown",
      "source": [
        "# **Method Overriding** : -  \n",
        "The concept of defining multiple methods with same name with same number of parameter or different number of parameters, one in Super Class and another in Sub class, is known as \"Method Overriding\"\n",
        "\n",
        "* When we override Super Class method within the SubClass then by default Sub class method only execute that, if sub class is created.\n",
        "\n",
        "\n"
      ],
      "metadata": {
        "id": "9gMkH8S68Bz3"
      }
    },
    {
      "cell_type": "code",
      "source": [
        "class x:\n",
        "  def m1(self):\n",
        "    print(\"in m1 of x : \")\n",
        "  def m2(self):\n",
        "    print(\"in m2 of x: \")\n",
        "\n",
        "class y(x):\n",
        "  def m2(self):\n",
        "    print(\"in m2 of y : \")\n",
        "    #super().m2()\n",
        "  def m3(self):\n",
        "    print(\"in m3 of y : \")\n",
        "\n",
        "class z(x):\n",
        "  def m1 (self):\n",
        "    print(\"in m1 of z : \")\n",
        "  def m4(self):\n",
        "    print(\"in m4 of z : \")\n",
        "\n",
        "y1=y()\n",
        "y1.m2()\n",
        "y1.m1()\n",
        "y1.m3()\n",
        "z1=z()\n",
        "z1.m1()\n",
        "z1.m2()\n",
        "z1.m4()\n",
        "\n"
      ],
      "metadata": {
        "colab": {
          "base_uri": "https://localhost:8080/"
        },
        "id": "LCtEuCo3-i_k",
        "outputId": "7be24700-42df-42b1-bb45-3a3f774717a2"
      },
      "execution_count": null,
      "outputs": [
        {
          "output_type": "stream",
          "name": "stdout",
          "text": [
            "in m2 of y : \n",
            "in m1 of x : \n",
            "in m3 of y : \n",
            "in m1 of z : \n",
            "in m2 of x: \n",
            "in m4 of z : \n"
          ]
        }
      ]
    },
    {
      "cell_type": "code",
      "source": [
        "class x:\n",
        "  def m1(self):\n",
        "    print(\"in m1 : \")\n",
        "  def __str__(self):\n",
        "    return \"python\"\n",
        "\n",
        "x1=x()\n",
        "p=x1.__str__()\n",
        "print(p)"
      ],
      "metadata": {
        "colab": {
          "base_uri": "https://localhost:8080/"
        },
        "id": "zlHHroKhAeE0",
        "outputId": "90fdb19d-d1ac-4278-e49d-f3578e0da2e6"
      },
      "execution_count": null,
      "outputs": [
        {
          "output_type": "stream",
          "name": "stdout",
          "text": [
            "python\n"
          ]
        }
      ]
    },
    {
      "cell_type": "code",
      "source": [
        "class x:\n",
        "  def __init__(self,name):\n",
        "    self.name=name\n",
        "  def __str__(self):\n",
        "    return self.name\n",
        "\n",
        "x1=x(\"Python\")\n",
        "print(x1)\n",
        "x2=x(\"ES\")\n",
        "print(x2)\n",
        "x3=x(\"MPMC\")\n",
        "print(x3)"
      ],
      "metadata": {
        "colab": {
          "base_uri": "https://localhost:8080/"
        },
        "id": "T-F3EFUsA-6s",
        "outputId": "247df2ee-b8d8-41f3-bab9-3d40cf9bca53"
      },
      "execution_count": null,
      "outputs": [
        {
          "output_type": "stream",
          "name": "stdout",
          "text": [
            "Python\n",
            "ES\n",
            "MPMC\n"
          ]
        }
      ]
    },
    {
      "cell_type": "markdown",
      "source": [
        "Qun :- WAP to create a Employee class with employee name,emp id, and emp salary and initialize the property through constructor and return the values back to the main program without using any Static & Non Static Method ."
      ],
      "metadata": {
        "id": "XEsAkszV0BRd"
      }
    },
    {
      "cell_type": "code",
      "source": [
        "class employee:\n",
        "  def __init__(self,name,id,sal):\n",
        "    self.name=name\n",
        "    self.id=id\n",
        "    self.sal=sal\n",
        "  def __str__(self):\n",
        "    d=self.name+\" \"+str(self.id)+\" \"+str(self.sal)\n",
        "    return d\n",
        "\n",
        "e1=employee(\"Shubham\",101,55000)\n",
        "print(e1)\n",
        "\n"
      ],
      "metadata": {
        "colab": {
          "base_uri": "https://localhost:8080/"
        },
        "id": "As2Yk9II2CAj",
        "outputId": "32571edb-bb63-4e7d-efc5-ef1140df5723"
      },
      "execution_count": null,
      "outputs": [
        {
          "output_type": "stream",
          "name": "stdout",
          "text": [
            "Shubham 101 55000\n"
          ]
        }
      ]
    },
    {
      "cell_type": "markdown",
      "source": [
        "# **Constructor Overrirding **:-\n",
        "\n",
        "Defining multiple constructor with the same name, with same number of parameters and One Constructor is define in the Super class & another Constructor is define in the Sub class is known as \"Constructor Overriding\"\n",
        "\n",
        "* Whenever we override super class constructor within the sub class then by default Sub class constructor will be executed  If sub class constructor is created.\n",
        "\n"
      ],
      "metadata": {
        "id": "FFx1o1r24Jgz"
      }
    },
    {
      "cell_type": "code",
      "source": [
        "class x:\n",
        "  def __init__(self):\n",
        "    print(\"in constructor of x: \")\n",
        "class y(x):\n",
        "  def __init__(self):\n",
        "    print(\"in constructor of y: \")\n",
        "y1=y()\n",
        "y2=x()"
      ],
      "metadata": {
        "colab": {
          "base_uri": "https://localhost:8080/"
        },
        "id": "5vBZepzs4-kb",
        "outputId": "92d5cf35-344b-4511-a5d9-a8f9e71c6d2e"
      },
      "execution_count": null,
      "outputs": [
        {
          "output_type": "stream",
          "name": "stdout",
          "text": [
            "in constructor of y: \n",
            "in constructor of x: \n"
          ]
        }
      ]
    },
    {
      "cell_type": "code",
      "source": [
        "class x:\n",
        "  def __init__(self):\n",
        "    print(\"in constructor of x: \")\n",
        "class y(x):\n",
        "  def __init__(self):\n",
        "    print(\"in constructor of y: \")\n",
        "    super().__init__()\n",
        "y1=y()\n"
      ],
      "metadata": {
        "colab": {
          "base_uri": "https://localhost:8080/"
        },
        "id": "U5vRI66h6RCB",
        "outputId": "4932081a-7156-4b84-d907-2a7defc21af5"
      },
      "execution_count": null,
      "outputs": [
        {
          "output_type": "stream",
          "name": "stdout",
          "text": [
            "in constructor of y: \n",
            "in constructor of x: \n"
          ]
        }
      ]
    },
    {
      "cell_type": "code",
      "source": [
        "class x:\n",
        "  def __init__(self,a):\n",
        "    print(\"in constructor of x: \",a)\n",
        "\n",
        "class y(x):\n",
        "  pass\n",
        "\n",
        "y1=y(10)\n",
        "# when there is no sub class then we have to use pass keyword stands for not class now but can be used further\n"
      ],
      "metadata": {
        "colab": {
          "base_uri": "https://localhost:8080/"
        },
        "id": "tmKl193365oy",
        "outputId": "4aa0ae18-8d3c-493b-cf7c-67e5f848ee74"
      },
      "execution_count": null,
      "outputs": [
        {
          "output_type": "stream",
          "name": "stdout",
          "text": [
            "in constructor of x:  10\n"
          ]
        }
      ]
    },
    {
      "cell_type": "code",
      "source": [
        "# From the sub class how to pass the data to super clas\n",
        "\n",
        "class x:\n",
        "  def __init__(self,a):\n",
        "    print(self.a*self.a)\n",
        "\n",
        "class y(x):\n",
        "  def __init__(self,a,b):\n",
        "    self.a=a\n",
        "    self.b=b\n",
        "    super().__init__(a)\n",
        "    print(self.a+self.b)\n",
        "y1=y(20,10)\n",
        "\n"
      ],
      "metadata": {
        "colab": {
          "base_uri": "https://localhost:8080/"
        },
        "id": "hD1Dc0e17taj",
        "outputId": "333d65a7-6c8d-42e1-c616-f2e94cf944a3"
      },
      "execution_count": null,
      "outputs": [
        {
          "output_type": "stream",
          "name": "stdout",
          "text": [
            "400\n",
            "30\n"
          ]
        }
      ]
    },
    {
      "cell_type": "code",
      "source": [
        "class x:\n",
        "  def __init__(self,a,b):\n",
        "    self.a=a\n",
        "    self.b=b\n",
        "    print(self.a+self.b)\n",
        "\n",
        "class y(x):\n",
        "  def __init__(self,a):\n",
        "    self.a=a\n",
        "    print(self.a*self.a)\n",
        "    super().__init__(10,5)\n",
        "\n",
        "y1=y(20)\n",
        "\n"
      ],
      "metadata": {
        "colab": {
          "base_uri": "https://localhost:8080/"
        },
        "id": "4SNuNmPo9dZX",
        "outputId": "5cf21bf3-6515-427c-dc8e-8f26f02dc171"
      },
      "execution_count": null,
      "outputs": [
        {
          "output_type": "stream",
          "name": "stdout",
          "text": [
            "400\n",
            "15\n"
          ]
        }
      ]
    }
  ]
}