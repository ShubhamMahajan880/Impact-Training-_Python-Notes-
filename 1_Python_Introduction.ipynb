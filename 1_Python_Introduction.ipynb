{
  "nbformat": 4,
  "nbformat_minor": 0,
  "metadata": {
    "colab": {
      "provenance": [],
      "authorship_tag": "ABX9TyMiIEWkHiF1goUVskXf6Vv/",
      "include_colab_link": true
    },
    "kernelspec": {
      "name": "python3",
      "display_name": "Python 3"
    },
    "language_info": {
      "name": "python"
    }
  },
  "cells": [
    {
      "cell_type": "markdown",
      "metadata": {
        "id": "view-in-github",
        "colab_type": "text"
      },
      "source": [
        "<a href=\"https://colab.research.google.com/github/ShubhamMahajan880/Impact-Training-_Python-Notes-/blob/main/1_Python_Introduction.ipynb\" target=\"_parent\"><img src=\"https://colab.research.google.com/assets/colab-badge.svg\" alt=\"Open In Colab\"/></a>"
      ]
    },
    {
      "cell_type": "markdown",
      "source": [
        "**Right Angle Triangle**"
      ],
      "metadata": {
        "id": "57ZuyPzMpIjw"
      }
    },
    {
      "cell_type": "code",
      "source": [
        "a = int(input(\"Enter the height of triangle: \"))\n",
        "for i in range(a):\n",
        "    for j in range(i+1):\n",
        "        print(\"* \", end='')\n",
        "    print()"
      ],
      "metadata": {
        "id": "zy5hdpQkolEX",
        "colab": {
          "base_uri": "https://localhost:8080/"
        },
        "outputId": "4d84cb34-d069-42ca-fa3e-13d17bca31b7"
      },
      "execution_count": null,
      "outputs": [
        {
          "output_type": "stream",
          "name": "stdout",
          "text": [
            "Enter the height of triangle: 15\n",
            "* \n",
            "* * \n",
            "* * * \n",
            "* * * * \n",
            "* * * * * \n",
            "* * * * * * \n",
            "* * * * * * * \n",
            "* * * * * * * * \n",
            "* * * * * * * * * \n",
            "* * * * * * * * * * \n",
            "* * * * * * * * * * * \n",
            "* * * * * * * * * * * * \n",
            "* * * * * * * * * * * * * \n",
            "* * * * * * * * * * * * * * \n",
            "* * * * * * * * * * * * * * * \n"
          ]
        }
      ]
    },
    {
      "cell_type": "markdown",
      "source": [
        "**Reverse Right Anglr Triangle**\n"
      ],
      "metadata": {
        "id": "XLYnQH1Vpeih"
      }
    },
    {
      "cell_type": "code",
      "source": [
        "a = int(input(\"Enter the height of triangle: \"))\n",
        "for i in range(a):\n",
        "    for j in range(a-i):\n",
        "        print(\" *\", end = '')\n",
        "    print()"
      ],
      "metadata": {
        "colab": {
          "base_uri": "https://localhost:8080/"
        },
        "id": "fHau-r_lpbNY",
        "outputId": "62118355-96b2-435d-9edd-e6a876a4934f"
      },
      "execution_count": null,
      "outputs": [
        {
          "output_type": "stream",
          "name": "stdout",
          "text": [
            "Enter the height of triangle: 10\n",
            " * * * * * * * * * *\n",
            " * * * * * * * * *\n",
            " * * * * * * * *\n",
            " * * * * * * *\n",
            " * * * * * *\n",
            " * * * * *\n",
            " * * * *\n",
            " * * *\n",
            " * *\n",
            " *\n"
          ]
        }
      ]
    },
    {
      "cell_type": "markdown",
      "source": [
        "**Inverted Triangles**"
      ],
      "metadata": {
        "id": "xl6RUjckp0hk"
      }
    },
    {
      "cell_type": "code",
      "source": [
        "def print_triangle(n):\n",
        "    for i in range(n, 0, -1):\n",
        "        print(' ' * (n - i), end='')\n",
        "        for j in range(0, i):\n",
        "            print('*', end='')\n",
        "        print()\n",
        "\n",
        "print_triangle(10)"
      ],
      "metadata": {
        "colab": {
          "base_uri": "https://localhost:8080/"
        },
        "id": "PwQNjsSgpzM8",
        "outputId": "5f498cf0-aa54-485e-932a-327dd270aebc"
      },
      "execution_count": null,
      "outputs": [
        {
          "output_type": "stream",
          "name": "stdout",
          "text": [
            "**********\n",
            " *********\n",
            "  ********\n",
            "   *******\n",
            "    ******\n",
            "     *****\n",
            "      ****\n",
            "       ***\n",
            "        **\n",
            "         *\n"
          ]
        }
      ]
    },
    {
      "cell_type": "markdown",
      "source": [
        "**Qun - Write a program to take the sides of a triangle as a input and check whether it is right angled triangle or not**\n"
      ],
      "metadata": {
        "id": "0rMhhaqIqcTu"
      }
    },
    {
      "cell_type": "code",
      "source": [
        "H = int(input(\"Enter the size of hypotenus: \"))\n",
        "P = int(input(\"Enter the size of Perpendicular: \"))\n",
        "B = int(input(\"Enter the size of base: \"))\n",
        "\n",
        "if(H**2 == P**2 + B**2):\n",
        "  print(\"The given sides\",H,P,B,\"are the sides of a right angle.\")\n",
        "else:\n",
        "  print(\"The given sides\",H,P,B,\"are not the sides of a right angle.\")"
      ],
      "metadata": {
        "colab": {
          "base_uri": "https://localhost:8080/"
        },
        "id": "vet2Qgdkqb6K",
        "outputId": "0bba74ac-b666-4092-fdb7-44167d69755a"
      },
      "execution_count": null,
      "outputs": [
        {
          "output_type": "stream",
          "name": "stdout",
          "text": [
            "Enter the size of hypotenus: 15\n",
            "Enter the size of Perpendicular: 10\n",
            "Enter the size of base: 5\n",
            "The given sides 15 10 5 are not the sides of a right angle.\n"
          ]
        }
      ]
    },
    {
      "cell_type": "markdown",
      "source": [
        "**Qun :- Write a program to read breadth and height of a triangle and find it's area**"
      ],
      "metadata": {
        "id": "TAADJ-C6rGLH"
      }
    },
    {
      "cell_type": "code",
      "source": [
        "H = float(input(\"Enter the size of Height: \"))\n",
        "B = float(input(\"Enter the size of base: \"))\n",
        "\n",
        "area = (0.5 * B * H)\n",
        "print(\"Area of the given triangle with sides\",H ,B,\"is\", area)"
      ],
      "metadata": {
        "colab": {
          "base_uri": "https://localhost:8080/"
        },
        "id": "AIUuPSOYqxMt",
        "outputId": "900311f1-86f8-4831-af72-52227ac76ddd"
      },
      "execution_count": null,
      "outputs": [
        {
          "output_type": "stream",
          "name": "stdout",
          "text": [
            "Enter the size of Height: 20.5\n",
            "Enter the size of base: 10.5\n",
            "Area of the given triangle with sides 20.5 10.5 is 107.625\n"
          ]
        }
      ]
    },
    {
      "cell_type": "markdown",
      "source": [
        "Note :- Here in python there is no limit of storing any value to any datatype example int as all the data type is treated as an object hence it just depends on the the size of your device"
      ],
      "metadata": {
        "id": "jvXG5Y-irc9J"
      }
    },
    {
      "cell_type": "code",
      "source": [
        "a = 1234567890987654321234567890987654321234567890\n",
        "type(a)"
      ],
      "metadata": {
        "colab": {
          "base_uri": "https://localhost:8080/"
        },
        "id": "BHdgSLwQrp97",
        "outputId": "2e317dfd-78f9-479d-8081-d1da67d13ea3"
      },
      "execution_count": null,
      "outputs": [
        {
          "output_type": "execute_result",
          "data": {
            "text/plain": [
              "int"
            ]
          },
          "metadata": {},
          "execution_count": 7
        }
      ]
    },
    {
      "cell_type": "markdown",
      "source": [
        "*What happens to the id of a variable if we change the value of the variable*\n",
        "*Because when we change the value the previous object which was stored gets deleted and creates a new object*\n"
      ],
      "metadata": {
        "id": "3jdUkDCBrzJL"
      }
    },
    {
      "cell_type": "code",
      "source": [
        "a = 10\n",
        "print(id(a))\n",
        "a = 20\n",
        "print(id(a))"
      ],
      "metadata": {
        "colab": {
          "base_uri": "https://localhost:8080/"
        },
        "id": "JMzYgos2r19X",
        "outputId": "d7d2a755-3990-4987-82d0-ff237661a5e9"
      },
      "execution_count": null,
      "outputs": [
        {
          "output_type": "stream",
          "name": "stdout",
          "text": [
            "134967140188688\n",
            "134967140189008\n"
          ]
        }
      ]
    },
    {
      "cell_type": "markdown",
      "source": [
        "**Qun :- Write a python program to find out roots of a quadratic equation**\n"
      ],
      "metadata": {
        "id": "iX9-ifPVr6Zv"
      }
    },
    {
      "cell_type": "code",
      "source": [
        "import math as m\n",
        "a = float(input(\"Enter the coeffecient of x^2: \"))\n",
        "b = float(input(\"Enter the coeffecient of x: \"))\n",
        "c = float(input(\"Enter the constant: \"))\n",
        "\n",
        "root1 = (-b + m.sqrt((b**2) - (4*a*c)))/2\n",
        "root2 = (-b - m.sqrt((b**2) - (4*a*c)))/2\n",
        "\n",
        "print(\"Roots of the given equation is: \", root1, root2)"
      ],
      "metadata": {
        "colab": {
          "base_uri": "https://localhost:8080/"
        },
        "id": "BN9SsDGwr7UB",
        "outputId": "4c7a921b-6e33-4341-c240-8f0a23871c42"
      },
      "execution_count": null,
      "outputs": [
        {
          "output_type": "stream",
          "name": "stdout",
          "text": [
            "Enter the coeffecient of x^2: 1\n",
            "Enter the coeffecient of x: 0\n",
            "Enter the constant: -1\n",
            "Roots of the given equation is:  1.0 -1.0\n"
          ]
        }
      ]
    },
    {
      "cell_type": "markdown",
      "source": [
        "**Qun :- Write a program to read 2 numbers and print cube of its difference**"
      ],
      "metadata": {
        "id": "D8l5JnqosMk0"
      }
    },
    {
      "cell_type": "code",
      "source": [
        "a = int(input(\"Enter the first no.: \"))\n",
        "b = int(input(\"Enter the Second no.: \"))\n",
        "print((a-b)**3)"
      ],
      "metadata": {
        "colab": {
          "base_uri": "https://localhost:8080/"
        },
        "id": "xuewOuwOs0N6",
        "outputId": "4597e009-b863-4523-9440-963382094ead"
      },
      "execution_count": null,
      "outputs": [
        {
          "output_type": "stream",
          "name": "stdout",
          "text": [
            "Enter the first no.: 10\n",
            "Enter the Second no.: 5\n",
            "125\n"
          ]
        }
      ]
    },
    {
      "cell_type": "markdown",
      "source": [
        "**Qun :- Write a program to read n values at a time and print it's sum**"
      ],
      "metadata": {
        "id": "VQ1QeN6_s5B8"
      }
    },
    {
      "cell_type": "code",
      "source": [
        "values = list(map(int, input(\"Enter multiple values: \").split()))\n",
        "sum = 0\n",
        "for i in range(0, len(values)):\n",
        " sum = sum + values[i]\n",
        "print(\" The sum of the numbers is: \", sum)"
      ],
      "metadata": {
        "colab": {
          "base_uri": "https://localhost:8080/"
        },
        "id": "GAyWSg61s8PP",
        "outputId": "e7e418aa-dbb4-44d7-f660-f76d62e813a2"
      },
      "execution_count": null,
      "outputs": [
        {
          "output_type": "stream",
          "name": "stdout",
          "text": [
            "Enter multiple values: 1 5 6 8 9 \n",
            " The sum of the numbers is:  29\n"
          ]
        }
      ]
    },
    {
      "cell_type": "markdown",
      "source": [
        "**Qun :- Write a program to take n inputs seperated with coma and return maximum**"
      ],
      "metadata": {
        "id": "k_jDLt0FtB-R"
      }
    },
    {
      "cell_type": "code",
      "source": [
        "inputs = input().split(',')\n",
        "\n",
        "max,min = 0,999999999\n",
        "for i in range(0, len(inputs)):\n",
        "  if int(inputs[i])>max:\n",
        "    max = int(inputs[i])\n",
        "  if int(inputs[i])<min:\n",
        "    min = int(inputs[i])\n",
        "print(\"Maximum and minimum of the given inputs are: \", max, min)"
      ],
      "metadata": {
        "colab": {
          "base_uri": "https://localhost:8080/"
        },
        "id": "yzxB4C3Atsg-",
        "outputId": "27d839ce-388a-4787-becc-c3b877503149"
      },
      "execution_count": null,
      "outputs": [
        {
          "output_type": "stream",
          "name": "stdout",
          "text": [
            "12,64,125,89,78,456\n",
            "Maximum and minimum of the given inputs are:  456 12\n"
          ]
        }
      ]
    },
    {
      "cell_type": "markdown",
      "source": [
        "**Qun :- Write a program to read n elements and find second highest without sorting**"
      ],
      "metadata": {
        "id": "caYitqgat4_g"
      }
    },
    {
      "cell_type": "code",
      "source": [
        "List = list(map(int, input(\"Enter mulltiple values seperated with spaces: \").split()))\n",
        "max,smax = 0,0\n",
        "for i in range(0, len(List)):\n",
        "  if List[i]>max:\n",
        "    smax = max\n",
        "    max = List[i]\n",
        "  else:\n",
        "    if List[i]>smax:\n",
        "      smax = List[i]\n",
        "print(\"The second maximum of the given inputs is: \", smax)"
      ],
      "metadata": {
        "colab": {
          "base_uri": "https://localhost:8080/"
        },
        "id": "SFthNKPft3vk",
        "outputId": "4b1ab5c5-a1df-4abb-9313-d0130af04061"
      },
      "execution_count": null,
      "outputs": [
        {
          "output_type": "stream",
          "name": "stdout",
          "text": [
            "Enter mulltiple values seperated with spaces: 56 78 12 4826 565 78 1462\n",
            "The second maximum of the given inputs is:  1462\n"
          ]
        }
      ]
    },
    {
      "cell_type": "markdown",
      "source": [
        "**Qun :- Write a program to read n elements and find second lowest without sorting**"
      ],
      "metadata": {
        "id": "NuJfjXasuOnJ"
      }
    },
    {
      "cell_type": "code",
      "source": [
        "List = list(map(int, input(\"Enter mulltiple values seperated with spaces: \").split()))\n",
        "min,smin = 999999,0\n",
        "for i in range(0, len(List)):\n",
        "  if List[i]<min:\n",
        "    smin = min\n",
        "    min = List[i]\n",
        "  else:\n",
        "    if List[i]<smin:\n",
        "      smin = List[i]\n",
        "print(\"The second minimum of the given inputs is: \", smin)"
      ],
      "metadata": {
        "colab": {
          "base_uri": "https://localhost:8080/"
        },
        "id": "acf6eyHguS7C",
        "outputId": "d81e7e2f-f1f2-45eb-ce50-098b2ec18c8c"
      },
      "execution_count": null,
      "outputs": [
        {
          "output_type": "stream",
          "name": "stdout",
          "text": [
            "Enter mulltiple values seperated with spaces: 56 78 12 4826 565 78 1462\n",
            "The second minimum of the given inputs is:  56\n"
          ]
        }
      ]
    },
    {
      "cell_type": "markdown",
      "source": [
        "* Method for converting character into its ASCII Value"
      ],
      "metadata": {
        "id": "xVWZeU2ouX4J"
      }
    },
    {
      "cell_type": "code",
      "source": [
        "ord('a')"
      ],
      "metadata": {
        "colab": {
          "base_uri": "https://localhost:8080/"
        },
        "id": "UDaW7T6Tu_6N",
        "outputId": "a31ba330-76a3-4347-a737-7764cfd00776"
      },
      "execution_count": null,
      "outputs": [
        {
          "output_type": "execute_result",
          "data": {
            "text/plain": [
              "97"
            ]
          },
          "metadata": {},
          "execution_count": 16
        }
      ]
    }
  ]
}