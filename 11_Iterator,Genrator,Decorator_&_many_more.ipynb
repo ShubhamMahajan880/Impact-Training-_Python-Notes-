{
  "nbformat": 4,
  "nbformat_minor": 0,
  "metadata": {
    "colab": {
      "provenance": [],
      "authorship_tag": "ABX9TyP2epCAAkULVLL86CExORz4",
      "include_colab_link": true
    },
    "kernelspec": {
      "name": "python3",
      "display_name": "Python 3"
    },
    "language_info": {
      "name": "python"
    }
  },
  "cells": [
    {
      "cell_type": "markdown",
      "metadata": {
        "id": "view-in-github",
        "colab_type": "text"
      },
      "source": [
        "<a href=\"https://colab.research.google.com/github/ShubhamMahajan880/Impact-Training-_Python-Notes-/blob/main/11_Iterator%2CGenrator%2CDecorator_%26_many_more.ipynb\" target=\"_parent\"><img src=\"https://colab.research.google.com/assets/colab-badge.svg\" alt=\"Open In Colab\"/></a>"
      ]
    },
    {
      "cell_type": "markdown",
      "source": [
        "# **iterator** :-"
      ],
      "metadata": {
        "id": "KnBk4OR2DCAE"
      }
    },
    {
      "cell_type": "markdown",
      "source": [
        " * Using Iterator we can return only one value"
      ],
      "metadata": {
        "id": "j4Ce03T6Hyzu"
      }
    },
    {
      "cell_type": "code",
      "execution_count": null,
      "metadata": {
        "colab": {
          "base_uri": "https://localhost:8080/"
        },
        "id": "vYAoyAzNBQpy",
        "outputId": "d9d53154-21d2-4505-f48b-79423eccc667"
      },
      "outputs": [
        {
          "output_type": "execute_result",
          "data": {
            "text/plain": [
              "1"
            ]
          },
          "metadata": {},
          "execution_count": 1
        }
      ],
      "source": [
        "a = [1,2,3,4,5]\n",
        "i = iter(a)\n",
        "next(i)"
      ]
    },
    {
      "cell_type": "code",
      "source": [
        "next(i)"
      ],
      "metadata": {
        "colab": {
          "base_uri": "https://localhost:8080/"
        },
        "id": "3LqBv5W-Dq81",
        "outputId": "daf8b325-9f9f-4d58-e486-18e76caafa0f"
      },
      "execution_count": null,
      "outputs": [
        {
          "output_type": "execute_result",
          "data": {
            "text/plain": [
              "2"
            ]
          },
          "metadata": {},
          "execution_count": 2
        }
      ]
    },
    {
      "cell_type": "code",
      "source": [
        "next(i)"
      ],
      "metadata": {
        "colab": {
          "base_uri": "https://localhost:8080/"
        },
        "id": "u9kUuOyYDtDh",
        "outputId": "6971906b-63a6-45f4-aa58-0328679df26c"
      },
      "execution_count": null,
      "outputs": [
        {
          "output_type": "execute_result",
          "data": {
            "text/plain": [
              "3"
            ]
          },
          "metadata": {},
          "execution_count": 3
        }
      ]
    },
    {
      "cell_type": "code",
      "source": [
        "next(i)"
      ],
      "metadata": {
        "colab": {
          "base_uri": "https://localhost:8080/"
        },
        "id": "dVsLLDs5DuWp",
        "outputId": "34db9000-d94e-4fc3-a42b-27c29a1d4446"
      },
      "execution_count": null,
      "outputs": [
        {
          "output_type": "execute_result",
          "data": {
            "text/plain": [
              "4"
            ]
          },
          "metadata": {},
          "execution_count": 4
        }
      ]
    },
    {
      "cell_type": "code",
      "source": [
        "next(i)"
      ],
      "metadata": {
        "colab": {
          "base_uri": "https://localhost:8080/"
        },
        "id": "H53SMdJ2DwVH",
        "outputId": "96693395-d6ee-4ded-d6cd-6c60a9f6a88c"
      },
      "execution_count": null,
      "outputs": [
        {
          "output_type": "execute_result",
          "data": {
            "text/plain": [
              "5"
            ]
          },
          "metadata": {},
          "execution_count": 5
        }
      ]
    },
    {
      "cell_type": "code",
      "source": [
        "l = [1,2,3,4,5]\n",
        "r = iter(l)\n",
        "for p in r:\n",
        "  print(p)"
      ],
      "metadata": {
        "colab": {
          "base_uri": "https://localhost:8080/"
        },
        "id": "GjGGFtwbDx6b",
        "outputId": "81158d72-0daf-4938-ac9a-2ee88f590c18"
      },
      "execution_count": null,
      "outputs": [
        {
          "output_type": "stream",
          "name": "stdout",
          "text": [
            "1\n",
            "2\n",
            "3\n",
            "4\n",
            "5\n"
          ]
        }
      ]
    },
    {
      "cell_type": "markdown",
      "source": [
        "# **Enumertor** :-"
      ],
      "metadata": {
        "id": "f-eYwQUYD0FA"
      }
    },
    {
      "cell_type": "markdown",
      "source": [
        "* If we Return the value along with the count the default count starts from zero"
      ],
      "metadata": {
        "id": "_9TkJTZiH46f"
      }
    },
    {
      "cell_type": "code",
      "source": [
        "s = [1,2,3,4,5]\n",
        "r = enumerate(s)\n",
        "\n",
        "next(r)"
      ],
      "metadata": {
        "colab": {
          "base_uri": "https://localhost:8080/"
        },
        "id": "WAgx1YFOD6-W",
        "outputId": "c20d13a9-ae9c-45c2-b86f-3277d05b5511"
      },
      "execution_count": null,
      "outputs": [
        {
          "output_type": "execute_result",
          "data": {
            "text/plain": [
              "(0, 1)"
            ]
          },
          "metadata": {},
          "execution_count": 7
        }
      ]
    },
    {
      "cell_type": "code",
      "source": [
        "next(r)"
      ],
      "metadata": {
        "colab": {
          "base_uri": "https://localhost:8080/"
        },
        "id": "W-Itr5gzD9de",
        "outputId": "bd02cef7-1ac7-4ebb-c704-7858c1f9a5b8"
      },
      "execution_count": null,
      "outputs": [
        {
          "output_type": "execute_result",
          "data": {
            "text/plain": [
              "(1, 2)"
            ]
          },
          "metadata": {},
          "execution_count": 8
        }
      ]
    },
    {
      "cell_type": "code",
      "source": [
        "next(r)"
      ],
      "metadata": {
        "colab": {
          "base_uri": "https://localhost:8080/"
        },
        "id": "2eNY0IGOD_B6",
        "outputId": "de8f5396-9c12-4206-e545-386033f60864"
      },
      "execution_count": null,
      "outputs": [
        {
          "output_type": "execute_result",
          "data": {
            "text/plain": [
              "(2, 3)"
            ]
          },
          "metadata": {},
          "execution_count": 9
        }
      ]
    },
    {
      "cell_type": "code",
      "source": [
        "next(r)"
      ],
      "metadata": {
        "colab": {
          "base_uri": "https://localhost:8080/"
        },
        "id": "5qV1QC60D_1E",
        "outputId": "5700ea3c-ad1e-4982-c4a0-bca7e89239de"
      },
      "execution_count": null,
      "outputs": [
        {
          "output_type": "execute_result",
          "data": {
            "text/plain": [
              "(3, 4)"
            ]
          },
          "metadata": {},
          "execution_count": 10
        }
      ]
    },
    {
      "cell_type": "code",
      "source": [
        "next(r)"
      ],
      "metadata": {
        "colab": {
          "base_uri": "https://localhost:8080/"
        },
        "id": "TCK7jiegEB1v",
        "outputId": "a31ae9b2-6b77-496c-f7a5-7d69047fd3ba"
      },
      "execution_count": null,
      "outputs": [
        {
          "output_type": "execute_result",
          "data": {
            "text/plain": [
              "(4, 5)"
            ]
          },
          "metadata": {},
          "execution_count": 11
        }
      ]
    },
    {
      "cell_type": "code",
      "source": [
        "l = [10,20,30,40,50]\n",
        "r = enumerate(l,5)\n",
        "next(r)"
      ],
      "metadata": {
        "colab": {
          "base_uri": "https://localhost:8080/"
        },
        "id": "ttNitHDLEJvG",
        "outputId": "8811a36a-6b58-4a3c-846e-cc93abaed022"
      },
      "execution_count": null,
      "outputs": [
        {
          "output_type": "execute_result",
          "data": {
            "text/plain": [
              "(5, 10)"
            ]
          },
          "metadata": {},
          "execution_count": 12
        }
      ]
    },
    {
      "cell_type": "code",
      "source": [
        "next(r)"
      ],
      "metadata": {
        "colab": {
          "base_uri": "https://localhost:8080/"
        },
        "id": "-TpXAm0HENc1",
        "outputId": "0e5cb52b-1e27-46fb-d2f0-288e385b6bc2"
      },
      "execution_count": null,
      "outputs": [
        {
          "output_type": "execute_result",
          "data": {
            "text/plain": [
              "(6, 20)"
            ]
          },
          "metadata": {},
          "execution_count": 13
        }
      ]
    },
    {
      "cell_type": "code",
      "source": [
        "next(r)"
      ],
      "metadata": {
        "colab": {
          "base_uri": "https://localhost:8080/"
        },
        "id": "DZ4KDNp4EOmc",
        "outputId": "d234fa23-a5e2-4e2e-c9a9-f31373847664"
      },
      "execution_count": null,
      "outputs": [
        {
          "output_type": "execute_result",
          "data": {
            "text/plain": [
              "(7, 30)"
            ]
          },
          "metadata": {},
          "execution_count": 14
        }
      ]
    },
    {
      "cell_type": "code",
      "source": [
        "next(r)"
      ],
      "metadata": {
        "colab": {
          "base_uri": "https://localhost:8080/"
        },
        "id": "Ir3wb68CEPY6",
        "outputId": "b867c5a7-f26b-4644-c5d2-ea8a9dc745e2"
      },
      "execution_count": null,
      "outputs": [
        {
          "output_type": "execute_result",
          "data": {
            "text/plain": [
              "(8, 40)"
            ]
          },
          "metadata": {},
          "execution_count": 15
        }
      ]
    },
    {
      "cell_type": "code",
      "source": [
        "next(r)"
      ],
      "metadata": {
        "colab": {
          "base_uri": "https://localhost:8080/"
        },
        "id": "F8SmSsT3EQVB",
        "outputId": "68467692-240e-4e9f-87e7-103ef5c9fa1a"
      },
      "execution_count": null,
      "outputs": [
        {
          "output_type": "execute_result",
          "data": {
            "text/plain": [
              "(9, 50)"
            ]
          },
          "metadata": {},
          "execution_count": 16
        }
      ]
    },
    {
      "cell_type": "code",
      "source": [
        "l = [10,20,30,40,50]\n",
        "r = enumerate(l,5)\n",
        "for p in r:\n",
        "  print(p)"
      ],
      "metadata": {
        "colab": {
          "base_uri": "https://localhost:8080/"
        },
        "id": "xg4nX2Q5ER7C",
        "outputId": "8c3cedc4-7075-4a09-a043-31adb9830fba"
      },
      "execution_count": null,
      "outputs": [
        {
          "output_type": "stream",
          "name": "stdout",
          "text": [
            "(5, 10)\n",
            "(6, 20)\n",
            "(7, 30)\n",
            "(8, 40)\n",
            "(9, 50)\n"
          ]
        }
      ]
    },
    {
      "cell_type": "markdown",
      "source": [
        "# **Generators** :-"
      ],
      "metadata": {
        "id": "5y7spB_oETvJ"
      }
    },
    {
      "cell_type": "markdown",
      "source": [
        "1 - The return statement can return only one value at a time\n",
        "\n",
        "2 - The Generator can return multiple values\n",
        "\n",
        "3 - GFenrator internally used Yield & next Method for returning multiple values\n",
        "\n",
        "A function which returns a generator iterator. It looks like a normal function except that is contains yield expression for producing a series of values usable in a for-loop or that can be retrieved one at a time with the next()"
      ],
      "metadata": {
        "id": "0YshlqZjH87I"
      }
    },
    {
      "cell_type": "code",
      "source": [
        "def gen():\n",
        "  yield 5\n",
        "  yield 10\n",
        "  yield 15\n",
        "  yield 20\n",
        "\n",
        "g1 = gen()\n",
        "r = next(g1)\n",
        "r1 = next(g1)\n",
        "r2 = next(g1)\n",
        "r3 = next(g1)\n",
        "print(r,r1,r2,r3)"
      ],
      "metadata": {
        "colab": {
          "base_uri": "https://localhost:8080/"
        },
        "id": "eNk57ty2EWcB",
        "outputId": "1ecc56a9-ca84-4ec9-fa70-e7d3e2dd0231"
      },
      "execution_count": null,
      "outputs": [
        {
          "output_type": "stream",
          "name": "stdout",
          "text": [
            "5 10 15 20\n"
          ]
        }
      ]
    },
    {
      "cell_type": "code",
      "source": [
        "#Using for loop\n",
        "\n",
        "def gen():\n",
        "  l = [5,10,15,20]\n",
        "  for p in l:\n",
        "    yield p\n",
        "g1 = gen()\n",
        "for p in g1:\n",
        "  print(p)"
      ],
      "metadata": {
        "colab": {
          "base_uri": "https://localhost:8080/"
        },
        "id": "yTiijwurEY8d",
        "outputId": "1c2ff74f-3ca6-43f3-d489-427da73582dd"
      },
      "execution_count": null,
      "outputs": [
        {
          "output_type": "stream",
          "name": "stdout",
          "text": [
            "5\n",
            "10\n",
            "15\n",
            "20\n"
          ]
        }
      ]
    },
    {
      "cell_type": "markdown",
      "source": [
        "# **Random() function** :-"
      ],
      "metadata": {
        "id": "7eqoIzTcEkuk"
      }
    },
    {
      "cell_type": "markdown",
      "source": [
        "* In Python Programmign we can generate the random numbers using randim functions"
      ],
      "metadata": {
        "id": "bhtWhdplII5q"
      }
    },
    {
      "cell_type": "code",
      "source": [
        "import random\n",
        "s = random.randint(1000, 9999)\n",
        "s"
      ],
      "metadata": {
        "colab": {
          "base_uri": "https://localhost:8080/"
        },
        "id": "w8k79EPbEp_l",
        "outputId": "cdca2a48-2c0f-4a7f-caa6-ae0cc5d33ad1"
      },
      "execution_count": null,
      "outputs": [
        {
          "output_type": "execute_result",
          "data": {
            "text/plain": [
              "2638"
            ]
          },
          "metadata": {},
          "execution_count": 20
        }
      ]
    },
    {
      "cell_type": "code",
      "source": [
        "s = random.randint(10000, 55555)\n",
        "s"
      ],
      "metadata": {
        "colab": {
          "base_uri": "https://localhost:8080/"
        },
        "id": "EmzoVob2ErQZ",
        "outputId": "2e61aa9d-de6c-4b40-8481-6ad449ef97a6"
      },
      "execution_count": null,
      "outputs": [
        {
          "output_type": "execute_result",
          "data": {
            "text/plain": [
              "33717"
            ]
          },
          "metadata": {},
          "execution_count": 21
        }
      ]
    },
    {
      "cell_type": "markdown",
      "source": [
        "**Qun :- Write a program to generate 4 random OTPs within the range of 1000 to 10000.**"
      ],
      "metadata": {
        "id": "hpxaAC8lEtk_"
      }
    },
    {
      "cell_type": "code",
      "source": [
        "import random\n",
        "def otp():\n",
        "  i = 1\n",
        "  while(i<=4):\n",
        "    d = random.randint(1000, 10000)\n",
        "    yield d\n",
        "    i = i+1\n",
        "g = otp()\n",
        "for p in g:\n",
        "  print(p)"
      ],
      "metadata": {
        "colab": {
          "base_uri": "https://localhost:8080/"
        },
        "id": "w4u10ZDcEwRh",
        "outputId": "29e2f2e7-4c31-49ff-e2b9-d14d43aaa3b2"
      },
      "execution_count": null,
      "outputs": [
        {
          "output_type": "stream",
          "name": "stdout",
          "text": [
            "9268\n",
            "8639\n",
            "7634\n",
            "6210\n"
          ]
        }
      ]
    },
    {
      "cell_type": "markdown",
      "source": [
        "**Qun :- Write a program to generate factorials of the numbers from 5 to 10 and return the values to main program.**"
      ],
      "metadata": {
        "id": "IjdUUu9KE0R4"
      }
    },
    {
      "cell_type": "code",
      "source": [
        "def fact(l):\n",
        "  for i in l:\n",
        "    factorial = i\n",
        "    while(i!=1):\n",
        "      f = i\n",
        "      factorial = factorial*(f-1)\n",
        "      i = i-1\n",
        "    yield factorial\n",
        "\n",
        "l = [5,6,7,8,9,10]\n",
        "g = fact(l)\n",
        "for p in g:\n",
        "  print(p)"
      ],
      "metadata": {
        "colab": {
          "base_uri": "https://localhost:8080/"
        },
        "id": "oZtNaaDPE22Z",
        "outputId": "bc734ae2-907b-4bb5-abd7-c000e67b4023"
      },
      "execution_count": null,
      "outputs": [
        {
          "output_type": "stream",
          "name": "stdout",
          "text": [
            "120\n",
            "720\n",
            "5040\n",
            "40320\n",
            "362880\n",
            "3628800\n"
          ]
        }
      ]
    },
    {
      "cell_type": "code",
      "source": [
        "def fact(s,e):\n",
        "  for p in range(s,e+1):\n",
        "    f = 1\n",
        "    for q in range(1, p+1):\n",
        "      f = f*q\n",
        "    yield f\n",
        "\n",
        "g1 = fact(5, 10)\n",
        "for p in g1:\n",
        "  print(p)"
      ],
      "metadata": {
        "colab": {
          "base_uri": "https://localhost:8080/"
        },
        "id": "p99NQCrlE5qb",
        "outputId": "3d246cf8-c32f-48e7-bb94-b8de71e4b71c"
      },
      "execution_count": null,
      "outputs": [
        {
          "output_type": "stream",
          "name": "stdout",
          "text": [
            "120\n",
            "720\n",
            "5040\n",
            "40320\n",
            "362880\n",
            "3628800\n"
          ]
        }
      ]
    },
    {
      "cell_type": "markdown",
      "source": [
        "# **Closure** :-"
      ],
      "metadata": {
        "id": "yM7Sk08BE8QC"
      }
    },
    {
      "cell_type": "markdown",
      "source": [
        "1 - Closure is a special function\n",
        "\n",
        "2 - Closure are developed using Nested Functions\n",
        "\n",
        "3 - Closure is inner function, which perform operations using the data of outer function ever outer function execution is completed"
      ],
      "metadata": {
        "id": "HJGAmj-aIOqg"
      }
    },
    {
      "cell_type": "code",
      "source": [
        "def power(p):\n",
        "  def pow(n):\n",
        "    return p**n\n",
        "  return pow\n",
        "\n",
        "s = power(5)\n",
        "a = s(4)\n",
        "print(a)"
      ],
      "metadata": {
        "colab": {
          "base_uri": "https://localhost:8080/"
        },
        "id": "A23Pmai8E_Qp",
        "outputId": "33550e0a-e296-4dee-9f96-a188b517af8e"
      },
      "execution_count": null,
      "outputs": [
        {
          "output_type": "stream",
          "name": "stdout",
          "text": [
            "625\n"
          ]
        }
      ]
    },
    {
      "cell_type": "code",
      "source": [
        "s = power(4)\n",
        "p = s(3)\n",
        "print(p)"
      ],
      "metadata": {
        "colab": {
          "base_uri": "https://localhost:8080/"
        },
        "id": "wklSYflvFB8t",
        "outputId": "b6cab819-6d0f-4a22-e151-d5173d83883b"
      },
      "execution_count": null,
      "outputs": [
        {
          "output_type": "stream",
          "name": "stdout",
          "text": [
            "64\n"
          ]
        }
      ]
    },
    {
      "cell_type": "markdown",
      "source": [
        "**Qun :- Print**\n",
        "```\n",
        "***********\n",
        "$$$$$$$$$$$\n"
      ],
      "metadata": {
        "id": "f33KbepaFENS"
      }
    },
    {
      "cell_type": "code",
      "source": [
        "def symbol(p):\n",
        "  def times(n):\n",
        "    print(p*n)\n",
        "  return times\n",
        "\n",
        "s = symbol('*')\n",
        "s(11)"
      ],
      "metadata": {
        "colab": {
          "base_uri": "https://localhost:8080/"
        },
        "id": "Z3nD9mOfFOMB",
        "outputId": "5ba7370e-46b5-4f7b-e4b9-661b97dddcfe"
      },
      "execution_count": null,
      "outputs": [
        {
          "output_type": "stream",
          "name": "stdout",
          "text": [
            "***********\n"
          ]
        }
      ]
    },
    {
      "cell_type": "code",
      "source": [
        "s = symbol('$')\n",
        "s(11)"
      ],
      "metadata": {
        "colab": {
          "base_uri": "https://localhost:8080/"
        },
        "id": "wkBHsYaFFP0z",
        "outputId": "601271c0-30bb-4415-9f5d-b5bf31bf7f51"
      },
      "execution_count": null,
      "outputs": [
        {
          "output_type": "stream",
          "name": "stdout",
          "text": [
            "$$$$$$$$$$$\n"
          ]
        }
      ]
    },
    {
      "cell_type": "code",
      "source": [
        "def symbol(p):\n",
        "  def times(n):\n",
        "    print(p*n)\n",
        "  return times\n",
        "\n",
        "s = symbol('*')\n",
        "s(11)"
      ],
      "metadata": {
        "colab": {
          "base_uri": "https://localhost:8080/"
        },
        "id": "n1VTPP7PZqDp",
        "outputId": "0993286a-9869-4512-c803-1e29b625c021"
      },
      "execution_count": null,
      "outputs": [
        {
          "output_type": "stream",
          "name": "stdout",
          "text": [
            "***********\n"
          ]
        }
      ]
    },
    {
      "cell_type": "code",
      "source": [
        "s = symbol('$')\n",
        "s(11)"
      ],
      "metadata": {
        "colab": {
          "base_uri": "https://localhost:8080/"
        },
        "id": "h-06jeBeZrfn",
        "outputId": "87169395-880c-4b91-a9a8-2a20e45ce4e9"
      },
      "execution_count": null,
      "outputs": [
        {
          "output_type": "stream",
          "name": "stdout",
          "text": [
            "$$$$$$$$$$$\n"
          ]
        }
      ]
    },
    {
      "cell_type": "markdown",
      "source": [
        "# **Decorators** :-"
      ],
      "metadata": {
        "id": "ywiAP7DYZurg"
      }
    },
    {
      "cell_type": "markdown",
      "source": [
        "1 - Decorator is a Special Function\n",
        "\n",
        "2 - Decorator Fucntion recieves input as one function and returns another function as output\n",
        "\n",
        "3 - A function returnning another function,usually applied as a function transformation using the @wrapper syntax. Common examples for decorateors are classmethod() and staticmethod().\n",
        "\n",
        "4 - Decorators are used to add new features to existing function or extending functionality of existing function without modyfing it.\n",
        "\n",
        "5 - Decorators can be developed irrespective of functionality"
      ],
      "metadata": {
        "id": "NjclWLeZftd_"
      }
    },
    {
      "cell_type": "code",
      "source": [
        "def new_display(d):\n",
        "  def smart_display():\n",
        "    print(\"******************\")\n",
        "    d()\n",
        "    print(\"******************\")\n",
        "  return smart_display\n",
        "\n",
        "\n",
        "@new_display\n",
        "def display():\n",
        "  print(\"Python Programming\")\n",
        "display()"
      ],
      "metadata": {
        "colab": {
          "base_uri": "https://localhost:8080/"
        },
        "id": "JIQK14wYZ2FL",
        "outputId": "60f1f886-18c6-423c-c114-698ac925a66a"
      },
      "execution_count": null,
      "outputs": [
        {
          "output_type": "stream",
          "name": "stdout",
          "text": [
            "******************\n",
            "Python Programming\n",
            "******************\n"
          ]
        }
      ]
    },
    {
      "cell_type": "markdown",
      "source": [
        "**Handle division by zero using decorators** :-\n"
      ],
      "metadata": {
        "id": "xUP5tARDZ76T"
      }
    },
    {
      "cell_type": "code",
      "source": [
        "def smart_div(d):\n",
        "  def division(a,b):\n",
        "    if b==0:\n",
        "      return 0\n",
        "    else:\n",
        "      return d(a,b)\n",
        "  return division\n",
        "\n",
        "@smart_div\n",
        "def div(a,b):\n",
        "  return a/b\n",
        "a=div(10,2)\n",
        "print(a)\n",
        "a=div(10,0)\n",
        "print(a)"
      ],
      "metadata": {
        "colab": {
          "base_uri": "https://localhost:8080/"
        },
        "id": "okIZIXANaN1u",
        "outputId": "cf7b0453-5775-4d73-86b9-2ca02f6ee765"
      },
      "execution_count": null,
      "outputs": [
        {
          "output_type": "stream",
          "name": "stdout",
          "text": [
            "5.0\n",
            "0\n"
          ]
        }
      ]
    },
    {
      "cell_type": "markdown",
      "source": [
        "**Division when second elemnt is string** :-"
      ],
      "metadata": {
        "id": "jT-EHWVTaU0a"
      }
    },
    {
      "cell_type": "code",
      "source": [
        "def smart_div(d):\n",
        "  def division(a,b):\n",
        "    if type(b)==str:\n",
        "      return \"Second input must be a number.\"\n",
        "    else:\n",
        "      return d(a,b)\n",
        "  return division\n",
        "\n",
        "@smart_div\n",
        "def div(a,b):\n",
        "  return a/b\n",
        "\n",
        "a=div(10,\"abc\")\n",
        "print(a)"
      ],
      "metadata": {
        "colab": {
          "base_uri": "https://localhost:8080/"
        },
        "id": "8XHl9mSVaeaV",
        "outputId": "9f473435-e4f3-476f-f376-e86e1e2724cc"
      },
      "execution_count": null,
      "outputs": [
        {
          "output_type": "stream",
          "name": "stdout",
          "text": [
            "Second input must be a number.\n"
          ]
        }
      ]
    },
    {
      "cell_type": "markdown",
      "source": [
        "# **Exception Handling** :-"
      ],
      "metadata": {
        "id": "R8l1Vfd7aiuh"
      }
    },
    {
      "cell_type": "markdown",
      "source": [
        "1 - In Pythn Programming we have two types of errors one is Compile Time Error and Nother is Run Time Error\n",
        "\n",
        "Compile Time Error - The Errors which occurs at Compile Time those errors are Called as Compile tIME eRROR or Syntx Erro\n",
        "This kind of error should be handle by user\n",
        "\n",
        "Run Time Errors :- The Errors which occur at Runtime or during Execution of the program those errors are called as Run Time Error.,\n",
        "Because of Runtime Error The Program will be terminated abnormally\n",
        "We can handle the exceptions(Run time error) with the help of try and accept to block"
      ],
      "metadata": {
        "id": "1dll22nIf6MJ"
      }
    },
    {
      "cell_type": "code",
      "source": [
        "print(\"Begin\")\n",
        "a = int(input(\"Enter a: \"))\n",
        "try:\n",
        "  b = int(input(\"Enter b: \"))\n",
        "  c = a/b\n",
        "  print(c)\n",
        "except(ZeroDivisionError):\n",
        "  print(\"DUsre no. me zero(0) tera baap yaha chodh ke gaya tha ya teri maa😒\")\n",
        "print(\"end\")"
      ],
      "metadata": {
        "colab": {
          "base_uri": "https://localhost:8080/"
        },
        "id": "0Qmgh5f3ao9P",
        "outputId": "4dbe1235-f473-4dd7-8589-e5c35e561221"
      },
      "execution_count": null,
      "outputs": [
        {
          "output_type": "stream",
          "name": "stdout",
          "text": [
            "Begin\n",
            "Enter a: 10\n",
            "Enter b: 0\n",
            "DUsre no. me zero(0) tera baap yaha chodh ke gaya tha ya teri maa😒\n",
            "end\n"
          ]
        }
      ]
    },
    {
      "cell_type": "markdown",
      "source": [
        "**Qun :- Write a program to perform multiplication of 2x2 matrix.**"
      ],
      "metadata": {
        "id": "SdOQ9f4NbqcB"
      }
    },
    {
      "cell_type": "code",
      "source": [
        "def multiply(A, B):\n",
        "  # Check if the matrices are compatible for multiplication\n",
        "  if len(A[0]) != len(B):\n",
        "    print(\"Matrices cannot be multiplied.\")\n",
        "    return\n",
        "\n",
        "  # Initialize the result matrix\n",
        "  C = [[0 for _ in range(len(B[0]))] for _ in range(len(A))]\n",
        "\n",
        "  # Perform the multiplication\n",
        "  for i in range(len(A)):\n",
        "    for j in range(len(B[0])):\n",
        "      for k in range(len(B)):\n",
        "        C[i][j] += A[i][k] * B[k][j]\n",
        "\n",
        "  # Return the result matrix\n",
        "  return C\n",
        "\n",
        "# Example matrices\n",
        "A = [[1, 2], [3, 4]]\n",
        "B = [[5, 6], [7, 8]]\n",
        "\n",
        "# Print the result of the multiplication\n",
        "print(multiply(A, B))\n"
      ],
      "metadata": {
        "colab": {
          "base_uri": "https://localhost:8080/"
        },
        "id": "_kxNX_2Obt5G",
        "outputId": "624948cf-c88d-45e7-b7f4-f7ee366517cb"
      },
      "execution_count": null,
      "outputs": [
        {
          "output_type": "stream",
          "name": "stdout",
          "text": [
            "[[19, 22], [43, 50]]\n"
          ]
        }
      ]
    },
    {
      "cell_type": "markdown",
      "source": [
        "**Local and Global Variable** :-"
      ],
      "metadata": {
        "id": "rQxoAfewb6wP"
      }
    },
    {
      "cell_type": "code",
      "source": [
        "##Local Variable\n",
        "\n",
        "def f1():\n",
        "  a = 10\n",
        "  b = 20\n",
        "  print(a,b)\n",
        "def f2():\n",
        "  c,d = 30,40\n",
        "  print(c,d)\n",
        "  #print(a)  --> It will give error\n",
        "f1()\n",
        "f2()"
      ],
      "metadata": {
        "colab": {
          "base_uri": "https://localhost:8080/"
        },
        "id": "B_QUF6qKcD9z",
        "outputId": "928121ce-8810-4207-b4e3-ede793c64107"
      },
      "execution_count": null,
      "outputs": [
        {
          "output_type": "stream",
          "name": "stdout",
          "text": [
            "10 20\n",
            "30 40\n"
          ]
        }
      ]
    },
    {
      "cell_type": "code",
      "source": [
        "a = 10\n",
        "def m1():\n",
        "  print(a)\n",
        "m1()#10\n",
        "a = a+10\n",
        "print(a)#20\n",
        "m1()#20"
      ],
      "metadata": {
        "colab": {
          "base_uri": "https://localhost:8080/"
        },
        "id": "RCn8cqoxcHcS",
        "outputId": "1443914b-6e3d-4765-ccc0-b61d08d9d77a"
      },
      "execution_count": null,
      "outputs": [
        {
          "output_type": "stream",
          "name": "stdout",
          "text": [
            "10\n",
            "20\n",
            "20\n"
          ]
        }
      ]
    },
    {
      "cell_type": "code",
      "source": [
        "#If we have to update a global variable inside a function then we have tell or mention the function that the variable is global using 'global' keyword\n",
        "\n",
        "a = 10\n",
        "def m1():\n",
        "  global a\n",
        "  print(a)\n",
        "  a = a+10\n",
        "  print(a)\n",
        "m1()"
      ],
      "metadata": {
        "colab": {
          "base_uri": "https://localhost:8080/"
        },
        "id": "qtEYQj-ScI-7",
        "outputId": "2d60746f-62fb-437d-e009-1fd9f1a3f07d"
      },
      "execution_count": null,
      "outputs": [
        {
          "output_type": "stream",
          "name": "stdout",
          "text": [
            "10\n",
            "20\n"
          ]
        }
      ]
    },
    {
      "cell_type": "code",
      "source": [
        "# If you have declared same variable both locally and globally then the function will prefer local variable first.\n",
        "\n",
        "a = 10\n",
        "b = 20\n",
        "c = 30\n",
        "def m1(a):\n",
        "  print(a+b+c)\n",
        "m1(50)"
      ],
      "metadata": {
        "colab": {
          "base_uri": "https://localhost:8080/"
        },
        "id": "xP6np5qzcKYY",
        "outputId": "755149c7-5526-483d-d89e-f751412fc5d9"
      },
      "execution_count": null,
      "outputs": [
        {
          "output_type": "stream",
          "name": "stdout",
          "text": [
            "100\n"
          ]
        }
      ]
    },
    {
      "cell_type": "markdown",
      "source": [
        "# **Try and except** :-"
      ],
      "metadata": {
        "id": "G6JP1QL7cRkw"
      }
    },
    {
      "cell_type": "markdown",
      "source": [
        " The statement which produce the exceptions and the other statements which depends on the exceptions, we have to keep inside the Try Block"
      ],
      "metadata": {
        "id": "su1EDfVqgAg9"
      }
    },
    {
      "cell_type": "markdown",
      "source": [
        "1 - We have to pass corresponding exception class name as a argument to except block\n",
        "\n",
        "2 - Generally user friendly error messages will be given in the except block."
      ],
      "metadata": {
        "id": "XEA5-w6rgHAu"
      }
    },
    {
      "cell_type": "code",
      "source": [
        "print(\"begin\")\n",
        "try:\n",
        "  a = int(input())\n",
        "  b = int(input())\n",
        "  print(a/b)\n",
        "except(ValueError):\n",
        "  print(\"Input should be a int.\")\n",
        "print(\"end\")"
      ],
      "metadata": {
        "colab": {
          "base_uri": "https://localhost:8080/"
        },
        "id": "Eexb7veHcNQX",
        "outputId": "e9a7d59e-4c3b-4e76-bf13-43f974f8f8dd"
      },
      "execution_count": null,
      "outputs": [
        {
          "output_type": "stream",
          "name": "stdout",
          "text": [
            "begin\n",
            "56\n",
            "asd\n",
            "Input should be a int.\n",
            "end\n"
          ]
        }
      ]
    },
    {
      "cell_type": "markdown",
      "source": [
        "# **Multiple except block for a single try block** :-"
      ],
      "metadata": {
        "id": "b8L081SFc8Oe"
      }
    },
    {
      "cell_type": "code",
      "source": [
        "print(\"begin\")\n",
        "try:\n",
        "  a = int(input())\n",
        "  b = int(input())\n",
        "  print(a/b)\n",
        "except(ValueError):\n",
        "  print(\"Input should be a int.\")\n",
        "except(ZeroDivisionError):\n",
        "  print(\"Second input must be a non-zero number.\")\n",
        "print(\"end\")"
      ],
      "metadata": {
        "colab": {
          "base_uri": "https://localhost:8080/"
        },
        "id": "iSh74kUndBi7",
        "outputId": "019422f0-5a73-4db5-bd9f-82c026a9ae29"
      },
      "execution_count": null,
      "outputs": [
        {
          "output_type": "stream",
          "name": "stdout",
          "text": [
            "begin\n",
            "10\n",
            "0\n",
            "Second input must be a non-zero number.\n",
            "end\n"
          ]
        }
      ]
    },
    {
      "cell_type": "markdown",
      "source": [
        "# **Finally Block** :-"
      ],
      "metadata": {
        "id": "apqftTnLdGQw"
      }
    },
    {
      "cell_type": "code",
      "source": [
        "print(\"begin\")\n",
        "try:\n",
        "  a = int(input())\n",
        "  b = int(input())\n",
        "  print(a/b)\n",
        "except(ValueError):\n",
        "  print(\"Input should be a int.\")\n",
        "except(ZeroDivisionError):\n",
        "  print(\"Second input must be a non-zero number.\")\n",
        "finally:\n",
        "  print(\"Welcome\")\n",
        "print(\"end\")"
      ],
      "metadata": {
        "colab": {
          "base_uri": "https://localhost:8080/"
        },
        "id": "tsSosCg0dMtx",
        "outputId": "f09d589b-1f6b-4ea0-ddb1-29b461efc384"
      },
      "execution_count": null,
      "outputs": [
        {
          "output_type": "stream",
          "name": "stdout",
          "text": [
            "begin\n",
            "52\n",
            "26\n",
            "2.0\n",
            "Welcome\n",
            "end\n"
          ]
        }
      ]
    },
    {
      "cell_type": "markdown",
      "source": [
        "# **Assert block** :-"
      ],
      "metadata": {
        "id": "wS387dS4dQ8c"
      }
    },
    {
      "cell_type": "code",
      "source": [
        "def even(n):\n",
        "  assert n%2 == 0, \"The number shold be even\"\n",
        "  print(n, \"is even\")\n",
        "try:\n",
        "  even(10)\n",
        "  even(5) ## --> It will give assertion error that the number should be even\n",
        "except(AssertionError):\n",
        "  print(\"The input number is not even.\")"
      ],
      "metadata": {
        "colab": {
          "base_uri": "https://localhost:8080/"
        },
        "id": "i51zPaPadWN7",
        "outputId": "58341a8d-c4d2-4805-94b4-85324410b092"
      },
      "execution_count": null,
      "outputs": [
        {
          "output_type": "stream",
          "name": "stdout",
          "text": [
            "10 is even\n",
            "The input number is not even.\n"
          ]
        }
      ]
    },
    {
      "cell_type": "markdown",
      "source": [
        "**Qun :- Make a program which raises an error when an input number is less than 3 or greater than 15**"
      ],
      "metadata": {
        "id": "dWuYOK41dYVY"
      }
    },
    {
      "cell_type": "code",
      "source": [
        "def f(n):\n",
        "  assert n>=3 and n<=15, \"The number should be greater than 3 and less than 15\"\n",
        "  print(\"The number is:\",n)\n",
        "n = int(input(\"Enter number: \"))\n",
        "try:\n",
        "  f(n)\n",
        "except(AssertionError):\n",
        "  print(\"The number should be greater than 3 and less than 15\")"
      ],
      "metadata": {
        "colab": {
          "base_uri": "https://localhost:8080/"
        },
        "id": "T4-mLmtmdiQe",
        "outputId": "4b24eacd-e12b-40db-de1c-c1566eca76e9"
      },
      "execution_count": null,
      "outputs": [
        {
          "output_type": "stream",
          "name": "stdout",
          "text": [
            "Enter number: 16\n",
            "The number should be greater than 3 and less than 15\n"
          ]
        }
      ]
    }
  ]
}