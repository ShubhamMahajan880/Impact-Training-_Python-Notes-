{
  "nbformat": 4,
  "nbformat_minor": 0,
  "metadata": {
    "colab": {
      "provenance": [],
      "authorship_tag": "ABX9TyOyvBIFUoEJkhGWB+ocgrMS",
      "include_colab_link": true
    },
    "kernelspec": {
      "name": "python3",
      "display_name": "Python 3"
    },
    "language_info": {
      "name": "python"
    }
  },
  "cells": [
    {
      "cell_type": "markdown",
      "metadata": {
        "id": "view-in-github",
        "colab_type": "text"
      },
      "source": [
        "<a href=\"https://colab.research.google.com/github/ShubhamMahajan880/Impact-Training-_Python-Notes-/blob/main/4_For_Loop.ipynb\" target=\"_parent\"><img src=\"https://colab.research.google.com/assets/colab-badge.svg\" alt=\"Open In Colab\"/></a>"
      ]
    },
    {
      "cell_type": "code",
      "execution_count": null,
      "metadata": {
        "colab": {
          "base_uri": "https://localhost:8080/"
        },
        "id": "k2X0cEmzYNRq",
        "outputId": "93d22152-393c-436e-b5fc-c89cc49cd34a"
      },
      "outputs": [
        {
          "output_type": "stream",
          "name": "stdout",
          "text": [
            "K r i s h n a "
          ]
        }
      ],
      "source": [
        "s = \"Krishna\"\n",
        "for p in s:\n",
        "  print(p, end=\" \")"
      ]
    },
    {
      "cell_type": "code",
      "source": [
        "l = [2,4,6,8,10]\n",
        "for p in l:\n",
        "  print(p, end=\" \")"
      ],
      "metadata": {
        "colab": {
          "base_uri": "https://localhost:8080/"
        },
        "id": "62qVfhl5YYsL",
        "outputId": "d7135665-39b8-4c6f-ab33-3cf1867df616"
      },
      "execution_count": null,
      "outputs": [
        {
          "output_type": "stream",
          "name": "stdout",
          "text": [
            "2 4 6 8 10 "
          ]
        }
      ]
    },
    {
      "cell_type": "code",
      "source": [
        "for p in range(len(l)):\n",
        "  print(p, l[p])"
      ],
      "metadata": {
        "colab": {
          "base_uri": "https://localhost:8080/"
        },
        "id": "TwdVcDnIYaSP",
        "outputId": "d88b0e62-b2b7-4839-b32a-396121f88d74"
      },
      "execution_count": null,
      "outputs": [
        {
          "output_type": "stream",
          "name": "stdout",
          "text": [
            "0 2\n",
            "1 4\n",
            "2 6\n",
            "3 8\n",
            "4 10\n"
          ]
        }
      ]
    },
    {
      "cell_type": "code",
      "source": [
        "for p in range(2, 21, 2):\n",
        "  print(p, end=\" \")"
      ],
      "metadata": {
        "colab": {
          "base_uri": "https://localhost:8080/"
        },
        "id": "rKpDLMa9YcUg",
        "outputId": "4e9d76a5-0139-48b6-c7f6-7d2568cce387"
      },
      "execution_count": null,
      "outputs": [
        {
          "output_type": "stream",
          "name": "stdout",
          "text": [
            "2 4 6 8 10 12 14 16 18 20 "
          ]
        }
      ]
    },
    {
      "cell_type": "markdown",
      "source": [
        "Method for Coverting character into its ASCII Value"
      ],
      "metadata": {
        "id": "i5dTvXicYgD3"
      }
    },
    {
      "cell_type": "code",
      "source": [
        "ord('d')"
      ],
      "metadata": {
        "colab": {
          "base_uri": "https://localhost:8080/"
        },
        "id": "HHjvl1kNYenF",
        "outputId": "55ee9b69-ad4b-45d2-f0aa-bc8f7af69d3d"
      },
      "execution_count": null,
      "outputs": [
        {
          "output_type": "execute_result",
          "data": {
            "text/plain": [
              "100"
            ]
          },
          "metadata": {},
          "execution_count": 5
        }
      ]
    },
    {
      "cell_type": "code",
      "source": [
        "sent = input(\"Enter the string: \")\n",
        "sent = sent.lower()\n",
        "\n",
        "sent = list(sent)\n",
        "r = ''\n",
        "for i in range(97, 123):\n",
        "  c = chr(i)\n",
        "  if c not in sent:\n",
        "    r=r+c\n",
        "if r == '':\n",
        "  print(\"0\")\n",
        "else:\n",
        "  print(r)\n",
        "\n",
        "\n"
      ],
      "metadata": {
        "colab": {
          "base_uri": "https://localhost:8080/"
        },
        "id": "PLeUXhayYnpH",
        "outputId": "12986d4d-d637-4785-f53d-aa21b4ab373c"
      },
      "execution_count": null,
      "outputs": [
        {
          "output_type": "stream",
          "name": "stdout",
          "text": [
            "Enter the string: abcdefghijklnmopqrstuvwxyz\n",
            "0\n"
          ]
        }
      ]
    },
    {
      "cell_type": "code",
      "source": [
        "def invertWordsInSameOrder(arr):\n",
        "  l = arr.split()\n",
        "  for i in l:\n",
        "    i = i[::-1]\n",
        "    print(i, end=\" \")\n",
        "\n",
        "arr = input(\"Enter the string: \")\n",
        "invertWordsInSameOrder(arr)"
      ],
      "metadata": {
        "colab": {
          "base_uri": "https://localhost:8080/"
        },
        "id": "46OVJON0Yrfo",
        "outputId": "6c6f2f73-63cd-4319-dc4f-f3ab0dec7c5d"
      },
      "execution_count": null,
      "outputs": [
        {
          "output_type": "stream",
          "name": "stdout",
          "text": [
            "Enter the string: abcd xyz\n",
            "dcba zyx "
          ]
        }
      ]
    },
    {
      "cell_type": "markdown",
      "source": [
        "**Qun :- Write a program to print prime number between 1 to 50**"
      ],
      "metadata": {
        "id": "7PdGTYW1YwDS"
      }
    },
    {
      "cell_type": "code",
      "source": [
        "for i in range(2,51):\n",
        "  c=0\n",
        "  for j in range(1, p+1):\n",
        "    if(i%j == 0):\n",
        "      c += 1\n",
        "  if (c==2):\n",
        "    print(i, end=\" \")"
      ],
      "metadata": {
        "colab": {
          "base_uri": "https://localhost:8080/"
        },
        "id": "EyNcZF6PYzRc",
        "outputId": "259573e1-464c-48f1-9627-f333ab67c2fa"
      },
      "execution_count": null,
      "outputs": [
        {
          "output_type": "stream",
          "name": "stdout",
          "text": [
            "2 3 5 7 11 13 17 19 25 46 49 "
          ]
        }
      ]
    },
    {
      "cell_type": "markdown",
      "source": [
        "Qun :- print perfect numbers from 1-100\n",
        "(6 --> 1,2,3) **bold text**"
      ],
      "metadata": {
        "id": "XF2f_H-YY3Ko"
      }
    },
    {
      "cell_type": "code",
      "source": [
        "for i in range(1, 10001):\n",
        "  sum = 0\n",
        "  for j in range(1, (i//2 + 1)):\n",
        "    if(i%j == 0):\n",
        "      sum += j\n",
        "  if(sum == i):\n",
        "    print(i, end=\" \")"
      ],
      "metadata": {
        "colab": {
          "base_uri": "https://localhost:8080/"
        },
        "id": "zI3zoSEIY555",
        "outputId": "6f07f261-6da6-4504-b201-b3aeb3ed1bdc"
      },
      "execution_count": null,
      "outputs": [
        {
          "output_type": "stream",
          "name": "stdout",
          "text": [
            "6 28 496 8128 "
          ]
        }
      ]
    },
    {
      "cell_type": "markdown",
      "source": [
        "Qun :- i/p = 13456\n",
        "o/p = 1925 **bold text**"
      ],
      "metadata": {
        "id": "B02EoNfqZBaO"
      }
    },
    {
      "cell_type": "code",
      "source": [
        "yo = input(\"Enter input: \")\n",
        "new = ''\n",
        "for i in yo:\n",
        "  if(int(i) % 2 != 0):\n",
        "    new = new+(str(int(i)**2))\n",
        "print(new)"
      ],
      "metadata": {
        "colab": {
          "base_uri": "https://localhost:8080/"
        },
        "id": "PAg66XQyZAjK",
        "outputId": "9498ba42-67e1-4b03-9c2f-a22c5a4bc876"
      },
      "execution_count": null,
      "outputs": [
        {
          "output_type": "stream",
          "name": "stdout",
          "text": [
            "Enter input: 13456\n",
            "1925\n"
          ]
        }
      ]
    },
    {
      "cell_type": "markdown",
      "source": [
        "**Qun :- Odd numbers from 30 to 50**"
      ],
      "metadata": {
        "id": "bTKW9dv6ZGyZ"
      }
    },
    {
      "cell_type": "code",
      "source": [
        "i=30\n",
        "while(i<=50):\n",
        "  if(i%2 != 0):\n",
        "    print(i, end=\" \")\n",
        "  i += 1"
      ],
      "metadata": {
        "colab": {
          "base_uri": "https://localhost:8080/"
        },
        "id": "2BXzpKyDZKPU",
        "outputId": "bbdefb79-b70a-48b1-8f67-c72650386e6a"
      },
      "execution_count": null,
      "outputs": [
        {
          "output_type": "stream",
          "name": "stdout",
          "text": [
            "31 33 35 37 39 41 43 45 47 49 "
          ]
        }
      ]
    },
    {
      "cell_type": "markdown",
      "source": [
        "**Qun :- Write a program to print sum of digits**"
      ],
      "metadata": {
        "id": "pZ--H2kqZNCk"
      }
    },
    {
      "cell_type": "code",
      "source": [
        "n = int(input(\"Enter number: \"))\n",
        "s=0\n",
        "while(n!=0):\n",
        "  r = n%10\n",
        "  s = s+r\n",
        "  n = n//10\n",
        "print(\"sum: \", s)"
      ],
      "metadata": {
        "colab": {
          "base_uri": "https://localhost:8080/"
        },
        "id": "HmCP4havZP5-",
        "outputId": "b977d21f-4e5b-41c6-ca36-5f239ac78fb7"
      },
      "execution_count": null,
      "outputs": [
        {
          "output_type": "stream",
          "name": "stdout",
          "text": [
            "Enter number: 1234\n",
            "sum:  10\n"
          ]
        }
      ]
    },
    {
      "cell_type": "markdown",
      "source": [
        "Qun :- REverse of the digits\n"
      ],
      "metadata": {
        "id": "c308i3xmZVqn"
      }
    },
    {
      "cell_type": "code",
      "source": [
        "n = int(input(\"Enter number: \"))\n",
        "reverse = 0\n",
        "while(n!=0):\n",
        "  #l = len(str(n))\n",
        "  r = n%10\n",
        "  #r = r*(10**(l-1))\n",
        "  reverse = reverse*10 + r\n",
        "  n = n//10\n",
        "print(reverse)"
      ],
      "metadata": {
        "colab": {
          "base_uri": "https://localhost:8080/"
        },
        "id": "nF5cZDinZT53",
        "outputId": "4949b98a-04b7-4ed1-ac65-8c3a87d4df8d"
      },
      "execution_count": null,
      "outputs": [
        {
          "output_type": "stream",
          "name": "stdout",
          "text": [
            "Enter number: 5023\n",
            "3205\n"
          ]
        }
      ]
    },
    {
      "cell_type": "markdown",
      "source": [
        "Qun :- Check if a number is disarium number. (89 --> 9^2 + 8^1 = 89)"
      ],
      "metadata": {
        "id": "rE7swy8wZreJ"
      }
    },
    {
      "cell_type": "code",
      "source": [
        "num = int(input(\"Enter the number: \"))\n",
        "sum = 0\n",
        "temp = num\n",
        "while(temp != 0):\n",
        "  s = temp%10\n",
        "  sum += s ** len(str(temp))\n",
        "  temp = temp // 10\n",
        "if (num == sum):\n",
        "  print(num, \"is a disarium number.\")\n",
        "else:\n",
        "  print(num, \"is not a disarium number\")\n"
      ],
      "metadata": {
        "colab": {
          "base_uri": "https://localhost:8080/"
        },
        "id": "SXYPOVrLZ0oH",
        "outputId": "1e573e7d-d915-4b68-f90c-818402d10b26"
      },
      "execution_count": null,
      "outputs": [
        {
          "output_type": "stream",
          "name": "stdout",
          "text": [
            "Enter the number: 175\n",
            "175 is a disarium number.\n"
          ]
        }
      ]
    },
    {
      "cell_type": "markdown",
      "source": [
        "Qun :- s1 = \"lokesh it\"\n",
        "s2 = 123456"
      ],
      "metadata": {
        "id": "NDCqjWxRZ6HN"
      }
    },
    {
      "cell_type": "code",
      "source": [
        "s1 = \"lokesh it\"\n",
        "s2 = 123456"
      ],
      "metadata": {
        "id": "XwDMXuWgaFh-"
      },
      "execution_count": null,
      "outputs": []
    },
    {
      "cell_type": "code",
      "source": [
        "print(s1.capitalize(),\n",
        "s1.title(),\n",
        "s1.upper(),\n",
        "s1.lower(),\n",
        "s1.isupper(),\n",
        "s1.isalnum(),\n",
        "s1.isdigit())"
      ],
      "metadata": {
        "colab": {
          "base_uri": "https://localhost:8080/"
        },
        "id": "XonZiRXcZ486",
        "outputId": "37fb96eb-9a3b-41ce-803d-4d8f88f8b87c"
      },
      "execution_count": null,
      "outputs": [
        {
          "output_type": "stream",
          "name": "stdout",
          "text": [
            "Lokesh it Lokesh It LOKESH IT lokesh it False False False\n"
          ]
        }
      ]
    },
    {
      "cell_type": "markdown",
      "source": [
        "**Qun :- Take a string as input(both alpha numeric), then get rid of alphabets and return the indices of numeric digits in a string.**"
      ],
      "metadata": {
        "id": "sbvUh-JTaJkC"
      }
    },
    {
      "cell_type": "code",
      "source": [
        "ip = input(\"Enter the string: \")\n",
        "op = ''\n",
        "for i in range(len(ip)):\n",
        "  if(ip[i].isdigit()):\n",
        "    print(i, end=(''))\n",
        "\n",
        "\n"
      ],
      "metadata": {
        "colab": {
          "base_uri": "https://localhost:8080/"
        },
        "id": "OsKNZsqdaQh0",
        "outputId": "050625c3-91c7-4f55-b0fb-2192e845741a"
      },
      "execution_count": null,
      "outputs": [
        {
          "output_type": "stream",
          "name": "stdout",
          "text": [
            "Enter the string: abc123\n",
            "345"
          ]
        }
      ]
    },
    {
      "cell_type": "markdown",
      "source": [
        "QUn :- Take a string as input which contains both alphanumeric inputs now reverse the positions of alphabets but keep the digits at the same index.\n",
        "a1b2igh3 ---> h1g2iba3 (TCS) **bold text**"
      ],
      "metadata": {
        "id": "GVT0tw3ZaWqy"
      }
    },
    {
      "cell_type": "code",
      "source": [
        "ip = input(\"Enter the string: \")\n",
        "op = ''\n",
        "for i in (ip):\n",
        "  if(i.isalpha()):\n",
        "    op = op + i\n",
        "op = op[::-1]\n",
        "res = ''\n",
        "c = 0\n",
        "for i in ip:\n",
        "  if(i.isalpha()):\n",
        "    res = res+op[c]\n",
        "    c = c+1\n",
        "  else:\n",
        "    res = res + i\n",
        "\n",
        "print(res)"
      ],
      "metadata": {
        "colab": {
          "base_uri": "https://localhost:8080/"
        },
        "id": "4OTzu9lYaV7T",
        "outputId": "a7d06935-84d3-4731-b239-2879813559fa"
      },
      "execution_count": null,
      "outputs": [
        {
          "output_type": "stream",
          "name": "stdout",
          "text": [
            "Enter the string: a1b2igh3\n",
            "h1g2iba3\n"
          ]
        }
      ]
    },
    {
      "cell_type": "markdown",
      "source": [
        "**Qun ::- Return the number of special characters count:**"
      ],
      "metadata": {
        "id": "fvtC4ed1aekZ"
      }
    },
    {
      "cell_type": "code",
      "source": [
        "ip = input(\"Enter string: \")\n",
        "count = 0\n",
        "for i in ip:\n",
        "  if i.isalnum():\n",
        "    pass\n",
        "  else:\n",
        "    count += 1\n",
        "print(count)"
      ],
      "metadata": {
        "colab": {
          "base_uri": "https://localhost:8080/"
        },
        "id": "E6pXVsg2ah6e",
        "outputId": "607364dd-1bd8-482b-97b8-7fd3c184e399"
      },
      "execution_count": null,
      "outputs": [
        {
          "output_type": "stream",
          "name": "stdout",
          "text": [
            "Enter string: gasg!54@#vscsdls*\n",
            "4\n"
          ]
        }
      ]
    },
    {
      "cell_type": "markdown",
      "source": [
        "Qun :- replace vowels with next vowel\n",
        "Shubham --> Shabhem **bold text**"
      ],
      "metadata": {
        "id": "0f9kehaVaqb0"
      }
    },
    {
      "cell_type": "code",
      "source": [
        "s = input()\n",
        "s = s.lower()\n",
        "r = ''\n",
        "vowel = 'aeiou'\n",
        "for p in s:\n",
        "  if(p in vowel):\n",
        "    if(p == 'u'):\n",
        "      r += 'a'\n",
        "    else:\n",
        "      r = r + vowel[vowel.index(p)+1]\n",
        "  else:\n",
        "    r += p\n",
        "print(r)"
      ],
      "metadata": {
        "colab": {
          "base_uri": "https://localhost:8080/"
        },
        "id": "A48tpriSawi-",
        "outputId": "308ebd5b-6409-48f1-ddba-7df377700216"
      },
      "execution_count": null,
      "outputs": [
        {
          "output_type": "stream",
          "name": "stdout",
          "text": [
            "Shubham\n",
            "shabhem\n"
          ]
        }
      ]
    }
  ]
}