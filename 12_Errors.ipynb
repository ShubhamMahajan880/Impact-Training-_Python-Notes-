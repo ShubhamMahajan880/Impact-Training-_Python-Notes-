{
  "nbformat": 4,
  "nbformat_minor": 0,
  "metadata": {
    "colab": {
      "provenance": [],
      "authorship_tag": "ABX9TyOnzDShlIPwM+vBlnHHcp+o",
      "include_colab_link": true
    },
    "kernelspec": {
      "name": "python3",
      "display_name": "Python 3"
    },
    "language_info": {
      "name": "python"
    }
  },
  "cells": [
    {
      "cell_type": "markdown",
      "metadata": {
        "id": "view-in-github",
        "colab_type": "text"
      },
      "source": [
        "<a href=\"https://colab.research.google.com/github/ShubhamMahajan880/Impact-Training-_Python-Notes-/blob/main/12_Errors.ipynb\" target=\"_parent\"><img src=\"https://colab.research.google.com/assets/colab-badge.svg\" alt=\"Open In Colab\"/></a>"
      ]
    },
    {
      "cell_type": "markdown",
      "source": [
        "# **Errors** :-"
      ],
      "metadata": {
        "id": "QDWw4iTwggfH"
      }
    },
    {
      "cell_type": "markdown",
      "source": [
        "#Different Types of Exception in Python Programming :-\n",
        "\"\"\"\n",
        "1 - Zero Division Error :-\n",
        "\n",
        "2 - Value Error\n",
        "\n",
        "3 - Type Error\n",
        "\n",
        "4 - Index Error\n",
        "\n",
        "5 - Name Error\n",
        "\n",
        "6 - Attribute Error\n",
        "\n",
        "7 - Array Out Of Bound Expecption\n",
        "\n",
        "8 - RICE Error\n",
        "\"\"\""
      ],
      "metadata": {
        "id": "VkiZJvkcgmwH"
      }
    },
    {
      "cell_type": "code",
      "source": [
        "a=10\n",
        "print(a)"
      ],
      "metadata": {
        "colab": {
          "base_uri": "https://localhost:8080/"
        },
        "id": "l2H2PK6PgzyZ",
        "outputId": "e75674ac-1d2b-4d92-fe9c-96ae9ea1e421"
      },
      "execution_count": null,
      "outputs": [
        {
          "output_type": "stream",
          "name": "stdout",
          "text": [
            "10\n"
          ]
        }
      ]
    },
    {
      "cell_type": "code",
      "source": [
        "s=[1,2,3,4,5]\n",
        "s.remove(4)\n",
        "print(s)"
      ],
      "metadata": {
        "colab": {
          "base_uri": "https://localhost:8080/"
        },
        "id": "-fhsMOQ-hBfy",
        "outputId": "ca4af761-a790-4fb8-d835-04f1641e9d12"
      },
      "execution_count": null,
      "outputs": [
        {
          "output_type": "stream",
          "name": "stdout",
          "text": [
            "[1, 2, 3, 5]\n"
          ]
        }
      ]
    },
    {
      "cell_type": "code",
      "source": [
        "d={'a':10,'b':20,'c':30}\n",
        "print(d['a'])"
      ],
      "metadata": {
        "colab": {
          "base_uri": "https://localhost:8080/"
        },
        "id": "ybdOdhh-hE5w",
        "outputId": "85893b94-480a-41f0-9aba-063dbee7a500"
      },
      "execution_count": null,
      "outputs": [
        {
          "output_type": "stream",
          "name": "stdout",
          "text": [
            "10\n"
          ]
        }
      ]
    },
    {
      "cell_type": "code",
      "source": [
        "s=3+4j\n",
        "print(s.real)"
      ],
      "metadata": {
        "colab": {
          "base_uri": "https://localhost:8080/"
        },
        "id": "m2wwD-vQhHf6",
        "outputId": "0f04ee50-61f4-48b0-955e-3e667e85c542"
      },
      "execution_count": null,
      "outputs": [
        {
          "output_type": "stream",
          "name": "stdout",
          "text": [
            "3.0\n"
          ]
        }
      ]
    },
    {
      "cell_type": "code",
      "source": [
        "print(s,real=3.5)"
      ],
      "metadata": {
        "id": "4KnlEFZuhLAv"
      },
      "execution_count": null,
      "outputs": []
    }
  ]
}