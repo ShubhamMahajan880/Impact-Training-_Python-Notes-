{
  "nbformat": 4,
  "nbformat_minor": 0,
  "metadata": {
    "colab": {
      "provenance": [],
      "authorship_tag": "ABX9TyPTxpZQpJnHLPZO9E4zGnC9",
      "include_colab_link": true
    },
    "kernelspec": {
      "name": "python3",
      "display_name": "Python 3"
    },
    "language_info": {
      "name": "python"
    }
  },
  "cells": [
    {
      "cell_type": "markdown",
      "metadata": {
        "id": "view-in-github",
        "colab_type": "text"
      },
      "source": [
        "<a href=\"https://colab.research.google.com/github/ShubhamMahajan880/Impact-Training-_Python-Notes-/blob/main/15_Magic_Methods_in_Python.ipynb\" target=\"_parent\"><img src=\"https://colab.research.google.com/assets/colab-badge.svg\" alt=\"Open In Colab\"/></a>"
      ]
    },
    {
      "cell_type": "markdown",
      "source": [
        "# **Magic Methods in Python** : -"
      ],
      "metadata": {
        "id": "wH-r0OK9-Zq-"
      }
    },
    {
      "cell_type": "code",
      "execution_count": null,
      "metadata": {
        "id": "ZMG_DQMoAkGA",
        "colab": {
          "base_uri": "https://localhost:8080/"
        },
        "outputId": "7ea34921-c19f-4075-8b23-5f26a87b79ce"
      },
      "outputs": [
        {
          "output_type": "stream",
          "name": "stdout",
          "text": [
            "<__main__.bx object at 0x79ed7970ed10> <__main__.by object at 0x79ed7970f040>\n",
            "300\n"
          ]
        }
      ],
      "source": [
        "class bx:\n",
        "  def __init__(self,p):\n",
        "    self.p=p\n",
        "  def __add__(self,other):\n",
        "    d=self.p+other.p\n",
        "    return d\n",
        "\n",
        "class by:\n",
        "  def __init__(self,p):\n",
        "    self.p=p\n",
        "\n",
        "b1=bx(200)\n",
        "b2=by(100)\n",
        "print(b1,b2)\n",
        "print(b1+b2)#300\n",
        "\n",
        "\n",
        "\n",
        "\n"
      ]
    },
    {
      "cell_type": "code",
      "source": [
        "a=5\n",
        "b=10\n",
        "a.__add__(b)"
      ],
      "metadata": {
        "colab": {
          "base_uri": "https://localhost:8080/"
        },
        "id": "2qZgF7dGDIho",
        "outputId": "66384822-3e01-416e-843c-02e50a467e3f"
      },
      "execution_count": null,
      "outputs": [
        {
          "output_type": "execute_result",
          "data": {
            "text/plain": [
              "15"
            ]
          },
          "metadata": {},
          "execution_count": 5
        }
      ]
    },
    {
      "cell_type": "code",
      "source": [
        "class employee:\n",
        "  def __init__(self,ename,esal):\n",
        "    self.ename = input(\"Name of the Employee is \")\n",
        "    self.sal=int(input(\"ENter the salary \"))\n",
        "\n",
        "class attendace:\n",
        "\n",
        "  def __init__(self.ename,wdays):\n",
        "    self.wdays=int(input(\"Enter the number of working days of employee \"))\n",
        "\n",
        "  def display(self):\n",
        "    def __multiply__(self,other):\n",
        "    d = self.sal*\n",
        "\n",
        "\n",
        "\n",
        "\n",
        "\n"
      ],
      "metadata": {
        "id": "3p7QDvzADZrd"
      },
      "execution_count": null,
      "outputs": []
    },
    {
      "cell_type": "code",
      "source": [
        "class employee:\n",
        "  def __init__(self,name,sal):\n",
        "    self.name=name\n",
        "    self.sal=sal\n",
        "\n",
        "  def __mul__(self,other):\n",
        "    d=self.sal*other.days\n",
        "    return d\n",
        "\n",
        "class attendance:\n",
        "  def __init__(self,name,days):\n",
        "    self.name=name\n",
        "    self.days=days\n",
        "\n",
        "e1=employee(\"Shubham\",10000)\n",
        "a1=attendance(\"Shubham\",15)\n",
        "print(e1*a1)#e1.__mul__(a1)"
      ],
      "metadata": {
        "colab": {
          "base_uri": "https://localhost:8080/"
        },
        "id": "AFsTMSY-FXyp",
        "outputId": "0fc20c49-737a-44ef-8345-5f9f756c9dd3"
      },
      "execution_count": null,
      "outputs": [
        {
          "output_type": "stream",
          "name": "stdout",
          "text": [
            "150000\n"
          ]
        }
      ]
    },
    {
      "cell_type": "code",
      "source": [
        "a=10\n",
        "b=5\n",
        "a.__add__(b)"
      ],
      "metadata": {
        "colab": {
          "base_uri": "https://localhost:8080/"
        },
        "id": "Fkx_Vh-qHK48",
        "outputId": "a2cff5e9-1f1e-483e-e853-31e2abc7d497"
      },
      "execution_count": null,
      "outputs": [
        {
          "output_type": "execute_result",
          "data": {
            "text/plain": [
              "15"
            ]
          },
          "metadata": {},
          "execution_count": 14
        }
      ]
    },
    {
      "cell_type": "code",
      "source": [
        "a.__sub__(b)"
      ],
      "metadata": {
        "colab": {
          "base_uri": "https://localhost:8080/"
        },
        "id": "0VQXuAIzH3XY",
        "outputId": "3a0f0be1-680b-499a-9f03-b167faba394b"
      },
      "execution_count": null,
      "outputs": [
        {
          "output_type": "execute_result",
          "data": {
            "text/plain": [
              "5"
            ]
          },
          "metadata": {},
          "execution_count": 9
        }
      ]
    },
    {
      "cell_type": "code",
      "source": [
        "a.__mul__(b)\n"
      ],
      "metadata": {
        "colab": {
          "base_uri": "https://localhost:8080/"
        },
        "id": "VjJ0DHSoH3q_",
        "outputId": "e20475b2-c7c0-4517-9232-6ac411abf5b0"
      },
      "execution_count": null,
      "outputs": [
        {
          "output_type": "execute_result",
          "data": {
            "text/plain": [
              "50"
            ]
          },
          "metadata": {},
          "execution_count": 10
        }
      ]
    },
    {
      "cell_type": "code",
      "source": [
        "a.__div__(b)"
      ],
      "metadata": {
        "colab": {
          "base_uri": "https://localhost:8080/",
          "height": 175
        },
        "id": "YCzxJlL4H30E",
        "outputId": "7f2d07d5-a353-43d2-c788-60f4a4625ddf"
      },
      "execution_count": null,
      "outputs": [
        {
          "output_type": "error",
          "ename": "AttributeError",
          "evalue": "'int' object has no attribute '__div__'",
          "traceback": [
            "\u001b[0;31m---------------------------------------------------------------------------\u001b[0m",
            "\u001b[0;31mAttributeError\u001b[0m                            Traceback (most recent call last)",
            "\u001b[0;32m<ipython-input-11-ec9653f30fca>\u001b[0m in \u001b[0;36m<cell line: 1>\u001b[0;34m()\u001b[0m\n\u001b[0;32m----> 1\u001b[0;31m \u001b[0ma\u001b[0m\u001b[0;34m.\u001b[0m\u001b[0m__div__\u001b[0m\u001b[0;34m(\u001b[0m\u001b[0mb\u001b[0m\u001b[0;34m)\u001b[0m\u001b[0;34m\u001b[0m\u001b[0;34m\u001b[0m\u001b[0m\n\u001b[0m",
            "\u001b[0;31mAttributeError\u001b[0m: 'int' object has no attribute '__div__'"
          ]
        }
      ]
    },
    {
      "cell_type": "code",
      "source": [
        "a.__gt__(b)"
      ],
      "metadata": {
        "colab": {
          "base_uri": "https://localhost:8080/"
        },
        "id": "hm5ncq8hH-ab",
        "outputId": "11f02fba-3ecb-4414-e321-c21ca376561c"
      },
      "execution_count": null,
      "outputs": [
        {
          "output_type": "execute_result",
          "data": {
            "text/plain": [
              "True"
            ]
          },
          "metadata": {},
          "execution_count": 12
        }
      ]
    },
    {
      "cell_type": "code",
      "source": [
        "a.__lt__(b)"
      ],
      "metadata": {
        "colab": {
          "base_uri": "https://localhost:8080/"
        },
        "id": "nOEbyCDRIAVJ",
        "outputId": "31205268-71fd-4fda-de7e-3ec07693b35a"
      },
      "execution_count": null,
      "outputs": [
        {
          "output_type": "execute_result",
          "data": {
            "text/plain": [
              "False"
            ]
          },
          "metadata": {},
          "execution_count": 13
        }
      ]
    },
    {
      "cell_type": "code",
      "source": [
        "a.__ge__(b)"
      ],
      "metadata": {
        "colab": {
          "base_uri": "https://localhost:8080/"
        },
        "id": "USsgAUYbII1n",
        "outputId": "fd46b969-f46c-4a17-a5a8-83c8b8d9f467"
      },
      "execution_count": null,
      "outputs": [
        {
          "output_type": "execute_result",
          "data": {
            "text/plain": [
              "True"
            ]
          },
          "metadata": {},
          "execution_count": 16
        }
      ]
    },
    {
      "cell_type": "code",
      "source": [
        "a.__le__(b)"
      ],
      "metadata": {
        "colab": {
          "base_uri": "https://localhost:8080/"
        },
        "id": "t_QenULRIJLa",
        "outputId": "0eadef5f-8cf6-4e1e-f175-4626cad81b98"
      },
      "execution_count": null,
      "outputs": [
        {
          "output_type": "execute_result",
          "data": {
            "text/plain": [
              "False"
            ]
          },
          "metadata": {},
          "execution_count": 15
        }
      ]
    },
    {
      "cell_type": "code",
      "source": [
        "a.__truediv__(b)"
      ],
      "metadata": {
        "colab": {
          "base_uri": "https://localhost:8080/"
        },
        "id": "oGODFWX5Ip3m",
        "outputId": "f3215bf6-5be9-4d3f-e470-b65d4ed67076"
      },
      "execution_count": null,
      "outputs": [
        {
          "output_type": "execute_result",
          "data": {
            "text/plain": [
              "2.0"
            ]
          },
          "metadata": {},
          "execution_count": 21
        }
      ]
    },
    {
      "cell_type": "code",
      "source": [
        "a.__divmod__(b)"
      ],
      "metadata": {
        "colab": {
          "base_uri": "https://localhost:8080/"
        },
        "id": "rX1sDvpOIqgX",
        "outputId": "c2c4b46e-b411-4998-eacf-c59b7611a860"
      },
      "execution_count": null,
      "outputs": [
        {
          "output_type": "execute_result",
          "data": {
            "text/plain": [
              "(2, 0)"
            ]
          },
          "metadata": {},
          "execution_count": 23
        }
      ]
    },
    {
      "cell_type": "code",
      "source": [
        "a.__dir__()\n"
      ],
      "metadata": {
        "colab": {
          "base_uri": "https://localhost:8080/"
        },
        "id": "oJ0oHO9AI1Uz",
        "outputId": "d7b6bbcd-a09e-4528-90e3-c5daa672b55f"
      },
      "execution_count": null,
      "outputs": [
        {
          "output_type": "execute_result",
          "data": {
            "text/plain": [
              "['__new__',\n",
              " '__repr__',\n",
              " '__hash__',\n",
              " '__getattribute__',\n",
              " '__lt__',\n",
              " '__le__',\n",
              " '__eq__',\n",
              " '__ne__',\n",
              " '__gt__',\n",
              " '__ge__',\n",
              " '__add__',\n",
              " '__radd__',\n",
              " '__sub__',\n",
              " '__rsub__',\n",
              " '__mul__',\n",
              " '__rmul__',\n",
              " '__mod__',\n",
              " '__rmod__',\n",
              " '__divmod__',\n",
              " '__rdivmod__',\n",
              " '__pow__',\n",
              " '__rpow__',\n",
              " '__neg__',\n",
              " '__pos__',\n",
              " '__abs__',\n",
              " '__bool__',\n",
              " '__invert__',\n",
              " '__lshift__',\n",
              " '__rlshift__',\n",
              " '__rshift__',\n",
              " '__rrshift__',\n",
              " '__and__',\n",
              " '__rand__',\n",
              " '__xor__',\n",
              " '__rxor__',\n",
              " '__or__',\n",
              " '__ror__',\n",
              " '__int__',\n",
              " '__float__',\n",
              " '__floordiv__',\n",
              " '__rfloordiv__',\n",
              " '__truediv__',\n",
              " '__rtruediv__',\n",
              " '__index__',\n",
              " 'conjugate',\n",
              " 'bit_length',\n",
              " 'bit_count',\n",
              " 'to_bytes',\n",
              " 'from_bytes',\n",
              " 'as_integer_ratio',\n",
              " '__trunc__',\n",
              " '__floor__',\n",
              " '__ceil__',\n",
              " '__round__',\n",
              " '__getnewargs__',\n",
              " '__format__',\n",
              " '__sizeof__',\n",
              " 'real',\n",
              " 'imag',\n",
              " 'numerator',\n",
              " 'denominator',\n",
              " '__doc__',\n",
              " '__str__',\n",
              " '__setattr__',\n",
              " '__delattr__',\n",
              " '__init__',\n",
              " '__reduce_ex__',\n",
              " '__reduce__',\n",
              " '__subclasshook__',\n",
              " '__init_subclass__',\n",
              " '__dir__',\n",
              " '__class__']"
            ]
          },
          "metadata": {},
          "execution_count": 24
        }
      ]
    },
    {
      "cell_type": "markdown",
      "source": [
        "# **Interface & Abstract Classes** :-\n",
        "\n",
        "**Abstract Class** : - Abstract class is a collection of Abstract method & Non-abstrt method.\n",
        "\n",
        "**Abstract Method** :- The method which dosn't contain any implementation part that corresponding method is called as \"Abstract Method\"\n",
        "\n",
        "**Non Abstract Method** :- The Method which contain the implementTION part the correspoinding method will be called as \"Non Abstract Method\"\n",
        "\n",
        "**Interface** : - Interface is a collection of abstract methods\n",
        "\n",
        "* If there is no any implementation part for method & Condstructor we can replace with PASS,empty method are constrcutor is not supported.\n",
        "\n",
        "(common  ..> Non Abstract Methof, different ..> Abstract Method)"
      ],
      "metadata": {
        "id": "ELsSjgM9JTYM"
      }
    },
    {
      "cell_type": "code",
      "source": [
        "from abc import*\n",
        "class RBI(ABC):\n",
        "  def min_bal(self):\n",
        "    pass\n",
        "  def RI(self):\n",
        "    print(\"RI is 6.5%\")\n",
        "\n",
        "class SBI(RBI):\n",
        "  def min_bal(self):\n",
        "    print(\"Min_bal is 2000 rupees :\")\n",
        "class HDFC(RBI):\n",
        "  def min_bal(self):\n",
        "    print(\"Min_bal is 0 rupees :\")\n",
        "class ICICI(RBI):\n",
        "  def min_bal(self):\n",
        "    print(\"Min-Bal is 0 Rupees: \")\n",
        "\n",
        "s1=SBI()\n",
        "s1.min_bal()\n",
        "s1.RI()\n",
        "h1=HDFC()\n",
        "h1.min_bal()\n",
        "h1.RI()\n",
        "\n",
        "\n"
      ],
      "metadata": {
        "colab": {
          "base_uri": "https://localhost:8080/"
        },
        "id": "hKV3svPxK58t",
        "outputId": "ac8758e7-142c-4751-92ae-8041a92bd50b"
      },
      "execution_count": null,
      "outputs": [
        {
          "output_type": "stream",
          "name": "stdout",
          "text": [
            "Min_bal is 2000 rupees :\n",
            "RI is 6.5%\n",
            "Min_bal is 0 rupees :\n",
            "RI is 6.5%\n"
          ]
        }
      ]
    },
    {
      "cell_type": "code",
      "source": [
        "from abc import*\n",
        "class RBI(ABC):\n",
        "  def min_bal(self):\n",
        "    pass\n",
        "  def RI(self):\n",
        "    print(\"RI is 6.5%\")\n",
        "\n",
        "class SBI(RBI):\n",
        "  def min_bal(self):\n",
        "    print(\"Min_bal is 2000 rupees :\")\n",
        "class HDFC(RBI):\n",
        "  def min_bal(self):\n",
        "    print(\"Min_bal is 0 rupees :\")\n",
        "class ICICI(RBI):\n",
        "  def min_bal(self):\n",
        "    print(\"Min-Bal is 0 Rupees: \")\n",
        "\n",
        "s=input(\"Enter class name :\")\n",
        "c=globals()[s]\n",
        "c1=c()\n",
        "print(type(s),type(c))\n",
        "c1.min_bal()\n",
        "c1.RI()\n",
        "\n",
        "\n",
        "#global uses for convert string into corresponding class"
      ],
      "metadata": {
        "colab": {
          "base_uri": "https://localhost:8080/"
        },
        "id": "EE0BkAR86rfx",
        "outputId": "e1404ecb-11db-4863-d35a-a2de7a3e5061"
      },
      "execution_count": null,
      "outputs": [
        {
          "output_type": "stream",
          "name": "stdout",
          "text": [
            "Enter class name :HDFC\n",
            "<class 'str'> <class 'abc.ABCMeta'>\n",
            "Min_bal is 0 rupees :\n",
            "RI is 6.5%\n"
          ]
        }
      ]
    },
    {
      "cell_type": "code",
      "source": [
        "from  abc import*\n",
        "class car(ABC):\n",
        "  def __init__(self,regno):\n",
        "    self.regno=regno\n",
        "  def opentank(self):\n",
        "    print(\"Fill the tank with Registration Number :\",self.regno)\n",
        "  def steering(self):\n",
        "    pass\n",
        "  def breaking(self):\n",
        "    pass\n",
        "\n",
        "class maruthi(car):\n",
        "  def steering(self):\n",
        "    print(\"Manual Steering\")\n",
        "  def breaking(self):\n",
        "    print(\"Hydralic Breaks\")\n",
        "\n",
        "class santro(car):\n",
        "  def steering(self):\n",
        "    print(\"Power Steering\")\n",
        "\n",
        "  def breaking(self):\n",
        "    print(\"Gas Breaks\")\n",
        "\n",
        "class lamborghini(car):\n",
        "  def steering(self):\n",
        "    print(\"Dhaasu Car\")\n",
        "\n",
        "\n",
        "  def breaking(self):\n",
        "    print(\"Qualitu Breaks\")\n",
        "\n",
        "\n",
        "m1=maruthi(\"S32ZA\")\n",
        "m1.opentank()\n",
        "m1.steering()\n",
        "m1.breaking()\n",
        "\n",
        "s1=santro(\"A89R5\")\n",
        "s1.opentank()\n",
        "s1.steering()\n",
        "s1.breaking()\n",
        "\n",
        "l1=lamborghini(\"R789A\")\n",
        "l1.opentank()\n",
        "l1.steering()\n",
        "l1.breaking()\n"
      ],
      "metadata": {
        "colab": {
          "base_uri": "https://localhost:8080/"
        },
        "id": "qHOpzB7q8O4q",
        "outputId": "c0956ef4-dc6f-423e-939e-4cae10b2c8a1"
      },
      "execution_count": null,
      "outputs": [
        {
          "output_type": "stream",
          "name": "stdout",
          "text": [
            "Fill the tank with Registration Number : S32ZA\n",
            "Manual Steering\n",
            "Hydralic Breaks\n",
            "Fill the tank with Registration Number : A89R5\n",
            "Power Steering\n",
            "Gas Breaks\n",
            "Fill the tank with Registration Number : R789A\n",
            "Dhaasu Car\n",
            "Qualitu Breaks\n"
          ]
        }
      ]
    },
    {
      "cell_type": "markdown",
      "source": [
        "# **Interface**\n",
        "Interface is a collection of abstract methods\n",
        "\n",
        "\n",
        "* Interface is implemented by imheriting the properties of abc Model"
      ],
      "metadata": {
        "id": "2M5BDxH2Bnk-"
      }
    },
    {
      "cell_type": "code",
      "source": [
        "from abc import*\n",
        "class test(ABC):\n",
        "  def operation(self):\n",
        "    pass\n",
        "\n",
        "class sub1(test):\n",
        "  def operation(self,a):\n",
        "    print(a*a)\n",
        "\n",
        "class sub2(test):\n",
        "  def operation(self,a):\n",
        "    print(a**3)\n",
        "\n",
        "class sub3(test):\n",
        "  def operation(self,a,b):\n",
        "    print(a+b)\n",
        "\n",
        "s1=sub1()\n",
        "s1.operation(10)\n",
        "s2=sub2()\n",
        "s2.operation(5)\n",
        "s3=sub3()\n",
        "s3.operation(2,3)\n",
        "\n",
        "\n",
        "\n"
      ],
      "metadata": {
        "colab": {
          "base_uri": "https://localhost:8080/"
        },
        "id": "xxsDlzh3A7D5",
        "outputId": "d786b2b4-35b6-4085-e742-156e8afd6b31"
      },
      "execution_count": null,
      "outputs": [
        {
          "output_type": "stream",
          "name": "stdout",
          "text": [
            "100\n",
            "125\n",
            "5\n"
          ]
        }
      ]
    },
    {
      "cell_type": "code",
      "source": [
        "from abc import *\n",
        "class vehicle(ABC):\n",
        "    def wheel(self):\n",
        "        pass\n",
        "class cycle(vehicle):\n",
        "    def wheel(self,a):\n",
        "        print(\"number of wheels in cycle :\",a)\n",
        "class auto(vehicle):\n",
        "    def wheel(self,a):\n",
        "        print(\"number of wheels in auto :\",a)\n",
        "class car(vehicle):\n",
        "    def wheel(self,a):\n",
        "        print(\"number of wheels in car \",a)\n",
        "class bus(vehicle):\n",
        "    def wheel(self,a):\n",
        "        print(\"number of wheels in bus :\",a)\n",
        "class truck(vehicle):\n",
        "    def wheel(self,a):\n",
        "        print(\"number of wheels in truck :\",a)\n",
        "a1=cycle()\n",
        "a1.wheel(2)\n",
        "a2=auto()\n",
        "a2.wheel(3)\n",
        "a3=car()\n",
        "a3.wheel(4)\n",
        "a4=bus()\n",
        "a4.wheel(6)\n",
        "a5=truck()\n",
        "a5.wheel(20)"
      ],
      "metadata": {
        "colab": {
          "base_uri": "https://localhost:8080/"
        },
        "id": "tKZojvMsE2Pl",
        "outputId": "20df9846-4517-4a88-dfc8-8ce151962fc1"
      },
      "execution_count": null,
      "outputs": [
        {
          "output_type": "stream",
          "name": "stdout",
          "text": [
            "number of wheels in cycle : 2\n",
            "number of wheels in auto : 3\n",
            "number of wheels in car  4\n",
            "number of wheels in bus : 6\n",
            "number of wheels in truck : 20\n"
          ]
        }
      ]
    },
    {
      "cell_type": "markdown",
      "source": [
        "Access Specifier and Access\n",
        "In python we have 3 Access Modifiers  :-\n",
        "\n",
        "1 - Private\n",
        "\n",
        "2 - Public\n",
        "\n",
        "3 - Protected\n",
        "\n",
        "\n"
      ],
      "metadata": {
        "id": "ZDoGZVq2HLvr"
      }
    },
    {
      "cell_type": "markdown",
      "source": [
        "# **Public** :-\n",
        "If Variable are method is public we can acess anywhere within the program\n",
        "\n",
        "# **Protected** :-\n",
        "If variable are method is protected we can access within the next immediate class(We can't access in the main program)\n",
        "\n",
        "# **Private** : -\n",
        " If variable are method is privaate we can access within the same class"
      ],
      "metadata": {
        "id": "cGQ0_7ypHkbH"
      }
    },
    {
      "cell_type": "code",
      "source": [
        "#Public\n",
        "class employee:\n",
        "  def __init__(self,name,id1,sal,dep):\n",
        "    self.name=name\n",
        "    self.id1=id1\n",
        "    self.sal=sal\n",
        "    self.dep=dep\n",
        "\n",
        "e1=employee(\"shubh\",123,5000,\"AI\")\n",
        "print(e1.name,e1.id1,e1.sal,e1.dep)"
      ],
      "metadata": {
        "colab": {
          "base_uri": "https://localhost:8080/"
        },
        "id": "admy7MhwIMM-",
        "outputId": "f033ee16-3aff-4d4e-8181-59fbd85cd17e"
      },
      "execution_count": null,
      "outputs": [
        {
          "output_type": "stream",
          "name": "stdout",
          "text": [
            "shubh 123 5000 AI\n"
          ]
        }
      ]
    },
    {
      "cell_type": "code",
      "source": [
        "#Public\n",
        "class employee:\n",
        "  def __init__(self,name,id1,sal,dep):\n",
        "    self.name=name\n",
        "    self.id1=id1\n",
        "    self.sal=sal\n",
        "    self.dep=dep\n",
        "  def display(self):\n",
        "    print(self.name,self.id1,self.sal,self.dep)\n",
        "\n",
        "e1=employee(\"shubham\",4088,500000000,\"AI\")\n",
        "e1.display()"
      ],
      "metadata": {
        "colab": {
          "base_uri": "https://localhost:8080/"
        },
        "id": "rcEXv87WJt1X",
        "outputId": "444e1f02-a9c7-4af3-bb45-ff347952eb76"
      },
      "execution_count": null,
      "outputs": [
        {
          "output_type": "stream",
          "name": "stdout",
          "text": [
            "shubham 4088 500000000 AI\n"
          ]
        }
      ]
    },
    {
      "cell_type": "markdown",
      "source": [
        "Protected Variable can be dclared using single underscore"
      ],
      "metadata": {
        "id": "CwKeYj3hKJIr"
      }
    },
    {
      "cell_type": "code",
      "source": [
        "class employee:\n",
        "  def __init__(self,name,id1,sal,dep):\n",
        "    self._name=name\n",
        "    self._id1=id1\n",
        "    self._sal=sal\n",
        "    self._dep=dep\n",
        "\n",
        "  def _display(self):\n",
        "    print(\"Name:\",self._name)\n",
        "    print(\"ID:\",self._id1)\n",
        "\n",
        "class geeks(employee):\n",
        "  def __init__(self,name,id1,sal,dep):\n",
        "    super().__init__(name,id1,sal,dep)\n",
        "\n",
        "  def display(self):\n",
        "    self._display()\n",
        "    print(\"Salary:\",self._sal)\n",
        "    print(\"Department:\",self._dep)\n",
        "\n",
        "e1=employee(\"Shubham\",123,500000,\"AI\")\n",
        "e1._display()\n",
        "\n"
      ],
      "metadata": {
        "colab": {
          "base_uri": "https://localhost:8080/"
        },
        "id": "XyuRmjFvMOfu",
        "outputId": "4047cc14-15f2-49b8-e144-458a0b1e46bb"
      },
      "execution_count": null,
      "outputs": [
        {
          "output_type": "stream",
          "name": "stdout",
          "text": [
            "Name: Shubham\n",
            "ID: 123\n"
          ]
        }
      ]
    },
    {
      "cell_type": "markdown",
      "source": [
        "# **Private Variable** :-\n",
        "\n",
        "In python programming, we can declare private variable & Private Methods using __(Double underscore)"
      ],
      "metadata": {
        "id": "iW3IOAzsOdlf"
      }
    },
    {
      "cell_type": "code",
      "source": [
        "class employee:\n",
        "  __cname=\"Parul\"\n",
        "  def __init__(self,name,id1,sal,dep):\n",
        "    self.__name=name\n",
        "    self.__id1=id1\n",
        "    self.__sal=sal\n",
        "    self.__dep=dep\n",
        "\n",
        "  def __display(self):\n",
        "    print(\"College Name:\",employee.__cname)\n",
        "    print(\"Name:\",self.__id1)\n",
        "    print(\"Id:\",self.__id1)\n",
        "    print(\"Department:\",self.__dep)\n",
        "    print(\"Salary:\",self.__sal)\n",
        "\n",
        "  def display(self):\n",
        "      self.__display()\n",
        "\n",
        "e1=employee(\"Shubham\",123,99999999,\"AI\")\n",
        "e1.display()\n",
        "\n"
      ],
      "metadata": {
        "colab": {
          "base_uri": "https://localhost:8080/"
        },
        "id": "MM5cmURaQPaA",
        "outputId": "44ec6330-328e-4217-8f34-025ab9c794a4"
      },
      "execution_count": null,
      "outputs": [
        {
          "output_type": "stream",
          "name": "stdout",
          "text": [
            "College Name: Parul\n",
            "Name: 123\n",
            "Id: 123\n",
            "Department: AI\n",
            "Salary: 99999999\n"
          ]
        }
      ]
    },
    {
      "cell_type": "markdown",
      "source": [
        "**Qun :- WAP to produce a number from 5 to 1 and append to the list using recursion**"
      ],
      "metadata": {
        "id": "A_C3HHTORijL"
      }
    },
    {
      "cell_type": "code",
      "source": [
        "l=[]\n",
        "def num(n):\n",
        "  if n==0:\n",
        "    return\n",
        "  else:\n",
        "    l.append(n)\n",
        "    num(n-1)\n",
        "  return l\n",
        "\n",
        "d=num(0)\n",
        "print(d)"
      ],
      "metadata": {
        "colab": {
          "base_uri": "https://localhost:8080/"
        },
        "id": "38vVFeDpRghF",
        "outputId": "1895d5bf-3761-4086-cdc9-53b8063df75d"
      },
      "execution_count": null,
      "outputs": [
        {
          "output_type": "stream",
          "name": "stdout",
          "text": [
            "None\n"
          ]
        }
      ]
    },
    {
      "cell_type": "markdown",
      "source": [
        "**Qun :- WAP to produce a number from 1 to 4 and append to the list using recursion**"
      ],
      "metadata": {
        "id": "XY2iiebeTVT6"
      }
    },
    {
      "cell_type": "code",
      "source": [
        "l=[]\n",
        "def num(n):\n",
        "  if n==0:\n",
        "    return\n",
        "  else:\n",
        "    l.append(n)\n",
        "    num(n+1)\n",
        "  return l\n",
        "\n",
        "d=num(0)\n",
        "print(d)"
      ],
      "metadata": {
        "id": "xqDoDmphTo5M"
      },
      "execution_count": null,
      "outputs": []
    },
    {
      "cell_type": "markdown",
      "source": [
        "**Qun :- WAp to print 5th table using recursion **"
      ],
      "metadata": {
        "id": "OeEXoEMDTb7w"
      }
    },
    {
      "cell_type": "code",
      "source": [],
      "metadata": {
        "id": "Vub9H4V_TT_a"
      },
      "execution_count": null,
      "outputs": []
    }
  ]
}