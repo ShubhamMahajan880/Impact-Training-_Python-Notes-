{
  "nbformat": 4,
  "nbformat_minor": 0,
  "metadata": {
    "colab": {
      "provenance": [],
      "authorship_tag": "ABX9TyMPuh7Eu/IiO4EgzRYvVqIx",
      "include_colab_link": true
    },
    "kernelspec": {
      "name": "python3",
      "display_name": "Python 3"
    },
    "language_info": {
      "name": "python"
    }
  },
  "cells": [
    {
      "cell_type": "markdown",
      "metadata": {
        "id": "view-in-github",
        "colab_type": "text"
      },
      "source": [
        "<a href=\"https://colab.research.google.com/github/ShubhamMahajan880/Impact-Training-_Python-Notes-/blob/main/5_List_Methods.ipynb\" target=\"_parent\"><img src=\"https://colab.research.google.com/assets/colab-badge.svg\" alt=\"Open In Colab\"/></a>"
      ]
    },
    {
      "cell_type": "code",
      "execution_count": null,
      "metadata": {
        "colab": {
          "base_uri": "https://localhost:8080/"
        },
        "id": "WAWZDU5Xa30n",
        "outputId": "c3dec08b-5054-4c74-8eec-41a8705f3cbf"
      },
      "outputs": [
        {
          "output_type": "execute_result",
          "data": {
            "text/plain": [
              "list"
            ]
          },
          "metadata": {},
          "execution_count": 1
        }
      ],
      "source": [
        "l = []\n",
        "type(l)"
      ]
    },
    {
      "cell_type": "code",
      "source": [
        "m = list()\n",
        "type(m)"
      ],
      "metadata": {
        "colab": {
          "base_uri": "https://localhost:8080/"
        },
        "id": "NZVWDuO4bay4",
        "outputId": "432d029d-f2f6-4eab-fb96-8fe3d58add4c"
      },
      "execution_count": null,
      "outputs": [
        {
          "output_type": "execute_result",
          "data": {
            "text/plain": [
              "list"
            ]
          },
          "metadata": {},
          "execution_count": 2
        }
      ]
    },
    {
      "cell_type": "code",
      "source": [
        "l = list(range(1,11))\n",
        "l"
      ],
      "metadata": {
        "colab": {
          "base_uri": "https://localhost:8080/"
        },
        "id": "cuVhM5ArbcTt",
        "outputId": "bafbdfc1-a219-4cc2-bc35-b2657a42a727"
      },
      "execution_count": null,
      "outputs": [
        {
          "output_type": "execute_result",
          "data": {
            "text/plain": [
              "[1, 2, 3, 4, 5, 6, 7, 8, 9, 10]"
            ]
          },
          "metadata": {},
          "execution_count": 3
        }
      ]
    },
    {
      "cell_type": "code",
      "source": [
        "m = [1,2,3,4,5]\n",
        "m"
      ],
      "metadata": {
        "colab": {
          "base_uri": "https://localhost:8080/"
        },
        "id": "ReRCm2xIbfQK",
        "outputId": "4da1e96d-6448-4b39-857e-0bfb4c8f9129"
      },
      "execution_count": null,
      "outputs": [
        {
          "output_type": "execute_result",
          "data": {
            "text/plain": [
              "[1, 2, 3, 4, 5]"
            ]
          },
          "metadata": {},
          "execution_count": 4
        }
      ]
    },
    {
      "cell_type": "code",
      "source": [
        "len(l)"
      ],
      "metadata": {
        "colab": {
          "base_uri": "https://localhost:8080/"
        },
        "id": "ZIePdnDebiZ-",
        "outputId": "a92bbe1a-6ee2-4881-d1b9-e55c62d9c15b"
      },
      "execution_count": null,
      "outputs": [
        {
          "output_type": "execute_result",
          "data": {
            "text/plain": [
              "10"
            ]
          },
          "metadata": {},
          "execution_count": 5
        }
      ]
    },
    {
      "cell_type": "code",
      "source": [
        "m = [1,2,3,4,5,6,7]\n",
        "m"
      ],
      "metadata": {
        "colab": {
          "base_uri": "https://localhost:8080/"
        },
        "id": "UsmKNrFBbj3R",
        "outputId": "1c0c5f15-53a8-4c24-cdb1-f6a048862c6b"
      },
      "execution_count": null,
      "outputs": [
        {
          "output_type": "execute_result",
          "data": {
            "text/plain": [
              "[1, 2, 3, 4, 5, 6, 7]"
            ]
          },
          "metadata": {},
          "execution_count": 6
        }
      ]
    },
    {
      "cell_type": "code",
      "source": [
        "l = [1,2,3,4,5]\n",
        "i = 0\n",
        "\n",
        "while(i<len(l)):\n",
        "  print(l[i], end=\"\")\n",
        "  i += 1\n",
        "print()"
      ],
      "metadata": {
        "colab": {
          "base_uri": "https://localhost:8080/"
        },
        "id": "ibc7L-ZWblKm",
        "outputId": "87d98c2f-0bec-48a9-db7c-2c3fb34683a5"
      },
      "execution_count": null,
      "outputs": [
        {
          "output_type": "stream",
          "name": "stdout",
          "text": [
            "12345\n"
          ]
        }
      ]
    },
    {
      "cell_type": "code",
      "source": [
        "for p in l:\n",
        "  print(p, end=\"\")\n"
      ],
      "metadata": {
        "colab": {
          "base_uri": "https://localhost:8080/"
        },
        "id": "cJ7naWL9bmmq",
        "outputId": "0f7d5ab0-a7d6-433a-f3f9-e60e61dd3d7d"
      },
      "execution_count": null,
      "outputs": [
        {
          "output_type": "stream",
          "name": "stdout",
          "text": [
            "12345"
          ]
        }
      ]
    },
    {
      "cell_type": "code",
      "source": [
        "print(max(l))\n",
        "print(min(l))\n",
        "print(sum(l))"
      ],
      "metadata": {
        "colab": {
          "base_uri": "https://localhost:8080/"
        },
        "id": "nGblvLuXboA8",
        "outputId": "b1d61e3e-c3f2-4ef6-9710-a66d87df6ba5"
      },
      "execution_count": null,
      "outputs": [
        {
          "output_type": "stream",
          "name": "stdout",
          "text": [
            "5\n",
            "1\n",
            "15\n"
          ]
        }
      ]
    },
    {
      "cell_type": "markdown",
      "source": [
        "**QUn :- find the largest no. that can be formed by rearranging the digits of a given number.**"
      ],
      "metadata": {
        "id": "s3CMQYlmbqMk"
      }
    },
    {
      "cell_type": "code",
      "source": [
        "num = int(input())\n",
        "l = list(map(int, str(num)))\n",
        "l.sort(reverse=True)\n",
        "print(l)\n",
        "r = list(map(str,l))\n",
        "print(''.join(r))  #join is like append but for string"
      ],
      "metadata": {
        "colab": {
          "base_uri": "https://localhost:8080/"
        },
        "id": "qdJVKW1sbr4l",
        "outputId": "63c12954-120f-4748-bb05-4e19a0c9304a"
      },
      "execution_count": null,
      "outputs": [
        {
          "output_type": "stream",
          "name": "stdout",
          "text": [
            "123456789\n",
            "[9, 8, 7, 6, 5, 4, 3, 2, 1]\n",
            "987654321\n"
          ]
        }
      ]
    },
    {
      "cell_type": "markdown",
      "source": [
        "**Qun :- You are given a pile of cards which contains only numeric cards and a joker that represents zero(which is only one), so you have to arrange the pile in increasing order of the card but the joker should come after the first card.**"
      ],
      "metadata": {
        "id": "6tLgFBPTbx3t"
      }
    },
    {
      "cell_type": "code",
      "source": [
        "num = int(input())\n",
        "l = list(map(int, str(num)))\n",
        "l.sort()\n",
        "if(l[0]==0):\n",
        "  l[0], l[1] = l[1], l[0]\n",
        "r = list(map(str,l))\n",
        "print(''.join(r))  #join is like append but for string"
      ],
      "metadata": {
        "colab": {
          "base_uri": "https://localhost:8080/"
        },
        "id": "_Y_Ez-pZb08A",
        "outputId": "a0b0d1fb-a724-43a8-8fec-a5044889b3c2"
      },
      "execution_count": null,
      "outputs": [
        {
          "output_type": "stream",
          "name": "stdout",
          "text": [
            "6810716\n",
            "1016678\n"
          ]
        }
      ]
    },
    {
      "cell_type": "code",
      "source": [
        "l = [10,20,30,40,50,60]\n",
        "l.append(70)\n",
        "l"
      ],
      "metadata": {
        "colab": {
          "base_uri": "https://localhost:8080/"
        },
        "id": "ovRxPI0sb57k",
        "outputId": "fb2ef86c-2d74-4950-8a3b-a231c363613f"
      },
      "execution_count": null,
      "outputs": [
        {
          "output_type": "execute_result",
          "data": {
            "text/plain": [
              "[10, 20, 30, 40, 50, 60, 70]"
            ]
          },
          "metadata": {},
          "execution_count": 12
        }
      ]
    },
    {
      "cell_type": "code",
      "source": [
        "l.extend([10,20,30])\n",
        "l"
      ],
      "metadata": {
        "colab": {
          "base_uri": "https://localhost:8080/"
        },
        "id": "t-xCK1sMb7WU",
        "outputId": "ca1ee897-c831-491f-f233-65e6776645d7"
      },
      "execution_count": null,
      "outputs": [
        {
          "output_type": "execute_result",
          "data": {
            "text/plain": [
              "[10, 20, 30, 40, 50, 60, 70, 10, 20, 30]"
            ]
          },
          "metadata": {},
          "execution_count": 13
        }
      ]
    },
    {
      "cell_type": "code",
      "source": [
        "l.insert(2,25)\n",
        "l"
      ],
      "metadata": {
        "colab": {
          "base_uri": "https://localhost:8080/"
        },
        "id": "1R8U90aKb946",
        "outputId": "127487cb-0a62-439f-ecea-06524cbae9bd"
      },
      "execution_count": null,
      "outputs": [
        {
          "output_type": "execute_result",
          "data": {
            "text/plain": [
              "[10, 20, 25, 30, 40, 50, 60, 70, 10, 20, 30]"
            ]
          },
          "metadata": {},
          "execution_count": 14
        }
      ]
    },
    {
      "cell_type": "code",
      "source": [
        "l.remove(25)"
      ],
      "metadata": {
        "id": "3uk1Us5ub_SC"
      },
      "execution_count": null,
      "outputs": []
    },
    {
      "cell_type": "code",
      "source": [
        "l"
      ],
      "metadata": {
        "colab": {
          "base_uri": "https://localhost:8080/"
        },
        "id": "9jqA-LMycB6y",
        "outputId": "c66d5340-ca1f-4c34-dbd8-586e98fda83c"
      },
      "execution_count": null,
      "outputs": [
        {
          "output_type": "execute_result",
          "data": {
            "text/plain": [
              "[10, 20, 30, 40, 50, 60, 70, 10, 20, 30]"
            ]
          },
          "metadata": {},
          "execution_count": 16
        }
      ]
    },
    {
      "cell_type": "code",
      "source": [
        "y = l.copy()\n",
        "y"
      ],
      "metadata": {
        "colab": {
          "base_uri": "https://localhost:8080/"
        },
        "id": "aHjEUpcDcGVH",
        "outputId": "0571143a-da82-4fc1-da45-2dd3076534bf"
      },
      "execution_count": null,
      "outputs": [
        {
          "output_type": "execute_result",
          "data": {
            "text/plain": [
              "[10, 20, 30, 40, 50, 60, 70, 10, 20, 30]"
            ]
          },
          "metadata": {},
          "execution_count": 17
        }
      ]
    },
    {
      "cell_type": "code",
      "source": [
        "l.pop()"
      ],
      "metadata": {
        "colab": {
          "base_uri": "https://localhost:8080/"
        },
        "id": "FeiLKV4YcJL2",
        "outputId": "237c9ccc-bb0f-40a0-dc09-e346ca5b43ce"
      },
      "execution_count": null,
      "outputs": [
        {
          "output_type": "execute_result",
          "data": {
            "text/plain": [
              "30"
            ]
          },
          "metadata": {},
          "execution_count": 18
        }
      ]
    },
    {
      "cell_type": "code",
      "source": [
        "l.pop(2)"
      ],
      "metadata": {
        "colab": {
          "base_uri": "https://localhost:8080/"
        },
        "id": "urvgR_QtcKhn",
        "outputId": "cfbf6311-a7a0-45ba-e666-7760996e960c"
      },
      "execution_count": null,
      "outputs": [
        {
          "output_type": "execute_result",
          "data": {
            "text/plain": [
              "30"
            ]
          },
          "metadata": {},
          "execution_count": 19
        }
      ]
    },
    {
      "cell_type": "code",
      "source": [
        "del l[2]"
      ],
      "metadata": {
        "id": "TwAOhv4AcL4y"
      },
      "execution_count": null,
      "outputs": []
    },
    {
      "cell_type": "code",
      "source": [
        "del l[2:5]"
      ],
      "metadata": {
        "id": "XvcpPsgMcSgT"
      },
      "execution_count": null,
      "outputs": []
    },
    {
      "cell_type": "code",
      "source": [
        "l"
      ],
      "metadata": {
        "colab": {
          "base_uri": "https://localhost:8080/"
        },
        "id": "AdMsCfRMcT9f",
        "outputId": "3950c5a8-411d-42dc-d9bc-68a52c69e45b"
      },
      "execution_count": null,
      "outputs": [
        {
          "output_type": "execute_result",
          "data": {
            "text/plain": [
              "[10, 20, 20]"
            ]
          },
          "metadata": {},
          "execution_count": 23
        }
      ]
    },
    {
      "cell_type": "code",
      "source": [
        "l.index(20)"
      ],
      "metadata": {
        "colab": {
          "base_uri": "https://localhost:8080/"
        },
        "id": "NluzH7yMcVWU",
        "outputId": "f11d7f4e-a1b8-4126-d9f8-4a5c382abc2d"
      },
      "execution_count": null,
      "outputs": [
        {
          "output_type": "execute_result",
          "data": {
            "text/plain": [
              "1"
            ]
          },
          "metadata": {},
          "execution_count": 24
        }
      ]
    },
    {
      "cell_type": "code",
      "source": [
        "l.index(10,1)"
      ],
      "metadata": {
        "id": "tZ20aO2xcW1G"
      },
      "execution_count": null,
      "outputs": []
    },
    {
      "cell_type": "code",
      "source": [
        "l.count(10)"
      ],
      "metadata": {
        "colab": {
          "base_uri": "https://localhost:8080/"
        },
        "id": "a6iDJk42cg8O",
        "outputId": "19e46f61-98cf-4608-a895-55500375edeb"
      },
      "execution_count": null,
      "outputs": [
        {
          "output_type": "execute_result",
          "data": {
            "text/plain": [
              "1"
            ]
          },
          "metadata": {},
          "execution_count": 27
        }
      ]
    },
    {
      "cell_type": "code",
      "source": [
        "d = [3,1,4,52,9,6]\n",
        "d.sort()"
      ],
      "metadata": {
        "id": "a-SM7lZvciKC"
      },
      "execution_count": null,
      "outputs": []
    },
    {
      "cell_type": "code",
      "source": [
        "d"
      ],
      "metadata": {
        "colab": {
          "base_uri": "https://localhost:8080/"
        },
        "id": "U7hvq2Mhcjgi",
        "outputId": "ff24ff59-cf4e-434b-f30a-5174c605dacb"
      },
      "execution_count": null,
      "outputs": [
        {
          "output_type": "execute_result",
          "data": {
            "text/plain": [
              "[1, 3, 4, 6, 9, 52]"
            ]
          },
          "metadata": {},
          "execution_count": 29
        }
      ]
    },
    {
      "cell_type": "code",
      "source": [
        "d=[3,1,5,9,2,4]\n",
        "d.sort(reverse = True)\n",
        "d"
      ],
      "metadata": {
        "colab": {
          "base_uri": "https://localhost:8080/"
        },
        "id": "zbppgnqQck4j",
        "outputId": "bdb17432-3658-46b1-bd3a-20167ab3c371"
      },
      "execution_count": null,
      "outputs": [
        {
          "output_type": "execute_result",
          "data": {
            "text/plain": [
              "[9, 5, 4, 3, 2, 1]"
            ]
          },
          "metadata": {},
          "execution_count": 30
        }
      ]
    },
    {
      "cell_type": "code",
      "source": [
        "d = [3,2,1,4]\n",
        "d.reverse()\n",
        "d"
      ],
      "metadata": {
        "colab": {
          "base_uri": "https://localhost:8080/"
        },
        "id": "yGBFHn5WcmKR",
        "outputId": "4c43b0ab-c43e-4ef8-ce8e-e195d9259e2d"
      },
      "execution_count": null,
      "outputs": [
        {
          "output_type": "execute_result",
          "data": {
            "text/plain": [
              "[4, 1, 2, 3]"
            ]
          },
          "metadata": {},
          "execution_count": 31
        }
      ]
    },
    {
      "cell_type": "code",
      "source": [
        "d.clear()\n",
        "d"
      ],
      "metadata": {
        "colab": {
          "base_uri": "https://localhost:8080/"
        },
        "id": "Ia8fp9YecnhQ",
        "outputId": "f16ef9f4-eaca-43b3-da92-213347e8e8c9"
      },
      "execution_count": null,
      "outputs": [
        {
          "output_type": "execute_result",
          "data": {
            "text/plain": [
              "[]"
            ]
          },
          "metadata": {},
          "execution_count": 32
        }
      ]
    },
    {
      "cell_type": "code",
      "source": [
        "y[2:5] = [1,2,3]"
      ],
      "metadata": {
        "id": "ldzufNh1cou0"
      },
      "execution_count": null,
      "outputs": []
    },
    {
      "cell_type": "code",
      "source": [
        "y"
      ],
      "metadata": {
        "colab": {
          "base_uri": "https://localhost:8080/"
        },
        "id": "7cLWRZglcq7X",
        "outputId": "32e4741f-9be6-4534-9547-a1e6fe6354c9"
      },
      "execution_count": null,
      "outputs": [
        {
          "output_type": "execute_result",
          "data": {
            "text/plain": [
              "[10, 20, 1, 2, 3, 60, 70, 10, 20, 30]"
            ]
          },
          "metadata": {},
          "execution_count": 34
        }
      ]
    },
    {
      "cell_type": "markdown",
      "source": [
        "Qun :- list = [1,5,3,\"Krishna\",\"ramu\",\"anil\",5,3,\"ramesh\",2,\"bharathi]\n",
        "arrange them into ascending order with both numbers and strings seperaterly **bold text**"
      ],
      "metadata": {
        "id": "5iLGUF9zc2RX"
      }
    },
    {
      "cell_type": "code",
      "source": [
        "l = [1,5,3,\"Krishna\",\"ramu\",\"anil\",5,3,\"ramesh\",2,\"bharathi\"]\n",
        "nl = []\n",
        "sl = []\n",
        "for p in l:\n",
        "  if(type(p)==int):\n",
        "    nl.append(p)\n",
        "  else:\n",
        "    sl.append(p)\n",
        "print(nl)\n",
        "print(sl)\n",
        "nl.sort()\n",
        "sl.sort()\n",
        "print(nl+sl)"
      ],
      "metadata": {
        "colab": {
          "base_uri": "https://localhost:8080/"
        },
        "id": "ybzUK1wyc7ae",
        "outputId": "57885ea9-c8b6-475a-8eaf-470f2f0276fc"
      },
      "execution_count": null,
      "outputs": [
        {
          "output_type": "stream",
          "name": "stdout",
          "text": [
            "[1, 5, 3, 5, 3, 2]\n",
            "['Krishna', 'ramu', 'anil', 'ramesh', 'bharathi']\n",
            "[1, 2, 3, 3, 5, 5, 'Krishna', 'anil', 'bharathi', 'ramesh', 'ramu']\n"
          ]
        }
      ]
    },
    {
      "cell_type": "markdown",
      "source": [
        "**Qun :- Write a program to read list elements from the user with and without using for loop.**"
      ],
      "metadata": {
        "id": "FfJq_BztdB5n"
      }
    },
    {
      "cell_type": "code",
      "source": [
        "arr = list(map(int, input().split()))\n",
        "print(arr)\n",
        "\n",
        "n = int(input())\n",
        "arrr = list(map(int, input().split()))[:n]\n",
        "print(arrr)"
      ],
      "metadata": {
        "id": "URz8LpcbdFps"
      },
      "execution_count": null,
      "outputs": []
    },
    {
      "cell_type": "code",
      "source": [
        "length = int(input(\"Enter the length of list: \"))\n",
        "L = []\n",
        "for i in range(length):\n",
        "  L.append(int(input()))\n",
        "print(L)"
      ],
      "metadata": {
        "colab": {
          "base_uri": "https://localhost:8080/"
        },
        "id": "ihF035A7dZFA",
        "outputId": "6339dcfd-d14b-4056-ef60-9cdd6be511f8"
      },
      "execution_count": null,
      "outputs": [
        {
          "output_type": "stream",
          "name": "stdout",
          "text": [
            "Enter the length of list: 5\n",
            "1\n",
            "2\n",
            "4\n",
            "6\n",
            "8\n",
            "[1, 2, 4, 6, 8]\n"
          ]
        }
      ]
    },
    {
      "cell_type": "code",
      "source": [
        "n = int(input(\"Size of array: \"))\n",
        "arr = list(map(int, input().split()))[:n]\n",
        "arr.sort()\n",
        "arr2 = []\n",
        "for p in range(len(arr)//2):\n",
        "  arr2.append(arr[p])\n",
        "  arr2.append(arr[-(p+1)])\n",
        "if(len(arr)%2 != 0):\n",
        "  arr2.append(arr[len(arr)//2])\n",
        "\n",
        "print(*arr2)"
      ],
      "metadata": {
        "colab": {
          "base_uri": "https://localhost:8080/"
        },
        "id": "KoBPN69_dXiD",
        "outputId": "6b183bd1-88b4-4b60-978f-9e19329afe0c"
      },
      "execution_count": null,
      "outputs": [
        {
          "output_type": "stream",
          "name": "stdout",
          "text": [
            "Size of array: 8\n",
            "1 2 3 4 56 7 8 \n",
            "1 56 2 8 3 7 4\n"
          ]
        }
      ]
    },
    {
      "cell_type": "markdown",
      "source": [
        "**Qun :- Remove the duplicate elements and again print in the same order**"
      ],
      "metadata": {
        "id": "mmJax_Wmdyye"
      }
    },
    {
      "cell_type": "code",
      "source": [
        "n = int(input(\"Enter Size: \"))\n",
        "arr = list(map(int, input().split()))[:n]\n",
        "\n",
        "arr2 = []\n",
        "for i in arr:\n",
        "  if (i not in arr2):\n",
        "    arr2.append(i)\n",
        "print(\"Old array: \",arr)\n",
        "print(\"New array: \",arr2)"
      ],
      "metadata": {
        "colab": {
          "base_uri": "https://localhost:8080/"
        },
        "id": "Cab5df5Ud1VY",
        "outputId": "db7c1693-7f4e-417c-995e-f586eec5cfd4"
      },
      "execution_count": null,
      "outputs": [
        {
          "output_type": "stream",
          "name": "stdout",
          "text": [
            "Enter Size: 8\n",
            " 1 1 3 2 1 4 5 4\n",
            "Old array:  [1, 1, 3, 2, 1, 4, 5, 4]\n",
            "New array:  [1, 3, 2, 4, 5]\n"
          ]
        }
      ]
    },
    {
      "cell_type": "markdown",
      "source": [
        "Qun :- While processing the numbers from left to right, all the odd digits in the order of first in first out, and even digits in last in first out.\\n\n",
        "2143658790 -> 1357908642 **bold text**"
      ],
      "metadata": {
        "id": "iwwVntIzd9zB"
      }
    },
    {
      "cell_type": "code",
      "source": [
        "n = int(input())\n",
        "l = list(map(int, str(n)))\n",
        "odd  = []\n",
        "even = []\n",
        "for i in l:\n",
        "  if (i%2 == 0):\n",
        "    even.append(i)\n",
        "  else:\n",
        "    odd.append(i)\n",
        "odd.sort()\n",
        "even.sort(reverse=True)\n",
        "\n",
        "t = odd+even\n",
        "r = list(map(str, t))\n",
        "\n",
        "print(''.join(r))\n",
        "\n"
      ],
      "metadata": {
        "colab": {
          "base_uri": "https://localhost:8080/"
        },
        "id": "lTP7P5m4d_ub",
        "outputId": "262ffbff-b648-40e2-d335-ac234e7cee41"
      },
      "execution_count": null,
      "outputs": [
        {
          "output_type": "stream",
          "name": "stdout",
          "text": [
            "2143658790\n",
            "1357986420\n"
          ]
        }
      ]
    },
    {
      "cell_type": "code",
      "source": [
        "n = int(input())\n",
        "l = list(map(int, str(n)))\n",
        "odd  = []\n",
        "even = []\n",
        "r = [even.append(p) if(p%2==0) else odd.append(p) for p in l]\n",
        "odd.sort()\n",
        "even.sort(reverse=True)\n",
        "\n",
        "t = odd+even\n",
        "r = list(map(str, t))\n",
        "\n",
        "print(''.join(r))"
      ],
      "metadata": {
        "colab": {
          "base_uri": "https://localhost:8080/"
        },
        "id": "jXGJFjtEeOhq",
        "outputId": "8377f2d6-8c0d-4d6b-b5d9-d6855b26af9a"
      },
      "execution_count": null,
      "outputs": [
        {
          "output_type": "stream",
          "name": "stdout",
          "text": [
            "2143658790\n",
            "1357986420\n"
          ]
        }
      ]
    },
    {
      "cell_type": "code",
      "source": [
        "s = input(\"Enter string: \")\n",
        "a = 0\n",
        "b = 1\n",
        "c = 0\n",
        "fn=''\n",
        "for i in range(1, len(s)+1):\n",
        "  if i==1:\n",
        "    fn += '1'\n",
        "  else:\n",
        "    c = a+b\n",
        "    a = b\n",
        "    b = c\n",
        "    fn = fn+str(c)\n",
        "\n",
        "total = 0\n",
        "for i in fn:\n",
        "  total = total + int(i)\n",
        "\n",
        "res= ''\n",
        "res = res+str(total)\n",
        "for i in range(len(s)):\n",
        "  res = res+s[i]+str(fn[i])\n",
        "\n",
        "\n",
        "print(res)\n",
        "\n",
        "\n"
      ],
      "metadata": {
        "colab": {
          "base_uri": "https://localhost:8080/"
        },
        "id": "xCZQg1IfeUcI",
        "outputId": "20933815-a85c-47d7-f162-992d45780ca5"
      },
      "execution_count": null,
      "outputs": [
        {
          "output_type": "stream",
          "name": "stdout",
          "text": [
            "Enter string: abcde\n",
            "12a1b1c2d3e5\n"
          ]
        }
      ]
    },
    {
      "cell_type": "markdown",
      "source": [
        "**Qun :- Given a list in which you have to remove the duplicates of a number which is suggested by the user. Take list input also from user. EG: list = [1,2,3,4,3,5,3,7,3]**"
      ],
      "metadata": {
        "id": "uCb4gYt0eYDO"
      }
    },
    {
      "cell_type": "code",
      "source": [
        "List = list(map(int, input(\"Enter list items seperated with comas: \").split(\",\")))\n",
        "rmv = int(input(\"Enter the no. whose dulicates you want to remove: \"))\n",
        "\n",
        "while(List.count(rmv)>1):\n",
        "    List.remove(rmv)\n",
        "List.sort()\n",
        "print(List)"
      ],
      "metadata": {
        "colab": {
          "base_uri": "https://localhost:8080/"
        },
        "id": "AbF0X8O4ebXn",
        "outputId": "a4b67911-b0ea-4f74-8d88-d65e413e13ed"
      },
      "execution_count": null,
      "outputs": [
        {
          "output_type": "stream",
          "name": "stdout",
          "text": [
            "Enter list items seperated with comas: 1,2,3,4,3,5,3,7,3\n",
            "Enter the no. whose dulicates you want to remove: 4\n",
            "[1, 2, 3, 3, 3, 3, 4, 5, 7]\n"
          ]
        }
      ]
    },
    {
      "cell_type": "code",
      "source": [
        "n = int(input(\"No. of inputs: \"))\n",
        "c = 0\n",
        "l = []\n",
        "for i in range(n):\n",
        "  w = input(\"Enter String : \")\n",
        "  age = int(w[-4:-2])\n",
        "  if(age>=60):\n",
        "    l.append(w[0:10])\n",
        "    c += 1\n",
        "print(\"Total no. of people whose age is above 60 are: \",c)\n",
        "print(\"The ages of persons with mobile no. \",*l,\" is above 60\")\n"
      ],
      "metadata": {
        "colab": {
          "base_uri": "https://localhost:8080/"
        },
        "id": "d0CnuhV4eidb",
        "outputId": "ebb7e9ac-0f07-479e-ce52-0418f0aafe44"
      },
      "execution_count": null,
      "outputs": [
        {
          "output_type": "stream",
          "name": "stdout",
          "text": [
            "No. of inputs: 4\n",
            "Enter String : 9783373467F6113\n",
            "Enter String : 9079694893M3412\n",
            "Enter String : 8003150990F5911\n",
            "Enter String : 9950964336M6210\n",
            "Total no. of people whose age is above 60 are:  2\n",
            "The ages of persons with mobile no.  9783373467 9950964336  is above 60\n"
          ]
        }
      ]
    },
    {
      "cell_type": "code",
      "source": [
        "n = int(input(\"Size of array: \"))\n",
        "arr = list(map(int, input().split()))[:n]\n",
        "l1 = []\n",
        "\n",
        "for i in range(len(arr)):\n",
        "  c = 0\n",
        "  for j in range(i+1, len(arr)):\n",
        "    if arr[i]>arr[j]:\n",
        "      c += 1\n",
        "  if c == (len(arr)-(i+1)):\n",
        "    l1.append(arr[i])\n",
        "\n",
        "if(len(l1)>=1):\n",
        "  print(sum(l1))\n",
        "else:\n",
        "  print(-1)"
      ],
      "metadata": {
        "colab": {
          "base_uri": "https://localhost:8080/"
        },
        "id": "fFMkYzs7esGY",
        "outputId": "cf998ce8-8374-49cd-a170-f016db3c5bb8"
      },
      "execution_count": null,
      "outputs": [
        {
          "output_type": "stream",
          "name": "stdout",
          "text": [
            "Size of array: 7\n",
            "52 66 64 36 45 24 32\n",
            "207\n"
          ]
        }
      ]
    }
  ]
}