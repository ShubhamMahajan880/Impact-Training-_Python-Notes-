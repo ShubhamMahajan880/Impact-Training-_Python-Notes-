{
  "nbformat": 4,
  "nbformat_minor": 0,
  "metadata": {
    "colab": {
      "provenance": [],
      "authorship_tag": "ABX9TyMEGLqI9O6co9FZ8m/qQzx1",
      "include_colab_link": true
    },
    "kernelspec": {
      "name": "python3",
      "display_name": "Python 3"
    },
    "language_info": {
      "name": "python"
    }
  },
  "cells": [
    {
      "cell_type": "markdown",
      "metadata": {
        "id": "view-in-github",
        "colab_type": "text"
      },
      "source": [
        "<a href=\"https://colab.research.google.com/github/ShubhamMahajan880/Impact-Training-_Python-Notes-/blob/main/2_Conditional_Statement_%26_Operators.ipynb\" target=\"_parent\"><img src=\"https://colab.research.google.com/assets/colab-badge.svg\" alt=\"Open In Colab\"/></a>"
      ]
    },
    {
      "cell_type": "markdown",
      "source": [
        "Qun :- Detect a number is odd or even without using conditional statements or any comaparision operators"
      ],
      "metadata": {
        "id": "T7tP2F-P-Ome"
      }
    },
    {
      "cell_type": "code",
      "execution_count": 2,
      "metadata": {
        "colab": {
          "base_uri": "https://localhost:8080/"
        },
        "id": "gijYVrY0wO7v",
        "outputId": "0cfd0f5a-2e5f-4cfc-9a7a-35bec9cfbf80"
      },
      "outputs": [
        {
          "output_type": "stream",
          "name": "stdout",
          "text": [
            "ENter a number: 5\n",
            "Odd\n"
          ]
        }
      ],
      "source": [
        "a = int(input(\"ENter a number: \"))\n",
        "n = ['Even', 'Odd']\n",
        "print(n[a%2])"
      ]
    },
    {
      "cell_type": "code",
      "source": [
        "a = int(input(\"ENter a number: \"))\n",
        "n = ['Even', 'Odd']\n",
        "print(n[a%2])"
      ],
      "metadata": {
        "colab": {
          "base_uri": "https://localhost:8080/"
        },
        "id": "MyksVFu_wl19",
        "outputId": "11bcfc66-8e3e-4f06-e12c-b819bf82bca2"
      },
      "execution_count": 3,
      "outputs": [
        {
          "output_type": "stream",
          "name": "stdout",
          "text": [
            "ENter a number: 4\n",
            "Even\n"
          ]
        }
      ]
    },
    {
      "cell_type": "markdown",
      "source": [
        "**Qun :- Print the sum of didgits of a given number untill a single number is left without using any loops**"
      ],
      "metadata": {
        "id": "tw8yriIcwvB-"
      }
    },
    {
      "cell_type": "code",
      "source": [
        "a = int(input(\"ENter a number: \"))\n",
        "if(a%9 != 0):\n",
        "  print(a%9)\n",
        "else:\n",
        "  print(9)"
      ],
      "metadata": {
        "colab": {
          "base_uri": "https://localhost:8080/"
        },
        "id": "S0LuCCKRwxny",
        "outputId": "b0f3fb3c-4721-4e5d-b4e4-3b7e9b112520"
      },
      "execution_count": 4,
      "outputs": [
        {
          "output_type": "stream",
          "name": "stdout",
          "text": [
            "ENter a number: 45966\n",
            "3\n"
          ]
        }
      ]
    },
    {
      "cell_type": "markdown",
      "source": [
        "**Qun :- Out of two values find out max and min without using comparision operators and conditional statements**"
      ],
      "metadata": {
        "id": "REtJPGE2xCjH"
      }
    },
    {
      "cell_type": "code",
      "source": [
        "x = 10\n",
        "y = 20\n",
        "\n",
        "max = ((x+y)+abs(x-y))/2\n",
        "min = ((x+y)-abs(x-y))/2\n",
        "\n",
        "print(\"max =\",max , \"min=\", min )\n",
        "\n",
        "for i in range(0, abs(x-y)):\n",
        "  print(\"not equal\")\n",
        "  break;"
      ],
      "metadata": {
        "colab": {
          "base_uri": "https://localhost:8080/"
        },
        "id": "qXWpTFOtxJFq",
        "outputId": "604601bd-59d4-4fdd-da12-b0035b2df35d"
      },
      "execution_count": 5,
      "outputs": [
        {
          "output_type": "stream",
          "name": "stdout",
          "text": [
            "max = 20.0 min= 10.0\n",
            "not equal\n"
          ]
        }
      ]
    },
    {
      "cell_type": "markdown",
      "source": [
        "**Qun :- Print all the prime numbers between a given range in the best way optimaizeda**"
      ],
      "metadata": {
        "id": "oJBZn6_2ysdT"
      }
    },
    {
      "cell_type": "code",
      "source": [
        "import math\n",
        "\n",
        "n = int(input(\"Enter the number \"))\n",
        "List = []\n",
        "for i in range(1, n+1):\n",
        "  List.append(i)\n",
        "all(List)\n",
        "\n",
        "for i in range(2, round(math.sqrt(n))):\n",
        "  List[i] = True\n",
        "  for l in range(i**2, n):\n",
        "    List[l] = False\n",
        "    l = l+i\n",
        "for  k in range(1, n+1):\n",
        "  if k==True:\n",
        "    print(k)"
      ],
      "metadata": {
        "colab": {
          "base_uri": "https://localhost:8080/"
        },
        "id": "F7XcF8soxS2K",
        "outputId": "1747a590-37bd-4aa6-8dd0-199730a60c14"
      },
      "execution_count": 6,
      "outputs": [
        {
          "output_type": "stream",
          "name": "stdout",
          "text": [
            "Enter the number 10\n",
            "1\n"
          ]
        }
      ]
    },
    {
      "cell_type": "markdown",
      "source": [
        "# **Some Basic and Useful Concepts**"
      ],
      "metadata": {
        "id": "wyoU7NDmy5I2"
      }
    },
    {
      "cell_type": "code",
      "source": [
        "#int\n",
        "a = 10\n",
        "print(a)\n",
        "print(type(a))\n",
        "id(a)"
      ],
      "metadata": {
        "colab": {
          "base_uri": "https://localhost:8080/"
        },
        "id": "HIXCj8A-zIu1",
        "outputId": "e55fe3dd-a5c7-4a9c-cf4c-c2b02e0b413c"
      },
      "execution_count": 8,
      "outputs": [
        {
          "output_type": "stream",
          "name": "stdout",
          "text": [
            "10\n",
            "<class 'int'>\n"
          ]
        },
        {
          "output_type": "execute_result",
          "data": {
            "text/plain": [
              "140379165671952"
            ]
          },
          "metadata": {},
          "execution_count": 8
        }
      ]
    },
    {
      "cell_type": "code",
      "source": [
        "#float\n",
        "\n",
        "a = 12.5\n",
        "print(a)\n",
        "print(type(a))"
      ],
      "metadata": {
        "colab": {
          "base_uri": "https://localhost:8080/"
        },
        "id": "BWDXZucYzPUg",
        "outputId": "8c2cd916-f93f-4a0d-eba0-34219b4946d4"
      },
      "execution_count": 9,
      "outputs": [
        {
          "output_type": "stream",
          "name": "stdout",
          "text": [
            "12.5\n",
            "<class 'float'>\n"
          ]
        }
      ]
    },
    {
      "cell_type": "code",
      "source": [
        "#str\n",
        "s = \"kira\"\n",
        "print(s)\n",
        "print(type(s))"
      ],
      "metadata": {
        "colab": {
          "base_uri": "https://localhost:8080/"
        },
        "id": "xyYz2FXEzRmM",
        "outputId": "768acb4a-d534-4f85-cbf5-6246ca0f7fb9"
      },
      "execution_count": 10,
      "outputs": [
        {
          "output_type": "stream",
          "name": "stdout",
          "text": [
            "kira\n",
            "<class 'str'>\n"
          ]
        }
      ]
    },
    {
      "cell_type": "code",
      "source": [
        "#bool\n",
        "s = \"Rohit\"\n",
        "print(s)\n",
        "b = bool(s)\n",
        "print(b)"
      ],
      "metadata": {
        "colab": {
          "base_uri": "https://localhost:8080/"
        },
        "id": "OEPg_uUhzThN",
        "outputId": "12572405-2056-4a6e-fb53-0557923eb9c1"
      },
      "execution_count": 11,
      "outputs": [
        {
          "output_type": "stream",
          "name": "stdout",
          "text": [
            "Rohit\n",
            "True\n"
          ]
        }
      ]
    },
    {
      "cell_type": "code",
      "source": [
        "d = 4>1\n",
        "e = 5<2\n",
        "\n",
        "print(d, e)\n",
        "print(type(d))\n"
      ],
      "metadata": {
        "colab": {
          "base_uri": "https://localhost:8080/"
        },
        "id": "aJxKTennzVhj",
        "outputId": "df069c95-d578-41b4-f904-5deb1888b1a6"
      },
      "execution_count": 12,
      "outputs": [
        {
          "output_type": "stream",
          "name": "stdout",
          "text": [
            "True False\n",
            "<class 'bool'>\n"
          ]
        }
      ]
    },
    {
      "cell_type": "markdown",
      "source": [
        "**We cannot update real or imaginary part in a complex no.**\n"
      ],
      "metadata": {
        "id": "vp-I9iATzYEH"
      }
    },
    {
      "cell_type": "code",
      "source": [
        "#complex\n",
        "s = 3+4j\n",
        "\n",
        "print(s.real)\n",
        "print(s.imag)\n",
        "print(type(s))\n"
      ],
      "metadata": {
        "colab": {
          "base_uri": "https://localhost:8080/"
        },
        "id": "IxYOLsfYzZvJ",
        "outputId": "5e960f5f-ae41-42e5-8dd0-0a945a24ed5b"
      },
      "execution_count": 13,
      "outputs": [
        {
          "output_type": "stream",
          "name": "stdout",
          "text": [
            "3.0\n",
            "4.0\n",
            "<class 'complex'>\n"
          ]
        }
      ]
    },
    {
      "cell_type": "code",
      "source": [
        "a, b = map(int, input().split())\n",
        "print(a+b)"
      ],
      "metadata": {
        "colab": {
          "base_uri": "https://localhost:8080/"
        },
        "id": "vuXUWFLTzdDm",
        "outputId": "ccd15f9b-4ba0-4ac2-c47a-d4493ff3c635"
      },
      "execution_count": 14,
      "outputs": [
        {
          "output_type": "stream",
          "name": "stdout",
          "text": [
            "12 5\n",
            "17\n"
          ]
        }
      ]
    },
    {
      "cell_type": "code",
      "source": [
        "a = float(input(\"Enter a: \"))\n",
        "print(a)\n",
        "print(type(a))"
      ],
      "metadata": {
        "colab": {
          "base_uri": "https://localhost:8080/"
        },
        "id": "c_mcbcNnzf6U",
        "outputId": "d50d1f74-5230-4968-f5cf-879157336a5f"
      },
      "execution_count": 15,
      "outputs": [
        {
          "output_type": "stream",
          "name": "stdout",
          "text": [
            "Enter a: 10\n",
            "10.0\n",
            "<class 'float'>\n"
          ]
        }
      ]
    },
    {
      "cell_type": "code",
      "source": [
        "s = \"Krishna\"\n",
        "'r' in s"
      ],
      "metadata": {
        "colab": {
          "base_uri": "https://localhost:8080/"
        },
        "id": "wVAdsuyxzkOy",
        "outputId": "ce635a35-bead-421e-95a5-bd085969b769"
      },
      "execution_count": 16,
      "outputs": [
        {
          "output_type": "execute_result",
          "data": {
            "text/plain": [
              "True"
            ]
          },
          "metadata": {},
          "execution_count": 16
        }
      ]
    },
    {
      "cell_type": "code",
      "source": [
        "'f' in s"
      ],
      "metadata": {
        "colab": {
          "base_uri": "https://localhost:8080/"
        },
        "id": "_DQFJ9GPzl8z",
        "outputId": "d9a93e1d-188e-49b3-b755-8a697b93fc13"
      },
      "execution_count": 17,
      "outputs": [
        {
          "output_type": "execute_result",
          "data": {
            "text/plain": [
              "False"
            ]
          },
          "metadata": {},
          "execution_count": 17
        }
      ]
    },
    {
      "cell_type": "code",
      "source": [
        "p = [1,2,3,4,5]\n",
        "4 in p"
      ],
      "metadata": {
        "colab": {
          "base_uri": "https://localhost:8080/"
        },
        "id": "r6W70R9Wznnn",
        "outputId": "0e5d3dc9-c2f9-4f26-b66b-003e98aa7336"
      },
      "execution_count": 18,
      "outputs": [
        {
          "output_type": "execute_result",
          "data": {
            "text/plain": [
              "True"
            ]
          },
          "metadata": {},
          "execution_count": 18
        }
      ]
    },
    {
      "cell_type": "code",
      "source": [
        "6 not in p"
      ],
      "metadata": {
        "colab": {
          "base_uri": "https://localhost:8080/"
        },
        "id": "aTsEvsPMzpNn",
        "outputId": "18d9536c-f4a0-44a1-ef5a-3a754659cf27"
      },
      "execution_count": 19,
      "outputs": [
        {
          "output_type": "execute_result",
          "data": {
            "text/plain": [
              "True"
            ]
          },
          "metadata": {},
          "execution_count": 19
        }
      ]
    },
    {
      "cell_type": "code",
      "source": [
        "7 in p"
      ],
      "metadata": {
        "colab": {
          "base_uri": "https://localhost:8080/"
        },
        "id": "iRSrf-NyzrQ6",
        "outputId": "6b4cbfe1-8fb9-4203-c4e3-fe32d821148d"
      },
      "execution_count": 20,
      "outputs": [
        {
          "output_type": "execute_result",
          "data": {
            "text/plain": [
              "False"
            ]
          },
          "metadata": {},
          "execution_count": 20
        }
      ]
    },
    {
      "cell_type": "markdown",
      "source": [
        "**Qun :- Read two number and find the maximum**"
      ],
      "metadata": {
        "id": "4aGoMuZe3j7z"
      }
    },
    {
      "cell_type": "code",
      "source": [
        "a,b = map(int, input(\"Enter a,b: \").split())\n",
        "\n",
        "if(a>b):\n",
        "  print(\"a is max\")\n",
        "else:\n",
        "  print(\"b is max\")"
      ],
      "metadata": {
        "colab": {
          "base_uri": "https://localhost:8080/"
        },
        "id": "OVIpGtxJ3mRJ",
        "outputId": "cf2c7c2f-2149-45a0-a608-a46e8a3bde9f"
      },
      "execution_count": 21,
      "outputs": [
        {
          "output_type": "stream",
          "name": "stdout",
          "text": [
            "Enter a,b: 10 69\n",
            "b is max\n"
          ]
        }
      ]
    },
    {
      "cell_type": "markdown",
      "source": [
        "**Qun :- Write a program to read a character from the user and check whwthjer it is vowel or consonant**"
      ],
      "metadata": {
        "id": "VDknh8bT3q66"
      }
    },
    {
      "cell_type": "code",
      "source": [
        "char = input(\"Enter the character: \")\n",
        "\n",
        "s = 'aeiouAEIOU'\n",
        "if char in s:\n",
        "  print(\"Enter char is a vowel\")\n",
        "else:\n",
        "  print(\"Enterd char\",char, \"is a Consonent\")\n"
      ],
      "metadata": {
        "colab": {
          "base_uri": "https://localhost:8080/"
        },
        "id": "iCbbicpf3s0K",
        "outputId": "32d04595-f13a-4f90-c7fb-0973971f0569"
      },
      "execution_count": 22,
      "outputs": [
        {
          "output_type": "stream",
          "name": "stdout",
          "text": [
            "Enter the character: b\n",
            "Enterd char b is a Consonent\n"
          ]
        }
      ]
    },
    {
      "cell_type": "code",
      "source": [
        "a = 10\n",
        "b = 10\n",
        "a == b"
      ],
      "metadata": {
        "colab": {
          "base_uri": "https://localhost:8080/"
        },
        "id": "zeisN3G3307d",
        "outputId": "e3c00341-aa34-44e4-8323-caa504607dc7"
      },
      "execution_count": 23,
      "outputs": [
        {
          "output_type": "execute_result",
          "data": {
            "text/plain": [
              "True"
            ]
          },
          "metadata": {},
          "execution_count": 23
        }
      ]
    },
    {
      "cell_type": "code",
      "source": [
        "a != b"
      ],
      "metadata": {
        "colab": {
          "base_uri": "https://localhost:8080/"
        },
        "id": "vxbcgL3v3035",
        "outputId": "3179ab26-d9dc-47ad-f317-f80067a398ca"
      },
      "execution_count": 24,
      "outputs": [
        {
          "output_type": "execute_result",
          "data": {
            "text/plain": [
              "False"
            ]
          },
          "metadata": {},
          "execution_count": 24
        }
      ]
    },
    {
      "cell_type": "code",
      "source": [
        "id(a)"
      ],
      "metadata": {
        "colab": {
          "base_uri": "https://localhost:8080/"
        },
        "id": "ID2eq10L35Vm",
        "outputId": "96b67f6f-663c-4b67-9891-febabcc7f3ee"
      },
      "execution_count": 25,
      "outputs": [
        {
          "output_type": "execute_result",
          "data": {
            "text/plain": [
              "140379165671952"
            ]
          },
          "metadata": {},
          "execution_count": 25
        }
      ]
    },
    {
      "cell_type": "code",
      "source": [
        "id(b)"
      ],
      "metadata": {
        "colab": {
          "base_uri": "https://localhost:8080/"
        },
        "id": "1ZxmLScq37Cp",
        "outputId": "1a73501b-7b54-4a4c-df8c-8d9329d59e48"
      },
      "execution_count": 26,
      "outputs": [
        {
          "output_type": "execute_result",
          "data": {
            "text/plain": [
              "140379165671952"
            ]
          },
          "metadata": {},
          "execution_count": 26
        }
      ]
    },
    {
      "cell_type": "code",
      "source": [
        "a is b"
      ],
      "metadata": {
        "colab": {
          "base_uri": "https://localhost:8080/"
        },
        "id": "7vMj7mvo38hr",
        "outputId": "3737e833-69e6-40b3-8568-bfe595efb20e"
      },
      "execution_count": 27,
      "outputs": [
        {
          "output_type": "execute_result",
          "data": {
            "text/plain": [
              "True"
            ]
          },
          "metadata": {},
          "execution_count": 27
        }
      ]
    },
    {
      "cell_type": "code",
      "source": [
        "a is not b"
      ],
      "metadata": {
        "colab": {
          "base_uri": "https://localhost:8080/"
        },
        "id": "Cqp6TQkU3_nq",
        "outputId": "37946f03-cb19-4db1-85ca-ee3a6f019923"
      },
      "execution_count": 28,
      "outputs": [
        {
          "output_type": "execute_result",
          "data": {
            "text/plain": [
              "False"
            ]
          },
          "metadata": {},
          "execution_count": 28
        }
      ]
    },
    {
      "cell_type": "code",
      "source": [
        "c = 10\n",
        "d = 20\n",
        "\n",
        "c is d"
      ],
      "metadata": {
        "colab": {
          "base_uri": "https://localhost:8080/"
        },
        "id": "n6T_cfgr4BF4",
        "outputId": "00431560-8fda-43c0-ebf6-ba80e5318073"
      },
      "execution_count": 29,
      "outputs": [
        {
          "output_type": "execute_result",
          "data": {
            "text/plain": [
              "False"
            ]
          },
          "metadata": {},
          "execution_count": 29
        }
      ]
    },
    {
      "cell_type": "code",
      "source": [
        "c is not d"
      ],
      "metadata": {
        "colab": {
          "base_uri": "https://localhost:8080/"
        },
        "id": "s1_iPPpN4Co0",
        "outputId": "6eca2818-2b41-459b-b34c-d0967732e116"
      },
      "execution_count": 30,
      "outputs": [
        {
          "output_type": "execute_result",
          "data": {
            "text/plain": [
              "True"
            ]
          },
          "metadata": {},
          "execution_count": 30
        }
      ]
    },
    {
      "cell_type": "markdown",
      "source": [
        "# **Walrus Operator :=**"
      ],
      "metadata": {
        "id": "qkulVBim4NqQ"
      }
    },
    {
      "cell_type": "code",
      "source": [
        "a,b = 3,2\n",
        "c = ((a1 := a**2)+(b1:=b**2)+(c1:=2*a*b))\n",
        "print(a1, b1, c1,c)"
      ],
      "metadata": {
        "colab": {
          "base_uri": "https://localhost:8080/"
        },
        "id": "ndvbQC8M4Mg8",
        "outputId": "9fcc4150-e5d7-490a-8942-818cb8a69949"
      },
      "execution_count": 31,
      "outputs": [
        {
          "output_type": "stream",
          "name": "stdout",
          "text": [
            "9 4 12 25\n"
          ]
        }
      ]
    },
    {
      "cell_type": "markdown",
      "source": [
        "**Qun :- Write a program to read two numbers from user and perform addition operation in a single line using walrus but without using split and map**"
      ],
      "metadata": {
        "id": "OrppSi6z4Vrt"
      }
    },
    {
      "cell_type": "code",
      "source": [
        "print((a := int(input(\"Enter a: \"))) + (b := int(input(\"Enter b: \"))))"
      ],
      "metadata": {
        "colab": {
          "base_uri": "https://localhost:8080/"
        },
        "id": "Y3KW-79J4Uoo",
        "outputId": "347b7284-c450-477a-e1ef-a38454c366c4"
      },
      "execution_count": 32,
      "outputs": [
        {
          "output_type": "stream",
          "name": "stdout",
          "text": [
            "Enter a: 5\n",
            "Enter b: 6\n",
            "11\n"
          ]
        }
      ]
    },
    {
      "cell_type": "code",
      "source": [
        "a,b = map(int, input().split())\n",
        "\n",
        "print(\"a is max\") if (a>b) else print(\"b is max\")"
      ],
      "metadata": {
        "colab": {
          "base_uri": "https://localhost:8080/"
        },
        "id": "mmpW5Xpy4iXd",
        "outputId": "9bba5013-1b70-4799-8206-fc078a03179a"
      },
      "execution_count": 34,
      "outputs": [
        {
          "output_type": "stream",
          "name": "stdout",
          "text": [
            "12 56\n",
            "b is max\n"
          ]
        }
      ]
    },
    {
      "cell_type": "markdown",
      "source": [
        "**Qun :- Read 3 numbers and find max**"
      ],
      "metadata": {
        "id": "LkjwV7qg4ncB"
      }
    },
    {
      "cell_type": "code",
      "source": [
        "a,b,c = map(int, input().split())\n",
        "\n",
        "print(\"a is max\") if (a>b) and (a>c) else print(\"b is max\") if(b>c) else print(\"c is max\") if(c>b) else print(\"a,b,c are equal\")"
      ],
      "metadata": {
        "colab": {
          "base_uri": "https://localhost:8080/"
        },
        "id": "ZaKa24XM4r-b",
        "outputId": "f34d5a63-521b-49a2-9417-3b3716dd7923"
      },
      "execution_count": 35,
      "outputs": [
        {
          "output_type": "stream",
          "name": "stdout",
          "text": [
            "9 8 4\n",
            "a is max\n"
          ]
        }
      ]
    },
    {
      "cell_type": "markdown",
      "source": [
        "Qun :- Replace the frequent character\n",
        "def frequent_character_replacing(string, x):\n",
        "The function accepts a string 'str' and a character 'x' as its arguments. You are required to find the most frequent character in string 'str' and replace it with character 'x' across the string, and return the same.\n",
        "\n",
        "Note:  If the frequency of two characters are the same , we have to consider the character the character with lower ascii value.\n",
        "```\n",
        "\n"
      ],
      "metadata": {
        "id": "pntdN5lX9T6y"
      }
    },
    {
      "cell_type": "code",
      "source": [
        "def frequent_char_replaced(string, X):\n",
        "\n",
        "    most_frequent_char = ''\n",
        "    c = 0\n",
        "    for i in string:\n",
        "        i_count = string.count(i)\n",
        "        if i_count > c:\n",
        "            most_frequent_char = i\n",
        "            c = i_count\n",
        "    new = string.replace(most_frequent_char, X)\n",
        "    return new\n",
        "\n",
        "string = input()\n",
        "rep_char = input()[:1]\n",
        "res = frequent_char_replaced(string, rep_char)\n",
        "print(res)"
      ],
      "metadata": {
        "id": "fKQYRtH19upJ"
      },
      "execution_count": null,
      "outputs": []
    },
    {
      "cell_type": "markdown",
      "source": [
        "**Qun :- Read a character from the user and check whether it is uppercase character or lowercase character or digit or special characters.**"
      ],
      "metadata": {
        "id": "2eJHpx59Czv8"
      }
    },
    {
      "cell_type": "code",
      "source": [
        "ch = input(\"Enter a character: \")\n",
        "if((ch>='A')and(ch<='Z')):\n",
        "  print(\"Uppercase char\")\n",
        "elif((ch>='a')and(ch<='z')):\n",
        "  print(\"Lowercase char\")\n",
        "elif((ch>='0')and(ch<='9')):\n",
        "  print(\"Digit\")\n",
        "else:\n",
        "  print(\"Special Char\")"
      ],
      "metadata": {
        "colab": {
          "base_uri": "https://localhost:8080/"
        },
        "id": "GPJ-xOmtC11S",
        "outputId": "215e30b7-7d3e-4fe0-af97-beb720ae21a6"
      },
      "execution_count": 39,
      "outputs": [
        {
          "output_type": "stream",
          "name": "stdout",
          "text": [
            "Enter a character: $\n",
            "Special Char\n"
          ]
        }
      ]
    },
    {
      "cell_type": "markdown",
      "source": [
        "Qun :- Take name and shopping amount from a customer and the calculate the final bill after the discount. Discount categories are as follows:-\n",
        "\n",
        "\n",
        "*   amt>=4000: 4% discount\n",
        "*   amt>=3000: 3% discount\n",
        "*   amt>=2000: 2% discount\n",
        "*   amt>=1000: 1% discount\n",
        "*   amt<1000: No Discount\n",
        "\n"
      ],
      "metadata": {
        "id": "KG--J4R9C8W2"
      }
    },
    {
      "cell_type": "code",
      "source": [
        "name = input(\"Enter the name: \")\n",
        "amt = int(input(\"Enter the amount: \"))\n",
        "\n",
        "if(amt>=4000):\n",
        "  print(\"You got a 4% discount!\")\n",
        "  amt = amt-(0.04*amt)\n",
        "  print(name, \", your amount after dicount is: \", amt)\n",
        "elif((amt>=3000)and(amt<4000)):\n",
        "  print(\"You got a 3% discount!\")\n",
        "  amt = amt-(0.03*amt)\n",
        "  print(name, \", your amount after dicount is: \", amt)\n",
        "elif((amt>=2000) and (amt<3000)):\n",
        "  print(\"You got a 2% discount!\")\n",
        "  amt = amt-(0.02*amt)\n",
        "  print(name, \", your amount after dicount is: \", amt)\n",
        "elif((amt>=1000)and(amt<2000)):\n",
        "  print(\"You got a 1% discount!\")\n",
        "  amt = amt-(0.01*amt)\n",
        "  print(name, \", your amount after dicount is: \", amt)\n",
        "else:\n",
        "  print(name, \", your amount after dicount is: \", amt)"
      ],
      "metadata": {
        "colab": {
          "base_uri": "https://localhost:8080/"
        },
        "id": "JBSLcdjVDBVp",
        "outputId": "081d69d7-f3c2-4896-bc4b-4ca3aef96be1"
      },
      "execution_count": 40,
      "outputs": [
        {
          "output_type": "stream",
          "name": "stdout",
          "text": [
            "Enter the name: Shubham\n",
            "Enter the amount: 4589\n",
            "You got a 4% discount!\n",
            "Shubham , your amount after dicount is:  4405.44\n"
          ]
        }
      ]
    },
    {
      "cell_type": "markdown",
      "source": [
        "**Qun :- Write a program to read name of the student, roll no. and three subject marks if student is pass calculate the grade of the student.**"
      ],
      "metadata": {
        "id": "5QMb3s18DH-K"
      }
    },
    {
      "cell_type": "code",
      "source": [
        "name = input(\"Enter the name: \")\n",
        "roll = int(input(\"Enter the roll no.: \"))\n",
        "s1,s2,s3 = map(int, input(\"Enter the marks of 3 subjects: \").split(','))\n",
        "print(\"Name: \",name)\n",
        "print(\"Roll number: \", roll)\n",
        "print(\"Maths: \",s1,\"Physics: \",s2,\"Chemistry: \",s3)\n",
        "if((s1>=35)and(s2>=35)and(s3>=35)):\n",
        "  total = s1+s2+s3\n",
        "  avg= total/3\n",
        "  if(avg>=60):\n",
        "    print(name, \"secured First grade.\")\n",
        "  elif(avg>=50):\n",
        "    print(name, \"secured Second grade.\")\n",
        "  elif(avg>=35):\n",
        "    print(name, \"secured Third grade.\")\n",
        "else:\n",
        "  print(name,\"is fail.\")"
      ],
      "metadata": {
        "colab": {
          "base_uri": "https://localhost:8080/"
        },
        "id": "x-IVGCyPDJ_k",
        "outputId": "1e41fa5c-1e3f-47d3-bbb4-da75175d965c"
      },
      "execution_count": 43,
      "outputs": [
        {
          "output_type": "stream",
          "name": "stdout",
          "text": [
            "Enter the name: Shubh\n",
            "Enter the roll no.: 897\n",
            "Enter the marks of 3 subjects: 96,99,98\n",
            "Name:  Shubh\n",
            "Roll number:  897\n",
            "Maths:  96 Physics:  99 Chemistry:  98\n",
            "Shubh secured First grade.\n"
          ]
        }
      ]
    },
    {
      "cell_type": "markdown",
      "source": [
        "**Qun :- Write a program to read a number from the user and check whether it is divisable by 3 and 5 or not.**"
      ],
      "metadata": {
        "id": "yzsyzi8hDac3"
      }
    },
    {
      "cell_type": "code",
      "source": [
        "num = int(input(\"Enter the number: \"))\n",
        "if(num%3==0):\n",
        "  if(num%5==0):\n",
        "    print(\"Enterd number\",num, \"is divisable by both 3 and 5.\")\n",
        "  else:\n",
        "    print(\"Enterd number\",num, \"is only divisable by 3.\")\n",
        "else:\n",
        "  if(num%5==0):\n",
        "    print(\"Enterd number\",num, \"is divisable by 5.\")\n",
        "  else:\n",
        "    print(\"Enterd number\",num, \"is not divisable by both 3 and 5\")\n",
        "\n",
        "\n"
      ],
      "metadata": {
        "colab": {
          "base_uri": "https://localhost:8080/"
        },
        "id": "84pbvihuDcXi",
        "outputId": "e05864c2-388b-4190-a089-86812adbae6d"
      },
      "execution_count": 44,
      "outputs": [
        {
          "output_type": "stream",
          "name": "stdout",
          "text": [
            "Enter the number: 96\n",
            "Enterd number 96 is only divisable by 3.\n"
          ]
        }
      ]
    }
  ]
}