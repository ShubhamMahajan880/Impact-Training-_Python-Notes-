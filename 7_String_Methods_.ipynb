{
  "nbformat": 4,
  "nbformat_minor": 0,
  "metadata": {
    "colab": {
      "provenance": [],
      "authorship_tag": "ABX9TyNnl5foEX8UxeBaMEoAOvkj",
      "include_colab_link": true
    },
    "kernelspec": {
      "name": "python3",
      "display_name": "Python 3"
    },
    "language_info": {
      "name": "python"
    }
  },
  "cells": [
    {
      "cell_type": "markdown",
      "metadata": {
        "id": "view-in-github",
        "colab_type": "text"
      },
      "source": [
        "<a href=\"https://colab.research.google.com/github/ShubhamMahajan880/Impact-Training-_Python-Notes-/blob/main/7_String_Methods_.ipynb\" target=\"_parent\"><img src=\"https://colab.research.google.com/assets/colab-badge.svg\" alt=\"Open In Colab\"/></a>"
      ]
    },
    {
      "cell_type": "code",
      "execution_count": null,
      "metadata": {
        "colab": {
          "base_uri": "https://localhost:8080/"
        },
        "id": "WeEiCv6ZiSFZ",
        "outputId": "415bf6c1-14a1-4085-d319-427eff06cb70"
      },
      "outputs": [
        {
          "output_type": "stream",
          "name": "stdout",
          "text": [
            "['Guten', 'tag', 'all']\n",
            "Guten\n",
            "tag\n",
            "all\n"
          ]
        }
      ],
      "source": [
        "s = \"Guten tag all\"\n",
        "r = s.split()\n",
        "print(r)\n",
        "\n",
        "for i in r:\n",
        "  print(i)\n"
      ]
    },
    {
      "cell_type": "code",
      "source": [
        "s = [\"Good\",\"Morning\",\"DS\",\"AI\"]\n",
        "r = '-'.join(s)\n",
        "print(r)\n",
        "\n",
        "r = \" \".join(s)\n",
        "print(r)"
      ],
      "metadata": {
        "colab": {
          "base_uri": "https://localhost:8080/"
        },
        "id": "jYNOQUAHiaCL",
        "outputId": "1ccba51c-11f8-46c3-98fe-4ee21eca06cd"
      },
      "execution_count": null,
      "outputs": [
        {
          "output_type": "stream",
          "name": "stdout",
          "text": [
            "Good-Morning-DS-AI\n",
            "Good Morning DS AI\n"
          ]
        }
      ]
    },
    {
      "cell_type": "code",
      "source": [
        "s = \"guntur vijayavada\"\n",
        "s.index('a')"
      ],
      "metadata": {
        "colab": {
          "base_uri": "https://localhost:8080/"
        },
        "id": "27JT2dgNictb",
        "outputId": "b57050c1-98d1-46b6-fc89-ebf2322ef9ba"
      },
      "execution_count": null,
      "outputs": [
        {
          "output_type": "execute_result",
          "data": {
            "text/plain": [
              "10"
            ]
          },
          "metadata": {},
          "execution_count": 3
        }
      ]
    },
    {
      "cell_type": "code",
      "source": [
        "s.index('a',14)"
      ],
      "metadata": {
        "colab": {
          "base_uri": "https://localhost:8080/"
        },
        "id": "nsN28TqHievO",
        "outputId": "98ff3546-d48c-4ae5-fb46-319579961c3b"
      },
      "execution_count": null,
      "outputs": [
        {
          "output_type": "execute_result",
          "data": {
            "text/plain": [
              "14"
            ]
          },
          "metadata": {},
          "execution_count": 4
        }
      ]
    },
    {
      "cell_type": "code",
      "source": [
        "s.index('a',11, 14)"
      ],
      "metadata": {
        "colab": {
          "base_uri": "https://localhost:8080/"
        },
        "id": "AvDPGU1zigcE",
        "outputId": "6dd3f1d4-aa01-4f14-c9d8-d86c1cbed824"
      },
      "execution_count": null,
      "outputs": [
        {
          "output_type": "execute_result",
          "data": {
            "text/plain": [
              "12"
            ]
          },
          "metadata": {},
          "execution_count": 5
        }
      ]
    },
    {
      "cell_type": "code",
      "source": [
        "s.find('a')"
      ],
      "metadata": {
        "colab": {
          "base_uri": "https://localhost:8080/"
        },
        "id": "9rJDSRMqiiCt",
        "outputId": "94957b52-05d9-4fa0-b741-b7810bbcc637"
      },
      "execution_count": null,
      "outputs": [
        {
          "output_type": "execute_result",
          "data": {
            "text/plain": [
              "10"
            ]
          },
          "metadata": {},
          "execution_count": 6
        }
      ]
    },
    {
      "cell_type": "code",
      "source": [
        "s.rfind('a')"
      ],
      "metadata": {
        "colab": {
          "base_uri": "https://localhost:8080/"
        },
        "id": "WzRDMd33ijq8",
        "outputId": "188c3d7c-cc59-49fb-88c1-d02519756a49"
      },
      "execution_count": null,
      "outputs": [
        {
          "output_type": "execute_result",
          "data": {
            "text/plain": [
              "16"
            ]
          },
          "metadata": {},
          "execution_count": 7
        }
      ]
    },
    {
      "cell_type": "code",
      "source": [
        "s.rfind('a',12,15)"
      ],
      "metadata": {
        "colab": {
          "base_uri": "https://localhost:8080/"
        },
        "id": "ozJc2RyZiloC",
        "outputId": "77d634f5-77bb-405d-eecf-d8f89cacb85e"
      },
      "execution_count": null,
      "outputs": [
        {
          "output_type": "execute_result",
          "data": {
            "text/plain": [
              "14"
            ]
          },
          "metadata": {},
          "execution_count": 8
        }
      ]
    },
    {
      "cell_type": "code",
      "source": [
        "s.startswith('s')"
      ],
      "metadata": {
        "colab": {
          "base_uri": "https://localhost:8080/"
        },
        "id": "ZNPYvESzinAQ",
        "outputId": "b84a01b2-2dc6-418c-b160-704105f8465e"
      },
      "execution_count": null,
      "outputs": [
        {
          "output_type": "execute_result",
          "data": {
            "text/plain": [
              "False"
            ]
          },
          "metadata": {},
          "execution_count": 9
        }
      ]
    },
    {
      "cell_type": "code",
      "source": [
        "s.endswith('a')"
      ],
      "metadata": {
        "colab": {
          "base_uri": "https://localhost:8080/"
        },
        "id": "RVFGmPOzioc7",
        "outputId": "d337ad01-3666-4ca6-9501-94c684f7f257"
      },
      "execution_count": null,
      "outputs": [
        {
          "output_type": "execute_result",
          "data": {
            "text/plain": [
              "True"
            ]
          },
          "metadata": {},
          "execution_count": 10
        }
      ]
    },
    {
      "cell_type": "code",
      "source": [
        "s.replace('a','v')"
      ],
      "metadata": {
        "colab": {
          "base_uri": "https://localhost:8080/",
          "height": 36
        },
        "id": "93koPLt6iqZY",
        "outputId": "ecdb5b7f-6269-47d8-c920-8bbd2c745181"
      },
      "execution_count": null,
      "outputs": [
        {
          "output_type": "execute_result",
          "data": {
            "text/plain": [
              "'guntur vijvyvvvdv'"
            ],
            "application/vnd.google.colaboratory.intrinsic+json": {
              "type": "string"
            }
          },
          "metadata": {},
          "execution_count": 11
        }
      ]
    },
    {
      "cell_type": "code",
      "source": [
        "s = \"You are the boss.\"\n",
        "s.replace(\"You are\", \"I am\")"
      ],
      "metadata": {
        "colab": {
          "base_uri": "https://localhost:8080/",
          "height": 36
        },
        "id": "GbzgMvSyir8o",
        "outputId": "3f1dd406-4013-4626-813e-38c7c7e4034a"
      },
      "execution_count": null,
      "outputs": [
        {
          "output_type": "execute_result",
          "data": {
            "text/plain": [
              "'I am the boss.'"
            ],
            "application/vnd.google.colaboratory.intrinsic+json": {
              "type": "string"
            }
          },
          "metadata": {},
          "execution_count": 12
        }
      ]
    },
    {
      "cell_type": "code",
      "source": [
        "s = ' gujrat vadodara  '\n",
        "s.strip()"
      ],
      "metadata": {
        "colab": {
          "base_uri": "https://localhost:8080/",
          "height": 36
        },
        "id": "KSiiPtkTitRn",
        "outputId": "11a773da-947a-48fd-89c8-ea830d3e0e9b"
      },
      "execution_count": null,
      "outputs": [
        {
          "output_type": "execute_result",
          "data": {
            "text/plain": [
              "'gujrat vadodara'"
            ],
            "application/vnd.google.colaboratory.intrinsic+json": {
              "type": "string"
            }
          },
          "metadata": {},
          "execution_count": 13
        }
      ]
    },
    {
      "cell_type": "code",
      "source": [
        "s = 'krishna'\n",
        "print(s.center(11,\"#\"))\n",
        "print(s.center(12,\"@\"))"
      ],
      "metadata": {
        "colab": {
          "base_uri": "https://localhost:8080/"
        },
        "id": "D-Olq1T4ium-",
        "outputId": "7ca79d1f-5bbf-479b-9f57-1b966690d218"
      },
      "execution_count": null,
      "outputs": [
        {
          "output_type": "stream",
          "name": "stdout",
          "text": [
            "##krishna##\n",
            "@@krishna@@@\n"
          ]
        }
      ]
    },
    {
      "cell_type": "code",
      "source": [
        "s = 'krishNA'\n",
        "s.swapcase()"
      ],
      "metadata": {
        "colab": {
          "base_uri": "https://localhost:8080/",
          "height": 36
        },
        "id": "XXPaHiwHiv_g",
        "outputId": "b4190ff0-7a64-43e6-d120-7a44c6d84463"
      },
      "execution_count": null,
      "outputs": [
        {
          "output_type": "execute_result",
          "data": {
            "text/plain": [
              "'KRISHna'"
            ],
            "application/vnd.google.colaboratory.intrinsic+json": {
              "type": "string"
            }
          },
          "metadata": {},
          "execution_count": 15
        }
      ]
    },
    {
      "cell_type": "code",
      "source": [
        "print(s.isspace())\n",
        "h = ' '\n",
        "h.isspace()"
      ],
      "metadata": {
        "colab": {
          "base_uri": "https://localhost:8080/"
        },
        "id": "gFgIMtRIixPy",
        "outputId": "162f4203-e0e1-4c3d-9eb6-0578e98b2670"
      },
      "execution_count": null,
      "outputs": [
        {
          "output_type": "stream",
          "name": "stdout",
          "text": [
            "False\n"
          ]
        },
        {
          "output_type": "execute_result",
          "data": {
            "text/plain": [
              "True"
            ]
          },
          "metadata": {},
          "execution_count": 16
        }
      ]
    },
    {
      "cell_type": "markdown",
      "source": [
        "**Qun:- Write a program to read string from yhe user and find reverse of the string and check whether it palindrome or not.**"
      ],
      "metadata": {
        "id": "nZIdVYqgizIi"
      }
    },
    {
      "cell_type": "code",
      "source": [
        "s = input()\n",
        "r = ''\n",
        "for i in range(len(s)-1, -1, -1):\n",
        "  r = r+s[i]\n",
        "print(r)\n",
        "if(r == s):\n",
        "  print(\"Palindrome\")\n",
        "else:\n",
        "  print(\"Not a palindrome\")"
      ],
      "metadata": {
        "colab": {
          "base_uri": "https://localhost:8080/"
        },
        "id": "CrenQEA8i6U2",
        "outputId": "ab50a95f-33b9-4a6b-ecbb-45e6e7ffc7ef"
      },
      "execution_count": null,
      "outputs": [
        {
          "output_type": "stream",
          "name": "stdout",
          "text": [
            "abcde\n",
            "edcba\n",
            "Not a palindrome\n"
          ]
        }
      ]
    },
    {
      "cell_type": "code",
      "source": [
        "inp = input()\n",
        "inp = inp.lower()\n",
        "v = ['a','e','i','o','u']\n",
        "c = ['b','c','d','f','g','h','j','k','l','m','n','p','q','r','s','t','v','w','x','y','z']\n",
        "\n",
        "vc = 0\n",
        "cc = 0\n",
        "for i in inp:\n",
        "  if i in v:\n",
        "    vc = vc +1\n",
        "  elif i in c:\n",
        "    cc = cc + 1\n",
        "  else:\n",
        "    pass\n",
        "print(\"Vowels:\", vc)\n",
        "print(\"consonents:\",cc)"
      ],
      "metadata": {
        "colab": {
          "base_uri": "https://localhost:8080/"
        },
        "id": "kCkbeENAi_Iq",
        "outputId": "a872df50-fa90-4a3f-8162-777b630b91c1"
      },
      "execution_count": null,
      "outputs": [
        {
          "output_type": "stream",
          "name": "stdout",
          "text": [
            "lokesh it\n",
            "Vowels: 3\n",
            "consonents: 5\n"
          ]
        }
      ]
    },
    {
      "cell_type": "code",
      "source": [
        "line = input(\"Enter String: \")\n",
        "line = line.split(\" \")\n",
        "line = \"-\".join(line)\n",
        "print(line)"
      ],
      "metadata": {
        "colab": {
          "base_uri": "https://localhost:8080/"
        },
        "id": "apXWI3KPjFE0",
        "outputId": "8a34d154-073b-4cf3-9b5d-d2b454ad020a"
      },
      "execution_count": null,
      "outputs": [
        {
          "output_type": "stream",
          "name": "stdout",
          "text": [
            "Enter String: this is a string\n",
            "this-is-a-string\n"
          ]
        }
      ]
    },
    {
      "cell_type": "code",
      "source": [
        "s = {'a':10, 'b':20}"
      ],
      "metadata": {
        "id": "_oMgLjYojLDd"
      },
      "execution_count": null,
      "outputs": []
    }
  ]
}