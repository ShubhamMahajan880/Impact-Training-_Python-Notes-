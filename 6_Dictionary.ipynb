{
  "nbformat": 4,
  "nbformat_minor": 0,
  "metadata": {
    "colab": {
      "provenance": [],
      "authorship_tag": "ABX9TyNRijtB/veTZ/Vj60u8gQ3v",
      "include_colab_link": true
    },
    "kernelspec": {
      "name": "python3",
      "display_name": "Python 3"
    },
    "language_info": {
      "name": "python"
    }
  },
  "cells": [
    {
      "cell_type": "markdown",
      "metadata": {
        "id": "view-in-github",
        "colab_type": "text"
      },
      "source": [
        "<a href=\"https://colab.research.google.com/github/ShubhamMahajan880/Impact-Training-_Python-Notes-/blob/main/6_Dictionary.ipynb\" target=\"_parent\"><img src=\"https://colab.research.google.com/assets/colab-badge.svg\" alt=\"Open In Colab\"/></a>"
      ]
    },
    {
      "cell_type": "code",
      "execution_count": null,
      "metadata": {
        "id": "BPLPpZ4CfHXp",
        "colab": {
          "base_uri": "https://localhost:8080/"
        },
        "outputId": "d7f8a9db-2d44-4b4c-d5de-770047e6c10f"
      },
      "outputs": [
        {
          "output_type": "execute_result",
          "data": {
            "text/plain": [
              "dict"
            ]
          },
          "metadata": {},
          "execution_count": 2
        }
      ],
      "source": [
        "d = {}\n",
        "type(d)"
      ]
    },
    {
      "cell_type": "code",
      "source": [
        "d = dict()\n",
        "print(type(d))"
      ],
      "metadata": {
        "colab": {
          "base_uri": "https://localhost:8080/"
        },
        "id": "jOSAH-EodcaC",
        "outputId": "5b986336-a1e5-4b4f-d725-9ad7d40ef2b7"
      },
      "execution_count": null,
      "outputs": [
        {
          "output_type": "stream",
          "name": "stdout",
          "text": [
            "<class 'dict'>\n"
          ]
        }
      ]
    },
    {
      "cell_type": "code",
      "source": [
        "d = {'a':10, 'b':20, 'c': 40, 'e': 50}\n",
        "print(d)"
      ],
      "metadata": {
        "colab": {
          "base_uri": "https://localhost:8080/"
        },
        "id": "-uadIs32dfCY",
        "outputId": "fa762a20-3287-42cf-de60-d67c387eae57"
      },
      "execution_count": null,
      "outputs": [
        {
          "output_type": "stream",
          "name": "stdout",
          "text": [
            "{'a': 10, 'b': 20, 'c': 40, 'e': 50}\n"
          ]
        }
      ]
    },
    {
      "cell_type": "code",
      "source": [
        "d['a']=60\n",
        "d"
      ],
      "metadata": {
        "colab": {
          "base_uri": "https://localhost:8080/"
        },
        "id": "tVMo6i1LdgnF",
        "outputId": "3e5b00db-5106-4ff6-aabd-9f23ddb2ae71"
      },
      "execution_count": null,
      "outputs": [
        {
          "output_type": "execute_result",
          "data": {
            "text/plain": [
              "{'a': 60, 'b': 20, 'c': 40, 'e': 50}"
            ]
          },
          "metadata": {},
          "execution_count": 5
        }
      ]
    },
    {
      "cell_type": "code",
      "source": [
        "d['f']=20\n",
        "d"
      ],
      "metadata": {
        "colab": {
          "base_uri": "https://localhost:8080/"
        },
        "id": "i5v3sDgrd6tG",
        "outputId": "22da3550-9aed-4521-86b4-12cc1dda29a6"
      },
      "execution_count": null,
      "outputs": [
        {
          "output_type": "execute_result",
          "data": {
            "text/plain": [
              "{'a': 60, 'b': 20, 'c': 40, 'e': 50, 'f': 20}"
            ]
          },
          "metadata": {},
          "execution_count": 6
        }
      ]
    },
    {
      "cell_type": "code",
      "source": [
        "d = {'a':10, 'b':12.5, 'c':\"Krishna\"}\n",
        "print(d)\n",
        "len(d)"
      ],
      "metadata": {
        "colab": {
          "base_uri": "https://localhost:8080/"
        },
        "id": "dAWj-L13d8OX",
        "outputId": "fac8803d-a4ce-4e5b-a5e9-18ce2068bfc8"
      },
      "execution_count": null,
      "outputs": [
        {
          "output_type": "stream",
          "name": "stdout",
          "text": [
            "{'a': 10, 'b': 12.5, 'c': 'Krishna'}\n"
          ]
        },
        {
          "output_type": "execute_result",
          "data": {
            "text/plain": [
              "3"
            ]
          },
          "metadata": {},
          "execution_count": 7
        }
      ]
    },
    {
      "cell_type": "code",
      "source": [
        "d['g'] = 90\n",
        "d"
      ],
      "metadata": {
        "colab": {
          "base_uri": "https://localhost:8080/"
        },
        "id": "LgX0DzM6d91Y",
        "outputId": "9bdf517c-83d9-4320-fb80-9b0b1968f8fb"
      },
      "execution_count": null,
      "outputs": [
        {
          "output_type": "execute_result",
          "data": {
            "text/plain": [
              "{'a': 10, 'b': 12.5, 'c': 'Krishna', 'g': 90}"
            ]
          },
          "metadata": {},
          "execution_count": 8
        }
      ]
    },
    {
      "cell_type": "code",
      "source": [
        "e = {\"Name\":\"Rakesh\", \"id1\":101, \"Dept\":\"CSE\", \"Salary\":650000}\n",
        "print(e)\n",
        "print(e[\"Dept\"])\n",
        "d = e.get(\"Salary\")\n",
        "print(d)\n",
        "e[\"Salary\"]=780000\n",
        "print(e)\n",
        "e[\"subject\"] = \"Python\"\n",
        "print(e)"
      ],
      "metadata": {
        "colab": {
          "base_uri": "https://localhost:8080/"
        },
        "id": "-WK6nleQgQ1t",
        "outputId": "7ba546f9-1d42-4c4c-aaff-f26d4308f98f"
      },
      "execution_count": null,
      "outputs": [
        {
          "output_type": "stream",
          "name": "stdout",
          "text": [
            "{'Name': 'Rakesh', 'id1': 101, 'Dept': 'CSE', 'Salary': 650000}\n",
            "CSE\n",
            "650000\n",
            "{'Name': 'Rakesh', 'id1': 101, 'Dept': 'CSE', 'Salary': 780000}\n",
            "{'Name': 'Rakesh', 'id1': 101, 'Dept': 'CSE', 'Salary': 780000, 'subject': 'Python'}\n"
          ]
        }
      ]
    },
    {
      "cell_type": "code",
      "source": [
        "for p in e.keys():\n",
        "  print(p)\n",
        "for q in e.values():\n",
        "  print(q)\n",
        "for p,q in e.items():\n",
        "  print(p,q)\n",
        "for s in e.items():\n",
        "  print(s)\n",
        "for s in e.items():\n",
        "  print(s[0], s[1])\n",
        "r = sorted(list(e.keys()))\n",
        "print(r)"
      ],
      "metadata": {
        "colab": {
          "base_uri": "https://localhost:8080/"
        },
        "id": "NHa0hSqfgTUQ",
        "outputId": "b3d2ed83-c369-463e-a777-cc26607d1b0c"
      },
      "execution_count": null,
      "outputs": [
        {
          "output_type": "stream",
          "name": "stdout",
          "text": [
            "Name\n",
            "id1\n",
            "Dept\n",
            "Salary\n",
            "subject\n",
            "Rakesh\n",
            "101\n",
            "CSE\n",
            "780000\n",
            "Python\n",
            "Name Rakesh\n",
            "id1 101\n",
            "Dept CSE\n",
            "Salary 780000\n",
            "subject Python\n",
            "('Name', 'Rakesh')\n",
            "('id1', 101)\n",
            "('Dept', 'CSE')\n",
            "('Salary', 780000)\n",
            "('subject', 'Python')\n",
            "Name Rakesh\n",
            "id1 101\n",
            "Dept CSE\n",
            "Salary 780000\n",
            "subject Python\n",
            "['Dept', 'Name', 'Salary', 'id1', 'subject']\n"
          ]
        }
      ]
    },
    {
      "cell_type": "markdown",
      "source": [
        "**Qun :- Write a program to print squares of even numbers from 1 to 20.(Key is number and value is square of the number.)**"
      ],
      "metadata": {
        "id": "YpPbi3lVgWJM"
      }
    },
    {
      "cell_type": "code",
      "source": [
        "d = {i:i*i for i in range(1,21) if(i%2 == 0)}\n",
        "print(d)"
      ],
      "metadata": {
        "colab": {
          "base_uri": "https://localhost:8080/"
        },
        "id": "hOb3m1C6gY1L",
        "outputId": "8ce0a08f-8228-4036-99ef-ce4ba9c0a781"
      },
      "execution_count": null,
      "outputs": [
        {
          "output_type": "stream",
          "name": "stdout",
          "text": [
            "{2: 4, 4: 16, 6: 36, 8: 64, 10: 100, 12: 144, 14: 196, 16: 256, 18: 324, 20: 400}\n"
          ]
        }
      ]
    },
    {
      "cell_type": "markdown",
      "source": [
        "**Qun :- Write as program to print cubes of odd no.s from 30 to 50**"
      ],
      "metadata": {
        "id": "0radYCCJgbgw"
      }
    },
    {
      "cell_type": "code",
      "source": [
        "e = {i:i**3 for i in range(30, 51) if(i%2 != 0)}\n",
        "print(e)"
      ],
      "metadata": {
        "colab": {
          "base_uri": "https://localhost:8080/"
        },
        "id": "AXrCuE17geOd",
        "outputId": "efc185b9-a4cc-4275-ee2c-73637ef58e2b"
      },
      "execution_count": null,
      "outputs": [
        {
          "output_type": "stream",
          "name": "stdout",
          "text": [
            "{31: 29791, 33: 35937, 35: 42875, 37: 50653, 39: 59319, 41: 68921, 43: 79507, 45: 91125, 47: 103823, 49: 117649}\n"
          ]
        }
      ]
    },
    {
      "cell_type": "code",
      "source": [
        "# count of each character.\n",
        "x = \"Hyderabad\"\n",
        "d = {p:x.count(p) for p in x}\n",
        "print(d)"
      ],
      "metadata": {
        "colab": {
          "base_uri": "https://localhost:8080/"
        },
        "id": "DF5rYeFWggxB",
        "outputId": "770f7561-4667-4e18-b360-d4b6b1fbd050"
      },
      "execution_count": null,
      "outputs": [
        {
          "output_type": "stream",
          "name": "stdout",
          "text": [
            "{'H': 1, 'y': 1, 'd': 2, 'e': 1, 'r': 1, 'a': 2, 'b': 1}\n"
          ]
        }
      ]
    },
    {
      "cell_type": "markdown",
      "source": [
        "**Qun :- Write a program to read string from the user and print vowel character count.**"
      ],
      "metadata": {
        "id": "2P0noPMPgieG"
      }
    },
    {
      "cell_type": "code",
      "source": [
        "x = input()\n",
        "x.lower()\n",
        "vowel = ['a','e','i','o','u']\n",
        "\n",
        "d = {i:x.count(i) for i in x if i in vowel}\n",
        "print(d)"
      ],
      "metadata": {
        "colab": {
          "base_uri": "https://localhost:8080/"
        },
        "id": "O9CHcCuQglMa",
        "outputId": "6fd9d66c-51d5-4b04-ae48-99d958ea58ab"
      },
      "execution_count": null,
      "outputs": [
        {
          "output_type": "stream",
          "name": "stdout",
          "text": [
            "Madhya Pradesh\n",
            "{'a': 3, 'e': 1}\n"
          ]
        }
      ]
    },
    {
      "cell_type": "code",
      "source": [
        "x = input()\n",
        "x.lower()\n",
        "d = {p:x.count(p) for p in x if p in \"aeiou\" }\n",
        "m = max(d.values())\n",
        "\n",
        "for p,q in d.items():\n",
        "  if(q==m):\n",
        "    print(p)"
      ],
      "metadata": {
        "colab": {
          "base_uri": "https://localhost:8080/"
        },
        "id": "CKaMS5mXgu36",
        "outputId": "95c6bf75-cfa9-4991-e2ba-a4ef883bdb0d"
      },
      "execution_count": null,
      "outputs": [
        {
          "output_type": "stream",
          "name": "stdout",
          "text": [
            "Madhya Pradesh\n",
            "a\n"
          ]
        }
      ]
    },
    {
      "cell_type": "code",
      "source": [
        "s = input()\n",
        "x = input()[:1]\n",
        "s = s.lower()\n",
        "d={p:s.count(p) for p in s}\n",
        "m = max(d.values())\n",
        "l = []\n",
        "for p,q in d.items():\n",
        "  if(m==q):\n",
        "    l.append(p)\n",
        "l.sort()\n",
        "res = ''\n",
        "for p in s:\n",
        "  if(p==l[0]):\n",
        "    res = res+x\n",
        "  else:\n",
        "    res = res+p\n",
        "\n",
        "print(res)\n"
      ],
      "metadata": {
        "colab": {
          "base_uri": "https://localhost:8080/"
        },
        "id": "yOw1KRQvg_B2",
        "outputId": "3650bbf4-ec7b-4ae1-eb89-92ca985c0eed"
      },
      "execution_count": null,
      "outputs": [
        {
          "output_type": "stream",
          "name": "stdout",
          "text": [
            "ABciittTa\n",
            "x\n",
            "abciixxxa\n"
          ]
        }
      ]
    },
    {
      "cell_type": "code",
      "source": [
        "n = int(input(\"Enter no. of tickets: \"))\n",
        "l = list(map(int, input().split()))[:n]\n",
        "\n",
        "d = {p:l.count(p) for p in l}\n",
        "r = []\n",
        "for i,j in d.items():\n",
        "  if(i==j):\n",
        "    r.append(i)\n",
        "\n",
        "if(len(r)>=1):\n",
        "  print(max(r))\n",
        "else:\n",
        "  print(\"-1\")"
      ],
      "metadata": {
        "colab": {
          "base_uri": "https://localhost:8080/"
        },
        "id": "KaeSjn84hFqI",
        "outputId": "be1fc80f-7a17-4cc4-93b5-347b0b07df15"
      },
      "execution_count": null,
      "outputs": [
        {
          "output_type": "stream",
          "name": "stdout",
          "text": [
            "Enter no. of tickets: 15\n",
            "5 5 5 5 5 5 7 7 7 7 7 9 9 1 3\n",
            "1\n"
          ]
        }
      ]
    },
    {
      "cell_type": "markdown",
      "source": [
        "Qun :-  I/p :\n",
        "{\"raju: 45, \"anil\":56, \"zoo\":34, \"saritha\":2, \"bharathi\":29, \"krishna\": 32}\n",
        "\n",
        " o/p :\n",
        "{\"anil\": 56, \"bharathi\":29, ......}\n",
        "\n",
        "{\"saritha\":2, \"bharathi\": 29, ......}"
      ],
      "metadata": {
        "id": "yQ0zWBYphN9F"
      }
    },
    {
      "cell_type": "code",
      "source": [
        "d = {\"raju\": 45, \"anil\":56, \"zoo\":34, \"saritha\":2, \"bharathi\":29, \"krishna\": 32}\n",
        "\n",
        "v = sorted(d.values())\n",
        "k = sorted(d.keys())\n",
        "\n",
        "e = {}\n",
        "f = {}\n",
        "for s in k:\n",
        "  for p,q in d.items():\n",
        "    if(s==p):\n",
        "      e.update({p:q})\n",
        "      break\n",
        "for s in v:\n",
        "  for p,q in d.items():\n",
        "    if(s==q):\n",
        "      f.update({p:q})\n",
        "      break\n",
        "\n",
        "print(e)\n",
        "print(f)\n",
        "\n"
      ],
      "metadata": {
        "colab": {
          "base_uri": "https://localhost:8080/"
        },
        "id": "-H007-SchVlW",
        "outputId": "9495c837-6a92-42b1-9b72-40282a49abdb"
      },
      "execution_count": null,
      "outputs": [
        {
          "output_type": "stream",
          "name": "stdout",
          "text": [
            "{'anil': 56, 'bharathi': 29, 'krishna': 32, 'raju': 45, 'saritha': 2, 'zoo': 34}\n",
            "{'saritha': 2, 'bharathi': 29, 'krishna': 32, 'zoo': 34, 'raju': 45, 'anil': 56}\n"
          ]
        }
      ]
    },
    {
      "cell_type": "code",
      "source": [
        "s = input(\"Enter string: \")\n",
        "n = int(input(\"Enter limit: \"))\n",
        "l = list(map(str, s.split()))\n",
        "\n",
        "s = set()\n",
        "for i in l:\n",
        "  if l.count(i)>=n:\n",
        "    s.add(i)\n",
        "\n",
        "print(*s, end=\" \")"
      ],
      "metadata": {
        "colab": {
          "base_uri": "https://localhost:8080/"
        },
        "id": "aBlR_6EzhYBf",
        "outputId": "c1413982-0d73-4762-ef05-5303e0aa2483"
      },
      "execution_count": null,
      "outputs": [
        {
          "output_type": "stream",
          "name": "stdout",
          "text": [
            "Enter string: cat latt matter cat matter cat cat latt latt\n",
            "Enter limit: 3\n",
            "latt cat "
          ]
        }
      ]
    },
    {
      "cell_type": "code",
      "source": [
        "l = ['cat', 'latt', 'matter', 'cat', 'matter', 'cat', 'cat', 'latt', 'latt']\n",
        "l.count('cat')"
      ],
      "metadata": {
        "colab": {
          "base_uri": "https://localhost:8080/"
        },
        "id": "2gh9RXbCheX1",
        "outputId": "3c2f71d6-4ded-44e0-91da-917ac7c77c9f"
      },
      "execution_count": null,
      "outputs": [
        {
          "output_type": "execute_result",
          "data": {
            "text/plain": [
              "4"
            ]
          },
          "metadata": {},
          "execution_count": 21
        }
      ]
    },
    {
      "cell_type": "code",
      "source": [
        "d = {\"krishna\": [23,21,24], \"raju\":[21,20,18], \"saritha\":[22,20,16]}\n",
        "for p,q in d.items():\n",
        "  print(p)\n",
        "  s = sum(q)\n",
        "  avg = s/len(q)\n",
        "  print(\"Avg: %.2f\"%avg)"
      ],
      "metadata": {
        "colab": {
          "base_uri": "https://localhost:8080/"
        },
        "id": "knu5_AH-hk0h",
        "outputId": "e33a2296-0475-4edf-f446-492cdcabedd0"
      },
      "execution_count": null,
      "outputs": [
        {
          "output_type": "stream",
          "name": "stdout",
          "text": [
            "krishna\n",
            "Avg: 22.67\n",
            "raju\n",
            "Avg: 19.67\n",
            "saritha\n",
            "Avg: 19.33\n"
          ]
        }
      ]
    },
    {
      "cell_type": "markdown",
      "source": [
        "Qun :- The provided code stub will read in a dictionary containing key/value pairs of name:[marks] for a list of students. Print the average of the marks array for the student name provided, showing 2 places after the decimal.\n",
        "\n",
        "Input Format:\n",
        "\n",
        "The first line contains the integer , the number of students' records. The next  lines contain the names and marks obtained by a student, each value separated by a space. The final line contains query_name, the name of a student to query.\n",
        "\n",
        "Output Format:\n",
        "\n",
        "Print one line: The average of the marks obtained by the particular student correct to 2 decimal places.\n",
        "\n",
        "Sample Input:\n",
        "\n",
        "```\n",
        "3\n",
        "Krishna 67 68 69\n",
        "Arjun 70 98 63\n",
        "Malika 52 56 60\n",
        "Malika\n",
        "```\n",
        "Sample Output:\n",
        "```\n",
        "56.00\n",
        "``` **bold text**"
      ],
      "metadata": {
        "id": "3yYrY6rshnjP"
      }
    },
    {
      "cell_type": "code",
      "source": [
        "n = int(input())\n",
        "sm = {}\n",
        "for _ in range(n):\n",
        "    name, *line = input().split()\n",
        "    s = list(map(float, line))\n",
        "    sm[name] = s\n",
        "query_name = input()\n",
        "\n",
        "avg = sum(sm.get(query_name)) / len(sm.get(query_name))\n",
        "\n",
        "print(\"%.2f\"%avg)\n"
      ],
      "metadata": {
        "colab": {
          "base_uri": "https://localhost:8080/"
        },
        "id": "-sP4L66ahrLU",
        "outputId": "0602bc9f-c05b-446d-895b-65a5c2605237"
      },
      "execution_count": null,
      "outputs": [
        {
          "output_type": "stream",
          "name": "stdout",
          "text": [
            "3\n",
            "mallika 52 56 60\n",
            "arjun 70 58 63\n",
            "krishna 67 68 69\n",
            "mallika\n",
            "56.00\n"
          ]
        }
      ]
    },
    {
      "cell_type": "markdown",
      "source": [
        "Qun :-\n",
        "```\n",
        "d={\"Krishna\":{\"Python\":23, \"C\": 18, \"C++\": 20},\n",
        "\"saritha\":{\"Python\":21, \"C\": 19, \"C++\": 22},\n",
        "\"Raju\":{\"Python\":20, \"C\": 17, \"C++\": 22}}\n",
        "```\n",
        "output:-\n",
        "```\n",
        "Krishna\n",
        "------------\n",
        "23\n",
        "18\n",
        "20\n"
      ],
      "metadata": {
        "id": "RsVnOJbth3uX"
      }
    },
    {
      "cell_type": "code",
      "source": [
        "d={\"Krishna\":{\"Python\":23, \"C\": 18, \"C++\": 20},\n",
        "\"saritha\":{\"Python\":21, \"C\": 19, \"C++\": 22},\n",
        "\"Raju\":{\"Python\":20, \"C\": 17, \"C++\": 22}}\n",
        "\n",
        "for i,j in d.items():\n",
        "  print(i)\n",
        "  print(\"-------\")\n",
        "  for b in j.values():\n",
        "    print(b)\n"
      ],
      "metadata": {
        "colab": {
          "base_uri": "https://localhost:8080/"
        },
        "id": "OkR2dXD9iC85",
        "outputId": "8db3bb0f-b1f1-4720-e6a2-70577463a559"
      },
      "execution_count": null,
      "outputs": [
        {
          "output_type": "stream",
          "name": "stdout",
          "text": [
            "Krishna\n",
            "-------\n",
            "23\n",
            "18\n",
            "20\n",
            "saritha\n",
            "-------\n",
            "21\n",
            "19\n",
            "22\n",
            "Raju\n",
            "-------\n",
            "20\n",
            "17\n",
            "22\n"
          ]
        }
      ]
    },
    {
      "cell_type": "markdown",
      "source": [],
      "metadata": {
        "id": "sdwJCtPIiFV9"
      }
    }
  ]
}